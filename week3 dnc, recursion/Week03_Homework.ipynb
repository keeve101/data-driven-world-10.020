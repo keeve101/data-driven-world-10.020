{
    "cells": [
        {
            "cell_type": "code",
            "execution_count": 111,
            "metadata": {
                "collapsed": true,
                "deletable": false,
                "editable": false,
                "nbgrader": {
                    "grade": false,
                    "locked": true,
                    "solution": false
                }
            },
            "outputs": [],
            "source": [
                "### Grading script code \n",
                "### You don't need to read this, proceed to the next cell\n",
                "import sys\n",
                "import functools\n",
                "ipython = get_ipython()\n",
                "\n",
                "def set_traceback(val):\n",
                "    method_name = \"showtraceback\"\n",
                "    setattr(\n",
                "        ipython,\n",
                "        method_name,\n",
                "        functools.partial(\n",
                "            getattr(ipython, method_name),\n",
                "            exception_only=(not val)\n",
                "        )\n",
                "    )\n",
                "\n",
                "class AnswerError(Exception):\n",
                "  def __init__(self, message):\n",
                "    pass\n",
                "\n",
                "def exec_test(f, question):\n",
                "    try:\n",
                "        f()\n",
                "        print(question + \" Pass\")\n",
                "    except:\n",
                "        set_traceback(False) # do not remove\n",
                "        raise AnswerError(question + \" Fail\")"
            ]
        },
        {
            "cell_type": "markdown",
            "metadata": {
                "colab_type": "text",
                "deletable": false,
                "editable": false,
                "id": "acuSsZsDvgyx",
                "nbgrader": {
                    "grade": false,
                    "locked": true,
                    "solution": false
                }
            },
            "source": [
                "# Week 3 Problem Set\n",
                "\n",
                "## Homeworks\n",
                "\n",
                "**HW1.** *Fibonaci:* Write a function to find the Fibonacci number given an index. These are the example of a the first few numbers in Fibonacci series.\n",
                "\n",
                "| Indices    | 0 | 1 | 2 | 3 | 4 | 5 | 6 | 7  | 8  | 9  |\n",
                "|------------|---|---|---|---|---|---|---|----|----|----|\n",
                "| The series | 0 | 1 | 1 | 2 | 3 | 5 | 8 | 13 | 21 | 34 |\n",
                "\n",
                "We can write that the Fibonacci number at index *i* is given by:\n",
                "\n",
                "$fibo(i) = fibo(i-1) + fibo(i-2)$\n",
                "\n",
                "User recursion for your implementation."
            ]
        },
        {
            "cell_type": "code",
            "execution_count": 10,
            "metadata": {
                "colab": [],
                "colab_type": "code",
                "collapsed": true,
                "id": "jxIGTY0evkDL"
            },
            "outputs": [],
            "source": [
                "# best is functools.cache\n",
                "def cache(func):\n",
                "    memory = {}\n",
                "    # now any argument passed through fibonacci is first passed through wrap, wrap head around this\n",
                "    def wrap(*args):\n",
                "        if args not in memory:\n",
                "            memory[args] = func(*args)\n",
                "        return memory[args]\n",
                "    return wrap\n",
                "\n",
                "@cache\n",
                "def fibonacci(index):\n",
                "    # base case is 0 and 1\n",
                "    if index == 0:\n",
                "        return 0\n",
                "    elif index == 1:\n",
                "        return 1\n",
                "    # there are actually many repeaters\n",
                "    return fibonacci(index - 1) + fibonacci(index - 2)\n",
                "\n"
            ]
        },
        {
            "cell_type": "code",
            "execution_count": 9,
            "metadata": {
                "collapsed": true,
                "deletable": false,
                "editable": false,
                "nbgrader": {
                    "grade": true,
                    "grade_id": "hw11",
                    "locked": true,
                    "points": "1",
                    "solution": false
                }
            },
            "outputs": [],
            "source": [
                "assert fibonacci(0) == 0\n",
                "assert fibonacci(1) == 1\n",
                "assert fibonacci(3) == 2\n",
                "assert fibonacci(7) == 13\n",
                "assert fibonacci(9) == 34"
            ]
        },
        {
            "cell_type": "code",
            "execution_count": 114,
            "metadata": {
                "deletable": false,
                "editable": false,
                "nbgrader": {
                    "grade": true,
                    "grade_id": "hw12",
                    "locked": true,
                    "points": "1",
                    "solution": false
                }
            },
            "outputs": [],
            "source": [
                "###\n",
                "### AUTOGRADER TEST - DO NOT REMOVE\n",
                "###\n"
            ]
        },
        {
            "cell_type": "markdown",
            "metadata": {
                "colab_type": "text",
                "deletable": false,
                "editable": false,
                "id": "20H_lJq1v52I",
                "nbgrader": {
                    "grade": false,
                    "locked": true,
                    "solution": false
                }
            },
            "source": [
                "**HW2.** *Max-Heapify:* Recall the algorithm for max-heapify in restoring the *max-heap property* of a binary heap tree. In the previous implementation, we used iteration. Implement the same algorithm using recursion. "
            ]
        },
        {
            "cell_type": "code",
            "execution_count": 25,
            "metadata": {
                "colab": {
                    "base_uri": "https://localhost:8080/",
                    "height": 51
                },
                "colab_type": "code",
                "collapsed": true,
                "executionInfo": {
                    "elapsed": 830,
                    "status": "ok",
                    "timestamp": 1573111720760,
                    "user": {
                        "displayName": "Oka Kurniawan",
                        "photoUrl": "https://lh3.googleusercontent.com/a-/AAuE7mAnRP7A15yGfrraUO-0BiNVbNmYjI2f9jaZikjr=s64",
                        "userId": "05233922875329103764"
                    },
                    "user_tz": -480
                },
                "id": "6z3KGhnjv7NY",
                "outputId": "66fcd4d5-777c-441e-9042-b3cc3f536d6e"
            },
            "outputs": [],
            "source": [
                "def left_of(index):\n",
                "    return index * 2 + 1\n",
                "\n",
                "def right_of(index):\n",
                "    return (index + 1) * 2\n",
                "\n",
                "\n",
                "def max_heapify(array, index, heap_size):\n",
                "    left = left_of(index)\n",
                "    # if no children, quit recursion\n",
                "    if left >= heap_size:\n",
                "        return\n",
                "    right = right_of(index)\n",
                "    # if only left child exists\n",
                "    if right >= heap_size and left < heap_size:\n",
                "        max_child = left\n",
                "    else:\n",
                "        # ternary operator to look nice, picks out index of max child\n",
                "        max_child = left if array[left] > array[right] else right\n",
                "    # max heap: if child > parent, swap\n",
                "    if array[max_child] > array[index]:\n",
                "        array[max_child], array[index] = array[index], array[max_child]\n",
                "        max_heapify(array, max_child, heap_size)\n",
                "\n"
            ]
        },
        {
            "cell_type": "code",
            "execution_count": 27,
            "metadata": {
                "deletable": false,
                "editable": false,
                "nbgrader": {
                    "grade": true,
                    "grade_id": "hw21",
                    "locked": true,
                    "points": "1",
                    "solution": false
                }
            },
            "outputs": [
                {
                    "name": "stdout",
                    "output_type": "stream",
                    "text": [
                        "[16, 14, 10, 8, 7, 9, 3, 2, 4, 1]\n",
                        "[4, 16, 10, 14, 7, 9, 3, 2, 8, 1]\n"
                    ]
                }
            ],
            "source": [
                "result = [16, 4, 10, 14, 7, 9, 3, 2, 8, 1]\n",
                "max_heapify(result, 1, len(result))\n",
                "print(result)\n",
                "assert result == [16, 14, 10, 8, 7, 9, 3, 2, 4, 1]\n",
                "result = [4, 1, 10, 14, 16, 9, 3, 2, 8, 7]\n",
                "max_heapify(result, 1, len(result))\n",
                "print(result)\n",
                "assert result == [4, 16, 10, 14, 7, 9, 3, 2, 8, 1]"
            ]
        },
        {
            "cell_type": "code",
            "execution_count": null,
            "metadata": {
                "deletable": false,
                "editable": false,
                "nbgrader": {
                    "grade": true,
                    "grade_id": "hw22",
                    "locked": true,
                    "points": "1",
                    "solution": false
                }
            },
            "outputs": [],
            "source": [
                "###\n",
                "### AUTOGRADER TEST - DO NOT REMOVE\n",
                "###\n"
            ]
        },
        {
            "cell_type": "markdown",
            "metadata": {
                "colab_type": "text",
                "deletable": false,
                "editable": false,
                "id": "p40-50nDxLSv",
                "nbgrader": {
                    "grade": false,
                    "locked": true,
                    "solution": false
                }
            },
            "source": [
                "**HW3.** *String Permutation:* Write two functions to return an array of all the permutations of a string. For example, if the input is `abc`, the output should be\n",
                "\n",
                "```\n",
                "output = [\"abc\", \"acb\", \"bac\", \"bca\", \"cab\", \"cba\"]\n",
                "```\n",
                "\n",
                "The first function only has one argument which is the input string, i.e. `permutate(s)`. The second function is the recursive function with two arguments String 1 (`str1`) and and String 2 (`str2`). The first function calls the second method `permutate(\"\", s)` at the beginning. The second function should use a loop to move a character from `str2` to `str1` and recursively invokes it with a new `str1` and `str2`. "
            ]
        },
        {
            "cell_type": "code",
            "execution_count": 61,
            "metadata": {
                "colab": [],
                "colab_type": "code",
                "collapsed": true,
                "id": "xqgZRgR3xPrK"
            },
            "outputs": [],
            "source": [
                "# strings are immutable, try do some cocatenates and lists\n",
                "'''\n",
                "def permutate(s):\n",
                "    ls = []\n",
                "    # assumption that a string is only 1 word max\n",
                "    s = [char for char in s]\n",
                "    \n",
                "    # size \n",
                "    size = len(s)\n",
                "    permute(s, size, ls)\n",
                "    return ls\n",
                "\n",
                "def permute(s, size, ls):\n",
                "    # heap's algorithm - interesting time complexity https://stackoverflow.com/questions/42877789/heaps-algorithm-time-complexity\n",
                "    if size == 1:\n",
                "        ls.append(\"\".join(s))\n",
                "    else:\n",
                "        for i in range(size):\n",
                "            permute(s, size - 1, ls)\n",
                "            if size % 2 == 0:\n",
                "                s[i], s[size - 1] = s[size - 1], s[i]\n",
                "            else:\n",
                "                s[0], s[size - 1] = s[size - 1], s[0]\n",
                "'''\n",
                "# my inferior algorithm\n",
                "def permutate(s):\n",
                "    ls = []\n",
                "    permute(\"\", s, ls)\n",
                "    return ls\n",
                "\n",
                "def permute(str1, str2, ls):\n",
                "    # stop recursion if str1 has formed length of str2\n",
                "    if len(str1) == len(str2):\n",
                "        ls.append(str1)\n",
                "    else:\n",
                "        # very very inefficient\n",
                "        for char in str2:\n",
                "            if not char in str1:\n",
                "                permute(str1 + char, str2, ls)\n",
                "\n"
            ]
        },
        {
            "cell_type": "code",
            "execution_count": 59,
            "metadata": {
                "collapsed": true,
                "deletable": false,
                "editable": false,
                "nbgrader": {
                    "grade": true,
                    "grade_id": "hw31",
                    "locked": true,
                    "points": "1",
                    "solution": false
                }
            },
            "outputs": [],
            "source": [
                "assert set(permutate(\"abc\"))==set([\"abc\", \"acb\", \"bac\", \"bca\", \"cab\", \"cba\"])\n",
                "assert set(permutate(\"abcd\"))==set([\"abcd\", \"abdc\", \"acbd\", \"acdb\", \"adbc\", \"adcb\", \"bacd\", \"badc\", \"bcad\", \"bcda\", \"bdac\", \"bdca\", \"cabd\", \"cadb\", \"cbad\", \"cbda\", \"cdab\", \"cdba\", \"dabc\", \"dacb\", \"dbac\", \"dbca\", \"dcab\", \"dcba\"])"
            ]
        },
        {
            "cell_type": "code",
            "execution_count": null,
            "metadata": {
                "deletable": false,
                "editable": false,
                "nbgrader": {
                    "grade": true,
                    "grade_id": "hw32",
                    "locked": true,
                    "points": "1",
                    "solution": false
                }
            },
            "outputs": [],
            "source": [
                "###\n",
                "### AUTOGRADER TEST - DO NOT REMOVE\n",
                "###\n"
            ]
        },
        {
            "cell_type": "markdown",
            "metadata": {
                "colab_type": "text",
                "deletable": false,
                "editable": false,
                "id": "beTE9RrB0Zo4",
                "nbgrader": {
                    "grade": false,
                    "locked": true,
                    "solution": false
                }
            },
            "source": [
                "**HW4.** *GCD:* Implement the recursive implementation of Euclid's algorithm for Greatest Common Divisor (GCD).\n",
                "\n",
                "Hint: [Wikipedia: Greatest Common Divisor](https://en.wikipedia.org/wiki/Greatest_common_divisor#Euclid's_algorithm)"
            ]
        },
        {
            "cell_type": "code",
            "execution_count": 62,
            "metadata": {
                "colab": [],
                "colab_type": "code",
                "collapsed": true,
                "id": "rdcLfu6i0amV"
            },
            "outputs": [],
            "source": [
                "def gcd(a, b):\n",
                "    # if a=b, return according to algo\n",
                "    if a == b:\n",
                "        return a\n",
                "    # if either a or b is 0, return largest value\n",
                "    elif not a or not b:\n",
                "        return max(a, b)\n",
                "    # algo, ternary\n",
                "    return gcd(a - b, b) if a > b else gcd(a, b - a) "
            ]
        },
        {
            "cell_type": "code",
            "execution_count": 9,
            "metadata": {
                "collapsed": true,
                "deletable": false,
                "editable": false,
                "nbgrader": {
                    "grade": true,
                    "grade_id": "hw41",
                    "locked": true,
                    "points": "1",
                    "solution": false
                }
            },
            "outputs": [],
            "source": [
                "assert gcd(0,0) == 0\n",
                "assert gcd(2,0) == 2\n",
                "assert gcd(0,2) == 2\n",
                "assert gcd(2,3) == 1\n",
                "assert gcd(4, 28) == 4\n",
                "assert gcd(1024, 526) == 2"
            ]
        },
        {
            "cell_type": "code",
            "execution_count": null,
            "metadata": {
                "deletable": false,
                "editable": false,
                "nbgrader": {
                    "grade": true,
                    "grade_id": "hw42",
                    "locked": true,
                    "points": "1",
                    "solution": false
                }
            },
            "outputs": [],
            "source": [
                "###\n",
                "### AUTOGRADER TEST - DO NOT REMOVE\n",
                "###\n"
            ]
        }
    ],
    "metadata": {
        "kernelspec": {
            "display_name": "Python 3.10.4 64-bit",
            "language": "python",
            "name": "python3"
        },
        "language_info": {
            "codemirror_mode": {
                "name": "ipython",
                "version": 3
            },
            "file_extension": ".py",
            "mimetype": "text/x-python",
            "name": "python",
            "nbconvert_exporter": "python",
            "pygments_lexer": "ipython3",
            "version": "3.10.4"
        },
        "vscode": {
            "interpreter": {
                "hash": "369f2c481f4da34e4445cda3fffd2e751bd1c4d706f27375911949ba6bb62e1c"
            }
        }
    },
    "nbformat": 4,
    "nbformat_minor": 4
}
