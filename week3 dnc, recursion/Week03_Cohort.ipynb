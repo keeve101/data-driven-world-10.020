{
    "cells": [
        {
            "cell_type": "code",
            "execution_count": 19,
            "metadata": {
                "collapsed": true,
                "deletable": false,
                "editable": false,
                "nbgrader": {
                    "grade": false,
                    "locked": true,
                    "solution": false
                }
            },
            "outputs": [],
            "source": [
                "### Grading script code \n",
                "### You don't need to read this, proceed to the next cell\n",
                "import sys\n",
                "import functools\n",
                "ipython = get_ipython()\n",
                "\n",
                "def set_traceback(val):\n",
                "    method_name = \"showtraceback\"\n",
                "    setattr(\n",
                "        ipython,\n",
                "        method_name,\n",
                "        functools.partial(\n",
                "            getattr(ipython, method_name),\n",
                "            exception_only=(not val)\n",
                "        )\n",
                "    )\n",
                "\n",
                "class AnswerError(Exception):\n",
                "  def __init__(self, message):\n",
                "    pass\n",
                "\n",
                "def exec_test(f, question):\n",
                "    try:\n",
                "        f()\n",
                "        print(question + \" Pass\")\n",
                "    except:\n",
                "        set_traceback(False) # do not remove\n",
                "        raise AnswerError(question + \" Fail\")"
            ]
        },
        {
            "cell_type": "markdown",
            "metadata": {
                "colab_type": "text",
                "deletable": false,
                "editable": false,
                "id": "5UB5OHFfqSOs",
                "nbgrader": {
                    "grade": false,
                    "locked": true,
                    "solution": false
                }
            },
            "source": [
                "# Week 3 Problem Set\n",
                "\n",
                "## Cohort Sessions\n",
                "\n",
                "**CS1.** You have implemented factorial using iteration in Problem Set 1. Now, implement the factorial problem using a recursion. The function should takes in an Integer input and returns and Integer output which is the factorial of the input. Recall that:\n",
                "\n",
                "$n! = n \\times (n-1) \\times (n-2) \\times \\ldots \\times 2 \\times 1$\n",
                "\n",
                "You should consider the case when $n$ is zero and one as well. "
            ]
        },
        {
            "cell_type": "code",
            "execution_count": 20,
            "metadata": {
                "colab": [],
                "colab_type": "code",
                "collapsed": true,
                "id": "sHaonVRkq7AF"
            },
            "outputs": [],
            "source": [
                "# recursion\n",
                "def factorial_recursion(n):\n",
                "    if n == 1 or n == 0:\n",
                "        return 1\n",
                "    return factorial_recursion(n - 1) * n\n"
            ]
        },
        {
            "cell_type": "code",
            "execution_count": 21,
            "metadata": {
                "collapsed": true,
                "deletable": false,
                "editable": false,
                "nbgrader": {
                    "grade": true,
                    "grade_id": "cs11",
                    "locked": true,
                    "points": "1",
                    "solution": false
                }
            },
            "outputs": [],
            "source": [
                "assert factorial_recursion(0) == 1\n",
                "assert factorial_recursion(1) == 1\n",
                "assert factorial_recursion(5) == 120\n",
                "assert factorial_recursion(7) == 5040\n",
                "assert factorial_recursion(11) == 39916800"
            ]
        },
        {
            "cell_type": "code",
            "execution_count": 22,
            "metadata": {
                "deletable": false,
                "editable": false,
                "nbgrader": {
                    "grade": true,
                    "grade_id": "cs12",
                    "locked": true,
                    "points": "1",
                    "solution": false
                }
            },
            "outputs": [],
            "source": [
                "###\n",
                "### AUTOGRADER TEST - DO NOT REMOVE\n",
                "###\n"
            ]
        },
        {
            "cell_type": "markdown",
            "metadata": {
                "colab_type": "text",
                "deletable": false,
                "editable": false,
                "id": "BC_u9lsArNJN",
                "nbgrader": {
                    "grade": false,
                    "locked": true,
                    "solution": false
                }
            },
            "source": [
                "**CS2.** *Helper Function:* Write a function `palindrome(s)`to check if the string `s` is a [Palindrome](https://en.wikipedia.org/wiki/Palindrome). To do this, write another function `is_palindrome(s, left, right)` where `left` and `right` are indices from the left and from the right to check the character in `str`. Use recursion instead of iteration in this problem.\n"
            ]
        },
        {
            "cell_type": "code",
            "execution_count": 23,
            "metadata": {
                "colab": [],
                "colab_type": "code",
                "collapsed": true,
                "id": "rm_5U8O8rhEh"
            },
            "outputs": [],
            "source": [
                "# not sure why they asked for a helper function version but it's ok we make do\n",
                "\n",
                "def palindrome(s):\n",
                "    if len(s) < 2:\n",
                "        return True\n",
                "    # indices left and right passed into is_palindrome\n",
                "    return is_palindrome(s, s[0], s[-1])\n",
                "\n",
                "def is_palindrome(s, left, right):\n",
                "    # if left equal to right, return string without first and last char, else false\n",
                "    if left == right:\n",
                "        return palindrome(s[1:-1])\n",
                "    return False\n"
            ]
        },
        {
            "cell_type": "code",
            "execution_count": 24,
            "metadata": {
                "collapsed": true,
                "deletable": false,
                "editable": false,
                "nbgrader": {
                    "grade": true,
                    "grade_id": "cs21",
                    "locked": true,
                    "points": "1",
                    "solution": false
                }
            },
            "outputs": [],
            "source": [
                "assert not palindrome(\"moon\") \n",
                "assert palindrome(\"noon\") \n",
                "assert palindrome(\"a a\") \n",
                "assert palindrome(\"ada\") \n",
                "assert not palindrome(\"ad a\") "
            ]
        },
        {
            "cell_type": "code",
            "execution_count": 25,
            "metadata": {
                "deletable": false,
                "editable": false,
                "nbgrader": {
                    "grade": true,
                    "grade_id": "cs22",
                    "locked": true,
                    "points": "1",
                    "solution": false
                }
            },
            "outputs": [],
            "source": [
                "###\n",
                "### AUTOGRADER TEST - DO NOT REMOVE\n",
                "###\n"
            ]
        },
        {
            "cell_type": "markdown",
            "metadata": {
                "colab_type": "text",
                "deletable": false,
                "editable": false,
                "id": "aodn2sO1sNkc",
                "nbgrader": {
                    "grade": false,
                    "locked": true,
                    "solution": false
                }
            },
            "source": [
                "**CS3.** *Towers of Hanoi:* Write a function `move_disks(n, from_tower, to_tower, aux_tower)` which returns an array of String for the movement of disks that solves the [Towers of Hanoi problem](https://en.wikipedia.org/wiki/Tower_of_Hanoi). \n",
                "* The first argument `n` is an Integer input that gives information on the number of disk. \n",
                "* The second argument `from_tower` is a String which is the label of the origin tower.\n",
                "* The third argument `to_tower` is a String which is the label of the destination tower.\n",
                "* The last argument `aux_tower` is a String which is the label of the auxilary tower.\n"
            ]
        },
        {
            "cell_type": "code",
            "execution_count": 26,
            "metadata": {
                "colab": {
                    "base_uri": "https://localhost:8080/",
                    "height": 71
                },
                "colab_type": "code",
                "collapsed": true,
                "executionInfo": {
                    "elapsed": 793,
                    "status": "ok",
                    "timestamp": 1573110840424,
                    "user": {
                        "displayName": "Oka Kurniawan",
                        "photoUrl": "https://lh3.googleusercontent.com/a-/AAuE7mAnRP7A15yGfrraUO-0BiNVbNmYjI2f9jaZikjr=s64",
                        "userId": "05233922875329103764"
                    },
                    "user_tz": -480
                },
                "id": "3ZAskdmWsbBz",
                "outputId": "03172fec-5225-46c2-92be-39a9016212ee"
            },
            "outputs": [],
            "source": [
                "def move_disks(n, from_tower, to_tower, aux_tower):\n",
                "    result = []\n",
                "    # the nth to 1st iteration is really just a bunch of 1 disk movements, so base case is 1\n",
                "    if n == 1:\n",
                "        result.append(gen_string(n, from_tower, to_tower))\n",
                "        return result\n",
                "    # unmove the disk \n",
                "    result += (move_disks(n-1, from_tower, aux_tower, to_tower))\n",
                "    # move nth disk\n",
                "    result.append(gen_string(n, from_tower, to_tower))\n",
                "    # move the rest of disks\n",
                "    result += (move_disks(n-1, aux_tower, to_tower, from_tower))\n",
                "    return result\n",
                "def gen_string(n, t1, t2):\n",
                "    # just to make my life easier\n",
                "    return \"Move disk {} from {} to {}.\".format(n, t1, t2)"
            ]
        },
        {
            "cell_type": "code",
            "execution_count": 27,
            "metadata": {
                "deletable": false,
                "editable": false,
                "nbgrader": {
                    "grade": true,
                    "grade_id": "cs31",
                    "locked": true,
                    "points": "1",
                    "solution": false
                }
            },
            "outputs": [
                {
                    "name": "stdout",
                    "output_type": "stream",
                    "text": [
                        "['Move disk 1 from A to B.', 'Move disk 2 from A to C.', 'Move disk 1 from B to C.', 'Move disk 3 from A to B.', 'Move disk 1 from C to A.', 'Move disk 2 from C to B.', 'Move disk 1 from A to B.']\n",
                        "['Move disk 1 from A to C.', 'Move disk 2 from A to B.', 'Move disk 1 from C to B.', 'Move disk 3 from A to C.', 'Move disk 1 from B to A.', 'Move disk 2 from B to C.', 'Move disk 1 from A to C.', 'Move disk 4 from A to B.', 'Move disk 1 from C to B.', 'Move disk 2 from C to A.', 'Move disk 1 from B to A.', 'Move disk 3 from C to B.', 'Move disk 1 from A to C.', 'Move disk 2 from A to B.', 'Move disk 1 from C to B.']\n"
                    ]
                }
            ],
            "source": [
                "result = move_disks(3, \"A\", \"B\", \"C\")\n",
                "print(result)\n",
                "assert result == [\"Move disk 1 from A to B.\", \"Move disk 2 from A to C.\", \"Move disk 1 from B to C.\", \"Move disk 3 from A to B.\", \"Move disk 1 from C to A.\", \"Move disk 2 from C to B.\", \"Move disk 1 from A to B.\"]\n",
                "\n",
                "result = move_disks(4, \"A\", \"B\", \"C\")\n",
                "print(result)\n",
                "assert result == [\"Move disk 1 from A to C.\", \"Move disk 2 from A to B.\", \"Move disk 1 from C to B.\", \"Move disk 3 from A to C.\", \"Move disk 1 from B to A.\", \"Move disk 2 from B to C.\", \"Move disk 1 from A to C.\", \"Move disk 4 from A to B.\", \"Move disk 1 from C to B.\", \"Move disk 2 from C to A.\", \"Move disk 1 from B to A.\", \"Move disk 3 from C to B.\", \"Move disk 1 from A to C.\", \"Move disk 2 from A to B.\", \"Move disk 1 from C to B.\"]\n"
            ]
        },
        {
            "cell_type": "code",
            "execution_count": 28,
            "metadata": {
                "deletable": false,
                "editable": false,
                "nbgrader": {
                    "grade": true,
                    "grade_id": "cs32",
                    "locked": true,
                    "points": "1",
                    "solution": false
                }
            },
            "outputs": [],
            "source": [
                "###\n",
                "### AUTOGRADER TEST - DO NOT REMOVE\n",
                "###\n"
            ]
        },
        {
            "cell_type": "markdown",
            "metadata": {
                "colab_type": "text",
                "deletable": false,
                "editable": false,
                "id": "8YmeNBxwtpXy",
                "nbgrader": {
                    "grade": false,
                    "locked": true,
                    "solution": false
                }
            },
            "source": [
                "**CS4.** *Merge Sort:* Write functions to implement the Merge Sort algorithm. The first function `mergesort(array)` should takes in an array of Integers in `array`. The function should sort the array in place. The second function `merge(array, p, q, r)` should implements the merge procedure. This function takes in an array of Integers in. `array`, the starting index for the left array `p`, the ending index for the left array `q`, and the ending index for the right array `r`. You can use a helper function for your recursion if needed."
            ]
        },
        {
            "cell_type": "code",
            "execution_count": 29,
            "metadata": {
                "colab": [],
                "colab_type": "code",
                "collapsed": true,
                "id": "ErKPh0vsuJrZ"
            },
            "outputs": [],
            "source": [
                "# divide and conquer using index values, saves a lot of time on copying over arrays and splitting arrays\n",
                "def mergesort(array):\n",
                "    mergesort_recursive(array, 0, len(array))\n",
                "\n",
                "# renamed variables for clarity\n",
                "def mergesort_recursive(array, start, end):\n",
                "    # if \"array\" is not length 1, pseudo divide by indexes\n",
                "    if end - start >= 2:\n",
                "        midpoint = (start + end) // 2\n",
                "        # sort out the left and right halves\n",
                "        mergesort_recursive(array, start, midpoint)\n",
                "        mergesort_recursive(array, midpoint, end)\n",
                "\n",
                "        # call merge on both sorted halves\n",
                "        merge(array, start, midpoint, end)\n",
                "    \n",
                "\n",
                "def merge(array, start, left, right):\n",
                "    # create copies of left and right\n",
                "    left_array = array[start:left]\n",
                "    right_array = array[left:right]\n",
                "\n",
                "    # index pointers for left and right array\n",
                "    left_index = right_index = 0\n",
                "    \n",
                "    # left and right size, advantage of index manipulation is that you don't need to call len(left) and len(right), which is O(n) time wasters everytime it's called\n",
                "    left_size = left - start\n",
                "    right_size = right - left\n",
                "\n",
                "    # while still able to compare pointer values with left and right arrays: \n",
                "    while left_index < left_size and right_index < right_size:\n",
                "\n",
                "        # looking for minimum value as we are sorting in ascending order\n",
                "        if left_array[left_index] > right_array[right_index]:\n",
                "            min_value = right_array[right_index]\n",
                "            right_index += 1\n",
                "        else:\n",
                "            min_value = left_array[left_index]\n",
                "            left_index += 1\n",
                "\n",
                "        # replace value at main_array index with min_value\n",
                "        array[start] = min_value\n",
                "        start += 1\n",
                "    \n",
                "    # add the remainding arrays if any\n",
                "    while left_index < left_size:\n",
                "        array[start] = left_array[left_index]\n",
                "        left_index += 1\n",
                "        start += 1\n",
                "\n",
                "    while right_index < right_size:\n",
                "        array[start] = right_array[right_index]\n",
                "        right_index += 1\n",
                "        start += 1\n"
            ]
        },
        {
            "cell_type": "code",
            "execution_count": 30,
            "metadata": {
                "collapsed": true,
                "deletable": false,
                "editable": false,
                "nbgrader": {
                    "grade": true,
                    "grade_id": "cs41",
                    "locked": true,
                    "points": "1",
                    "solution": false
                }
            },
            "outputs": [
                {
                    "name": "stdout",
                    "output_type": "stream",
                    "text": [
                        "[1, 2, 2, 3, 4, 5, 6, 7]\n"
                    ]
                }
            ],
            "source": [
                "input_array = [5, 2, 4, 7, 1, 3, 2, 6]\n",
                "mergesort(input_array)\n",
                "print(input_array)\n",
                "assert input_array == [1, 2, 2, 3, 4, 5, 6, 7]"
            ]
        },
        {
            "cell_type": "code",
            "execution_count": 31,
            "metadata": {
                "deletable": false,
                "editable": false,
                "nbgrader": {
                    "grade": true,
                    "grade_id": "cs42",
                    "locked": true,
                    "points": "1",
                    "solution": false
                }
            },
            "outputs": [],
            "source": [
                "###\n",
                "### AUTOGRADER TEST - DO NOT REMOVE\n",
                "###\n"
            ]
        },
        {
            "cell_type": "code",
            "execution_count": null,
            "metadata": {},
            "outputs": [],
            "source": []
        }
    ],
    "metadata": {
        "colab": {
            "collapsed_sections": [],
            "name": "Week03_ProblemSet.ipynb",
            "provenance": []
        },
        "kernelspec": {
            "display_name": "Python 3.10.4 64-bit",
            "language": "python",
            "name": "python3"
        },
        "language_info": {
            "codemirror_mode": {
                "name": "ipython",
                "version": 3
            },
            "file_extension": ".py",
            "mimetype": "text/x-python",
            "name": "python",
            "nbconvert_exporter": "python",
            "pygments_lexer": "ipython3",
            "version": "3.10.4"
        },
        "vscode": {
            "interpreter": {
                "hash": "369f2c481f4da34e4445cda3fffd2e751bd1c4d706f27375911949ba6bb62e1c"
            }
        }
    },
    "nbformat": 4,
    "nbformat_minor": 4
}
