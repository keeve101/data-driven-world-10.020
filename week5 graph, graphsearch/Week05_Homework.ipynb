{
    "cells": [
        {
            "cell_type": "code",
            "execution_count": 152,
            "metadata": {
                "collapsed": true,
                "deletable": false,
                "editable": false,
                "nbgrader": {
                    "grade": false,
                    "locked": true,
                    "solution": false
                }
            },
            "outputs": [],
            "source": [
                "### Grading script code \n",
                "### You don't need to read this, proceed to the next cell\n",
                "import sys\n",
                "import functools\n",
                "ipython = get_ipython()\n",
                "\n",
                "def set_traceback(val):\n",
                "    method_name = \"showtraceback\"\n",
                "    setattr(\n",
                "        ipython,\n",
                "        method_name,\n",
                "        functools.partial(\n",
                "            getattr(ipython, method_name),\n",
                "            exception_only=(not val)\n",
                "        )\n",
                "    )\n",
                "\n",
                "class AnswerError(Exception):\n",
                "  def __init__(self, message):\n",
                "    pass\n",
                "\n",
                "def exec_test(f, question):\n",
                "    try:\n",
                "        f()\n",
                "        print(question + \" Pass\")\n",
                "    except:\n",
                "        set_traceback(False) # do not remove\n",
                "        raise AnswerError(question + \" Fail\")"
            ]
        },
        {
            "cell_type": "markdown",
            "metadata": {
                "deletable": false,
                "editable": false,
                "nbgrader": {
                    "grade": false,
                    "locked": true,
                    "solution": false
                }
            },
            "source": [
                "# Week 5 Problem Set\n",
                "\n",
                "## Homework"
            ]
        },
        {
            "cell_type": "markdown",
            "metadata": {
                "colab_type": "text",
                "deletable": false,
                "editable": false,
                "id": "9j25r7SUvPnV",
                "nbgrader": {
                    "grade": false,
                    "locked": true,
                    "solution": false
                }
            },
            "source": [
                "**HW1.** *Dictionary:* Write two functions:\n",
                "1. `count_degrees(G)`: which sums up the degrees of all vertices in the graph. The degree of a vertex is defined as the number of edges connected to a Vertex. The argument `G` is a dictionary that represents the graph.\n",
                "2. `count_edges(G)`: which counts the number of edges in the graph. An edge is defined as a connection between two vertices. The argument `G` is a dictionary."
            ]
        },
        {
            "cell_type": "code",
            "execution_count": 153,
            "metadata": {
                "colab": [],
                "colab_type": "code",
                "collapsed": true,
                "id": "v7t7of_0vQkI"
            },
            "outputs": [],
            "source": [
                "def count_degrees(G):\n",
                "    return sum([len(ls) for ls in G.values()])\n",
                "\n",
                "def count_edges(G):\n",
                "    # generate edge-pairs and remove duplicates to account for double-edges e.g A to B and B to A, then get length of set\n",
                "    return len(set([tuple_sort((key, value_of_ls)) for key, ls in G.items() for value_of_ls in ls]))\n",
                "\n",
                "def tuple_sort(tup):\n",
                "    return tup if tup[1] > tup[0] else tup[::-1]\n"
            ]
        },
        {
            "cell_type": "code",
            "execution_count": 154,
            "metadata": {
                "colab": [],
                "colab_type": "code",
                "collapsed": true,
                "deletable": false,
                "editable": false,
                "id": "Kil-jfkGRCnJ",
                "nbgrader": {
                    "grade": true,
                    "grade_id": "hw11",
                    "locked": true,
                    "points": "1",
                    "solution": false
                }
            },
            "outputs": [],
            "source": [
                "g1 = {\"A\": [\"B\", \"E\"],\n",
                "      \"B\": [\"A\", \"C\"],\n",
                "      \"C\": [\"B\", \"D\", \"E\"],\n",
                "      \"D\": [\"C\"],\n",
                "      \"E\": [\"A\", \"C\"]}\n",
                "\n",
                "d = count_degrees(g1)\n",
                "e = count_edges(g1)\n",
                "\n",
                "assert d == 10\n",
                "assert e == 5"
            ]
        },
        {
            "cell_type": "code",
            "execution_count": 155,
            "metadata": {
                "deletable": false,
                "editable": false,
                "nbgrader": {
                    "grade": true,
                    "grade_id": "hw12",
                    "locked": true,
                    "points": "1",
                    "solution": false
                }
            },
            "outputs": [],
            "source": [
                "###\n",
                "### AUTOGRADER TEST - DO NOT REMOVE\n",
                "###\n"
            ]
        },
        {
            "cell_type": "markdown",
            "metadata": {
                "deletable": false,
                "editable": false,
                "nbgrader": {
                    "grade": false,
                    "locked": true,
                    "solution": false
                }
            },
            "source": [
                "**HW2.** Create a class called `GraphSearch` which is a subclass of the class `Graph`. This class should override the method `_create_vertex(id)` and instantiate a `VertexSearch` object instead of `Vertex`."
            ]
        },
        {
            "cell_type": "code",
            "execution_count": 156,
            "metadata": {
                "collapsed": true
            },
            "outputs": [],
            "source": [
                "class Vertex:\n",
                "    def __init__(self, id_=\"\"):\n",
                "        self.id_ = id_\n",
                "        self.neighbours = {}\n",
                "    \n",
                "    def add_neighbour(self, nbr_vertex, weight=0):\n",
                "        self.neighbours[nbr_vertex] = weight\n",
                "    \n",
                "    def get_neighbours(self):\n",
                "        return [neighbour for neighbour in self.neighbours.keys()]\n",
                "    \n",
                "    def get_weight(self, neighbour):\n",
                "        return self.neighbours.get(neighbour)\n",
                "    \n",
                "    def __eq__(self, other):\n",
                "        return self.id_ == other.id_\n",
                "    \n",
                "    def __lt__(self, other):\n",
                "        return self.id_ < other.id_\n",
                "\n",
                "    def __hash__(self):\n",
                "        return hash(self.id_)\n",
                "    \n",
                "    def __str__(self):\n",
                "        return f\"Vertex {self.id_} is connected to: {', '.join([neighbour.id_ for neighbour in self.neighbours.keys()])}\""
            ]
        },
        {
            "cell_type": "code",
            "execution_count": 157,
            "metadata": {
                "collapsed": true
            },
            "outputs": [],
            "source": [
                "import sys\n",
                "\n",
                "class VertexSearch(Vertex):\n",
                "    # calling __init__ means that it does not inherit __init__ from Vertex\n",
                "    def __init__(self, *args):\n",
                "        # VertexSearch needs to inherit Vertex's __init__ and add stuff\n",
                "        Vertex.__init__(self, *args)\n",
                "        self.colour = \"white\"\n",
                "        self.d = sys.maxsize\n",
                "        self.f = sys.maxsize\n",
                "        self.parent = None\n"
            ]
        },
        {
            "cell_type": "code",
            "execution_count": 158,
            "metadata": {
                "collapsed": true
            },
            "outputs": [],
            "source": [
                "class Graph:\n",
                "    def __init__(self):\n",
                "        self.vertices = {}\n",
                "        \n",
                "    def _create_vertex(self, id_):\n",
                "        return Vertex(id_)\n",
                "    \n",
                "    def add_vertex(self, id_):\n",
                "        self.vertices[id_] = self._create_vertex(id_)\n",
                "    \n",
                "    def get_vertex(self, id_):\n",
                "        return self.vertices.get(id_)\n",
                "    \n",
                "    def add_edge(self, start_v, end_v, weight=0):\n",
                "       self.vertices[start_v].add_neighbour(self.vertices[end_v], weight)\n",
                "        \n",
                "    def get_neighbours(self, id_):\n",
                "        return [neighbour.id_ for neighbour in self.vertices[id_].get_neighbours()]\n",
                "    \n",
                "    def __contains__(self, id_):\n",
                "        return id_ in self.vertices.keys()\n",
                "    \n",
                "    def __iter__(self):\n",
                "        for k,v in self.vertices.items():\n",
                "            yield v \n",
                "    \n",
                "    @property\n",
                "    def num_vertices(self):\n",
                "        return len(self.vertices)"
            ]
        },
        {
            "cell_type": "code",
            "execution_count": 159,
            "metadata": {
                "collapsed": true
            },
            "outputs": [],
            "source": [
                "class GraphSearch(Graph):\n",
                "    def _create_vertex(self, id_):\n",
                "        return VertexSearch(id_)\n"
            ]
        },
        {
            "cell_type": "code",
            "execution_count": 160,
            "metadata": {
                "collapsed": true,
                "deletable": false,
                "editable": false,
                "nbgrader": {
                    "grade": true,
                    "grade_id": "hw21",
                    "locked": true,
                    "points": "1",
                    "solution": false
                }
            },
            "outputs": [],
            "source": [
                "g2 = GraphSearch()\n",
                "g2.add_vertex(\"Z\")\n",
                "assert(type(g2.vertices[\"Z\"]) == type(VertexSearch()))"
            ]
        },
        {
            "cell_type": "code",
            "execution_count": 161,
            "metadata": {
                "deletable": false,
                "editable": false,
                "nbgrader": {
                    "grade": true,
                    "grade_id": "hw22",
                    "locked": true,
                    "points": "1",
                    "solution": false
                }
            },
            "outputs": [],
            "source": [
                "###\n",
                "### AUTOGRADER TEST - DO NOT REMOVE\n",
                "###\n"
            ]
        },
        {
            "cell_type": "markdown",
            "metadata": {
                "colab_type": "text",
                "deletable": false,
                "editable": false,
                "id": "W_WeKdlDSN_k",
                "nbgrader": {
                    "grade": false,
                    "locked": true,
                    "solution": false
                }
            },
            "source": [
                "**HW3.** *Undirected Graph:* **You need to complete CS5 and CS6 before you do this homework.** Paste your answer for `Search2D` and `SearchBFS` classes into the cell below.\n",
                "\n",
                "Create a subclass of `GraphSearch` class called `UGraphSearch` for undirected graphs. All edges in undirected graphs are bidirectional (i.e. vertex1 <-> vertex2). \n",
                "This means that you need to override the `add_edge()` method."
            ]
        },
        {
            "cell_type": "code",
            "execution_count": 162,
            "metadata": {
                "collapsed": true
            },
            "outputs": [],
            "source": [
                "class Queue:\n",
                "    def __init__(self):\n",
                "        self.__items = []\n",
                "    \n",
                "    def enqueue(self, item):\n",
                "        self.__items.append(item)\n",
                "    \n",
                "    def dequeue(self):\n",
                "        return self.__items.pop(0)\n",
                "    \n",
                "    def peek(self):\n",
                "        return self.__items[0]\n",
                "    \n",
                "    @property\n",
                "    def is_empty(self):\n",
                "        return self.__items == []\n",
                "\n",
                "    @property\n",
                "    def size(self):\n",
                "        return len(self.__items)"
            ]
        },
        {
            "cell_type": "code",
            "execution_count": 163,
            "metadata": {
                "collapsed": true
            },
            "outputs": [],
            "source": [
                "import sys\n",
                "\n",
                "class Search2D:\n",
                "    def __init__(self, g):\n",
                "        self.graph = g\n",
                "    \n",
                "    def clear_vertices(self):\n",
                "        # for each vertice that is contained in self.graph, result its VertexSearch values\n",
                "        for vertice in self.graph.vertices.values():\n",
                "            vertice.colour = \"white\"\n",
                "            vertice.d = sys.maxsize\n",
                "            vertice.f = sys.maxsize\n",
                "            vertice.parent = None\n",
                "    \n",
                "    def __iter__(self):\n",
                "        return iter([v for v in self.graph])\n",
                "    \n",
                "    def __len__(self):\n",
                "        return len([v for v in self.graph.vertices])"
            ]
        },
        {
            "cell_type": "code",
            "execution_count": 164,
            "metadata": {
                "collapsed": true
            },
            "outputs": [],
            "source": [
                "class SearchBFS(Search2D):\n",
                "    def search_from(self, start):\n",
                "        vertex_queue = Queue()\n",
                "\n",
                "        starting_vertice = self.graph.vertices.get(start)\n",
                "        # added a if condition for invalid starts\n",
                "        if not starting_vertice:\n",
                "            return None\n",
                "        # start from starting vertice, set colour to \"grey\" since we haven't touched the neighbour \n",
                "        starting_vertice.colour = \"grey\"\n",
                "        # initialize d to 0 since this is our start\n",
                "        starting_vertice.d = 0\n",
                "        # enqueue the starting node\n",
                "        vertex_queue.enqueue(starting_vertice)\n",
                "        # while queue is not empty: \n",
                "        while vertex_queue.is_empty != True:\n",
                "            # obtain vertex in queue\n",
                "            current_vertex = vertex_queue.dequeue()\n",
                "\n",
                "            # for each neighbour of the current vertex: \n",
                "            for neighbour in current_vertex.get_neighbours():\n",
                "                # if we have not explored this neighbour, its colour should be 'white'\n",
                "                if neighbour.colour == \"white\":\n",
                "                    neighbour.colour = \"grey\"\n",
                "                    # its distance shall adopt the parent's + 1\n",
                "                    neighbour.d = current_vertex.d + 1\n",
                "                    # set the neighbour's parent to current_vertex\n",
                "                    neighbour.parent = current_vertex\n",
                "                    # enqueue neighbour\n",
                "                    vertex_queue.enqueue(neighbour)\n",
                "\n",
                "            # we have explored current_vertex, so set 'black'\n",
                "            current_vertex.colour = \"black\"\n",
                "    \n",
                "    def get_shortest_path(self, start, dest):\n",
                "        # if either start or dest exists, return \n",
                "        if not (self.graph.vertices.get(start) and self.graph.vertices.get(dest)):\n",
                "            return\n",
                "            \n",
                "        # if start == dest, no need to do anything just return [start]\n",
                "        if start == dest:\n",
                "            return [start]\n",
                "        # clear everything so we can start search and clear nodes\n",
                "        self.clear_vertices()\n",
                "        # explore from start\n",
                "        self.search_from(start)\n",
                "        # return recursive get_path call\n",
                "        return self.get_path(self.graph.vertices.get(start), self.graph.vertices.get(dest).parent, [dest])\n",
                "    \n",
                "    def get_path(self, start, dest, result):\n",
                "        if result[-1] == start.id_:\n",
                "            # result is flipped because we started from the child, where we really want to start from oldest parent\n",
                "            return result[::-1]\n",
                "        elif dest:\n",
                "            # if dest is not None, append parent id to result and do recursive call\n",
                "            result.append(dest.id_)\n",
                "            return self.get_path(start, dest.parent, result)\n",
                "        else: \n",
                "            # means that dest is None, no paths that lead from dest to start\n",
                "            return [\"No Path\"]"
            ]
        },
        {
            "cell_type": "code",
            "execution_count": 165,
            "metadata": {
                "colab": [],
                "colab_type": "code",
                "collapsed": true,
                "id": "_8Tm0u1rSUSr"
            },
            "outputs": [],
            "source": [
                "class UGraphSearch(GraphSearch):\n",
                "    def add_edge(self, start_v, end_v, weight=0):\n",
                "        # going from starting vertice to ending vertice is now bidirectional, i.e ending vertice to starting vertice is also added\n",
                "        ending_vertice = self.vertices.get(end_v)\n",
                "        start_vertice = self.vertices.get(start_v)\n",
                "\n",
                "        # recall that key-value pairs in Vertex.neighbours is {Vertex: weight}\n",
                "        start_vertice.add_neighbour(ending_vertice, weight)\n",
                "        ending_vertice.add_neighbour(start_vertice, weight)"
            ]
        },
        {
            "cell_type": "code",
            "execution_count": 166,
            "metadata": {
                "colab": [],
                "colab_type": "code",
                "collapsed": true,
                "deletable": false,
                "editable": false,
                "id": "sqoDWngtS0hu",
                "nbgrader": {
                    "grade": true,
                    "grade_id": "hw31",
                    "locked": true,
                    "points": "1",
                    "solution": false
                }
            },
            "outputs": [],
            "source": [
                "g2 = UGraphSearch()\n",
                "assert g2.vertices == {} and g2.num_vertices == 0\n",
                "g2.add_vertex(\"L\")\n",
                "g2.add_vertex(\"I\")\n",
                "g2.add_vertex(\"S\")\n",
                "g2.add_vertex(\"P\")\n",
                "assert g2.num_vertices == 4\n",
                "assert \"L\" in g2\n",
                "assert \"I\" in g2\n",
                "assert \"S\" in g2\n",
                "assert \"P\" in g2\n",
                "g2.add_edge(\"L\", \"I\")\n",
                "g2.add_edge(\"I\", \"S\")\n",
                "g2.add_edge(\"S\", \"P\")\n",
                "assert sorted(g2.get_neighbours(\"L\")) == [\"I\"]\n",
                "assert sorted(g2.get_neighbours(\"I\")) == [\"L\", \"S\"]\n",
                "assert sorted(g2.get_neighbours(\"S\")) == [\"I\", \"P\"]\n",
                "assert sorted(g2.get_neighbours(\"P\")) == [\"S\"]"
            ]
        },
        {
            "cell_type": "code",
            "execution_count": 167,
            "metadata": {
                "deletable": false,
                "editable": false,
                "nbgrader": {
                    "grade": true,
                    "grade_id": "hw32",
                    "locked": true,
                    "points": "1",
                    "solution": false
                }
            },
            "outputs": [],
            "source": [
                "###\n",
                "### AUTOGRADER TEST - DO NOT REMOVE\n",
                "###\n"
            ]
        },
        {
            "cell_type": "code",
            "execution_count": 168,
            "metadata": {
                "colab": [],
                "colab_type": "code",
                "collapsed": true,
                "deletable": false,
                "editable": false,
                "id": "ZibyOISBseeI",
                "nbgrader": {
                    "grade": true,
                    "grade_id": "hw33",
                    "locked": true,
                    "points": "1",
                    "solution": false
                }
            },
            "outputs": [],
            "source": [
                "g2 = UGraphSearch()\n",
                "g2.add_vertex(\"r\")\n",
                "g2.add_vertex(\"s\")\n",
                "g2.add_vertex(\"t\")\n",
                "g2.add_vertex(\"u\")\n",
                "g2.add_vertex(\"v\")\n",
                "g2.add_vertex(\"w\")\n",
                "g2.add_vertex(\"x\")\n",
                "g2.add_vertex(\"y\")\n",
                "g2.add_vertex(\"z\")\n",
                "g2.add_edge(\"r\", \"s\")\n",
                "g2.add_edge(\"r\", \"v\")\n",
                "g2.add_edge(\"s\", \"w\")\n",
                "g2.add_edge(\"t\", \"u\")\n",
                "g2.add_edge(\"t\", \"x\")\n",
                "g2.add_edge(\"t\", \"w\")\n",
                "g2.add_edge(\"u\", \"t\")\n",
                "g2.add_edge(\"u\", \"x\")\n",
                "g2.add_edge(\"u\", \"y\")\n",
                "g2.add_edge(\"v\", \"r\")\n",
                "g2.add_edge(\"w\", \"s\")\n",
                "g2.add_edge(\"w\", \"t\")\n",
                "g2.add_edge(\"w\", \"x\")\n",
                "g2.add_edge(\"x\", \"w\")\n",
                "g2.add_edge(\"x\", \"t\")\n",
                "g2.add_edge(\"x\", \"u\")\n",
                "g2.add_edge(\"x\", \"y\")\n",
                "g2.add_edge(\"y\", \"u\")\n",
                "g2.add_edge(\"y\", \"x\")\n",
                "gs = SearchBFS(g2)\n",
                "gs.search_from(\"s\")\n",
                "assert gs.graph.get_vertex(\"s\").d == 0\n",
                "assert gs.graph.get_vertex(\"t\").d == 2\n",
                "assert gs.graph.get_vertex(\"u\").d == 3\n",
                "assert gs.graph.get_vertex(\"v\").d == 2\n",
                "assert gs.graph.get_vertex(\"w\").d == 1\n",
                "assert gs.graph.get_vertex(\"x\").d == 2\n",
                "assert gs.graph.get_vertex(\"y\").d == 3\n",
                "assert gs.graph.get_vertex(\"r\").d == 1\n",
                "ans = gs.get_shortest_path(\"s\", \"u\")\n",
                "assert ans == [\"s\", \"w\", \"t\", \"u\"] or ans == [\"s\", \"w\", \"x\", \"u\"]\n",
                "ans = gs.get_shortest_path(\"v\", \"s\")\n",
                "assert ans == [\"v\", \"r\", \"s\"]\n",
                "ans = gs.get_shortest_path(\"v\", \"y\")\n",
                "assert ans == [\"v\", \"r\", \"s\", \"w\", \"x\", \"y\"]"
            ]
        },
        {
            "cell_type": "code",
            "execution_count": 169,
            "metadata": {
                "deletable": false,
                "editable": false,
                "nbgrader": {
                    "grade": true,
                    "grade_id": "hw34",
                    "locked": true,
                    "points": "1",
                    "solution": false
                }
            },
            "outputs": [],
            "source": [
                "###\n",
                "### AUTOGRADER TEST - DO NOT REMOVE\n",
                "###\n"
            ]
        },
        {
            "cell_type": "markdown",
            "metadata": {
                "colab_type": "text",
                "deletable": false,
                "editable": false,
                "id": "wBuZB4CLY2hM",
                "nbgrader": {
                    "grade": false,
                    "locked": true,
                    "solution": false
                }
            },
            "source": [
                "**HW4.** *Depth-First-Search:* Create a class `SearchDFS` as a child class of `Search2D` to implement Depth-First-Search algorithm. You should add one additional attribute:\n",
                "- `time`: which is an attribute to record the discovery time and the finishing time.\n",
                "\n",
                "The class should also implement the following methods:\n",
                "- `search()`: which modifies the vertices' properties such as `colour`, `d`, and `parent` following Depth-First-Search algorithm.\n",
                "- `dfs_visit(vert)`: which is the recursive method for visiting a vertex in Depth-First-Search algorithm."
            ]
        },
        {
            "cell_type": "code",
            "execution_count": 170,
            "metadata": {
                "colab": [],
                "colab_type": "code",
                "collapsed": true,
                "id": "xJ4GTlWNUYHT"
            },
            "outputs": [],
            "source": [
                "import sys\n",
                "\n",
                "class SearchDFS(Search2D):\n",
                "    def __init__(self, g):\n",
                "        self.graph = g\n",
                "        # time is really just the number of nodes explored\n",
                "        self.time = 0\n",
                "      \n",
                "    def search(self):\n",
                "        for vertice in self.graph.vertices.values():\n",
                "            # if vertice has not been visited, do dfs_visit\n",
                "            if vertice.colour == \"white\":\n",
                "                self.dfs_visit(vertice)\n",
                "\n",
                "    \n",
                "    def dfs_visit(self, vert):\n",
                "        # every time dfs_visit is called, a node is being explored, so self.time += 1\n",
                "        self.time += 1\n",
                "        vert.d = self.time\n",
                "        vert.colour = \"grey\"\n",
                "        for neighbour in vert.get_neighbours():\n",
                "            if neighbour.colour == \"white\":\n",
                "                neighbour.parent = vert\n",
                "                self.dfs_visit(neighbour)\n",
                "\n",
                "        # at this step, the node is being 'revisited', so we set the node to black and self.time += 1\n",
                "        vert.colour =  \"black\"\n",
                "        self.time += 1\n",
                "\n",
                "        # then we set vert.f, i.e the finishing time to self.time\n",
                "        vert.f = self.time\n"
            ]
        },
        {
            "cell_type": "code",
            "execution_count": 171,
            "metadata": {
                "colab": [],
                "colab_type": "code",
                "collapsed": true,
                "deletable": false,
                "editable": false,
                "id": "U09_8Sr7alja",
                "nbgrader": {
                    "grade": true,
                    "grade_id": "hw41",
                    "locked": true,
                    "points": "1",
                    "solution": false
                }
            },
            "outputs": [],
            "source": [
                "g4 = GraphSearch()\n",
                "g4.add_vertex(\"e\")\n",
                "g4.add_vertex(\"m\")\n",
                "g4.add_vertex(\"a\")\n",
                "g4.add_vertex(\"c\")\n",
                "g4.add_vertex(\"s\")\n",
                "g4.add_edge(\"e\", \"m\")\n",
                "g4.add_edge(\"m\", \"a\")\n",
                "g4.add_edge(\"a\", \"c\")\n",
                "g4.add_edge(\"c\", \"s\")\n",
                "gs = SearchDFS(g4)\n",
                "gs.search()\n",
                "assert gs.graph.get_vertex(\"e\").parent == None \n",
                "assert gs.graph.get_vertex(\"m\").parent == gs.graph.get_vertex(\"e\")\n",
                "assert gs.graph.get_vertex(\"m\").d == 2 and gs.graph.get_vertex(\"a\").f == 8\n",
                "assert gs.graph.get_vertex(\"c\").d == 4 and gs.graph.get_vertex(\"s\").f == 6"
            ]
        },
        {
            "cell_type": "code",
            "execution_count": 172,
            "metadata": {
                "deletable": false,
                "editable": false,
                "nbgrader": {
                    "grade": true,
                    "grade_id": "hw42",
                    "locked": true,
                    "points": "1",
                    "solution": false
                }
            },
            "outputs": [],
            "source": [
                "###\n",
                "### AUTOGRADER TEST - DO NOT REMOVE\n",
                "###\n"
            ]
        },
        {
            "cell_type": "markdown",
            "metadata": {
                "colab_type": "text",
                "deletable": false,
                "editable": false,
                "id": "DE7cWgQkbu6b",
                "nbgrader": {
                    "grade": false,
                    "locked": true,
                    "solution": false
                }
            },
            "source": [
                "**HW5.** *Topological Sort:* Create a function that takes in a `SearchDFS` object to perform a topological sort:\n",
                "- `topological_sort(g)`: which takes in a `SearchDFS` object and returns a list of `VertexSearch` objects sorted based on their `f` attribute. This method should call the `search()` method of the `SearchDFS` to first calculate the `f` attribute of the vertices. Note that you need to copy the `SearchDFS` object of your input argument so as not to mutate the object."
            ]
        },
        {
            "cell_type": "code",
            "execution_count": 173,
            "metadata": {
                "colab": [],
                "colab_type": "code",
                "collapsed": true,
                "id": "CoCNeXCrb3Sx"
            },
            "outputs": [],
            "source": [
                "import sys\n",
                "import copy\n",
                "\n",
                "def topological_sort(g):\n",
                "    # replace pointer variable g to a copy of SearchDFS behind g (confusing i know)\n",
                "    g = copy.copy(g)\n",
                "    g.search()\n",
                "    return sorted(g.graph.vertices.values(), key=lambda x: x.f, reverse=True)\n",
                "\n"
            ]
        },
        {
            "cell_type": "code",
            "execution_count": 174,
            "metadata": {
                "colab": [],
                "colab_type": "code",
                "collapsed": true,
                "deletable": false,
                "editable": false,
                "id": "-1hSwLKTdGPq",
                "nbgrader": {
                    "grade": true,
                    "grade_id": "hw51",
                    "locked": true,
                    "points": "1",
                    "solution": false
                }
            },
            "outputs": [],
            "source": [
                "import copy\n",
                "g = GraphSearch()\n",
                "g.add_vertex(\"3/4 cup milk\")\n",
                "g.add_vertex(\"1 egg\") \n",
                "g.add_vertex(\"1 tbl oil\")\n",
                "g.add_vertex(\"1 cup mix\")\n",
                "g.add_vertex(\"heat syrup\")\n",
                "g.add_vertex(\"heat griddle\")\n",
                "g.add_vertex(\"pour 1/4 cup\")\n",
                "g.add_vertex(\"turn when bubbly\")\n",
                "g.add_vertex(\"eat\")\n",
                "g.add_edge(\"3/4 cup milk\", \"1 cup mix\")\n",
                "g.add_edge(\"1 egg\", \"1 cup mix\")\n",
                "g.add_edge(\"1 tbl oil\", \"1 cup mix\")\n",
                "g.add_edge(\"1 cup mix\", \"heat syrup\")\n",
                "g.add_edge(\"1 cup mix\", \"pour 1/4 cup\")\n",
                "g.add_edge(\"heat griddle\", \"pour 1/4 cup\")\n",
                "g.add_edge(\"pour 1/4 cup\", \"turn when bubbly\")\n",
                "g.add_edge(\"turn when bubbly\", \"eat\")\n",
                "g.add_edge(\"heat syrup\", \"eat\")\n",
                "gs = SearchDFS(g)  \n",
                "\n",
                "path = topological_sort(gs)\n",
                "ans = [v.f for v in copy.copy(path)]\n",
                "assert ans == [18, 16, 14, 12, 11, 10, 9, 6, 5]\n",
                "ans = [v.id_ for v in copy.copy(path)]\n",
                "assert ans == ['heat griddle', '1 tbl oil', '1 egg', '3/4 cup milk', '1 cup mix', 'pour 1/4 cup', 'turn when bubbly', 'heat syrup', 'eat']"
            ]
        },
        {
            "cell_type": "code",
            "execution_count": 175,
            "metadata": {
                "deletable": false,
                "editable": false,
                "nbgrader": {
                    "grade": true,
                    "grade_id": "hw52",
                    "locked": true,
                    "points": "1",
                    "solution": false
                }
            },
            "outputs": [],
            "source": [
                "###\n",
                "### AUTOGRADER TEST - DO NOT REMOVE\n",
                "###\n"
            ]
        },
        {
            "cell_type": "code",
            "execution_count": null,
            "metadata": {},
            "outputs": [],
            "source": []
        }
    ],
    "metadata": {
        "kernelspec": {
            "display_name": "Python 3.10.4 64-bit",
            "language": "python",
            "name": "python3"
        },
        "language_info": {
            "codemirror_mode": {
                "name": "ipython",
                "version": 3
            },
            "file_extension": ".py",
            "mimetype": "text/x-python",
            "name": "python",
            "nbconvert_exporter": "python",
            "pygments_lexer": "ipython3",
            "version": "3.10.4"
        },
        "vscode": {
            "interpreter": {
                "hash": "369f2c481f4da34e4445cda3fffd2e751bd1c4d706f27375911949ba6bb62e1c"
            }
        }
    },
    "nbformat": 4,
    "nbformat_minor": 4
}
