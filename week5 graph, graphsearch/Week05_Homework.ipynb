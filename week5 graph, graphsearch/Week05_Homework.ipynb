{
    "cells": [
        {
            "cell_type": "code",
            "execution_count": 8,
            "metadata": {
                "collapsed": true,
                "nbgrader": {
                    "grade": false,
                    "locked": true,
                    "solution": false
                },
                "editable": false,
                "deletable": false
            },
            "outputs": [],
            "source": [
                "### Grading script code \n",
                "### You don't need to read this, proceed to the next cell\n",
                "import sys\n",
                "import functools\n",
                "ipython = get_ipython()\n",
                "\n",
                "def set_traceback(val):\n",
                "    method_name = \"showtraceback\"\n",
                "    setattr(\n",
                "        ipython,\n",
                "        method_name,\n",
                "        functools.partial(\n",
                "            getattr(ipython, method_name),\n",
                "            exception_only=(not val)\n",
                "        )\n",
                "    )\n",
                "\n",
                "class AnswerError(Exception):\n",
                "  def __init__(self, message):\n",
                "    pass\n",
                "\n",
                "def exec_test(f, question):\n",
                "    try:\n",
                "        f()\n",
                "        print(question + \" Pass\")\n",
                "    except:\n",
                "        set_traceback(False) # do not remove\n",
                "        raise AnswerError(question + \" Fail\")"
            ]
        },
        {
            "cell_type": "markdown",
            "metadata": {
                "nbgrader": {
                    "grade": false,
                    "locked": true,
                    "solution": false
                },
                "editable": false,
                "deletable": false
            },
            "source": [
                "# Week 5 Problem Set\n",
                "\n",
                "## Homework"
            ]
        },
        {
            "cell_type": "markdown",
            "metadata": {
                "colab_type": "text",
                "id": "9j25r7SUvPnV",
                "nbgrader": {
                    "grade": false,
                    "locked": true,
                    "solution": false
                },
                "editable": false,
                "deletable": false
            },
            "source": [
                "**HW1.** *Dictionary:* Write two functions:\n",
                "1. `count_degrees(G)`: which sums up the degrees of all vertices in the graph. The degree of a vertex is defined as the number of edges connected to a Vertex. The argument `G` is a dictionary that represents the graph.\n",
                "2. `count_edges(G)`: which counts the number of edges in the graph. An edge is defined as a connection between two vertices. The argument `G` is a dictionary."
            ]
        },
        {
            "cell_type": "code",
            "execution_count": 9,
            "metadata": {
                "colab": [],
                "colab_type": "code",
                "collapsed": true,
                "id": "v7t7of_0vQkI"
            },
            "outputs": [],
            "source": [
                "def count_degrees(G):\n",
                "    ###\n",
                "    ### YOUR CODE HERE\n",
                "    ###\n",
                "    pass\n",
                "\n",
                "def count_edges(G):\n",
                "    ###\n",
                "    ### YOUR CODE HERE\n",
                "    ###\n",
                "    pass"
            ]
        },
        {
            "cell_type": "code",
            "execution_count": 10,
            "metadata": {
                "colab": [],
                "colab_type": "code",
                "collapsed": true,
                "id": "Kil-jfkGRCnJ",
                "nbgrader": {
                    "grade": true,
                    "grade_id": "hw11",
                    "locked": true,
                    "points": "1",
                    "solution": false
                },
                "editable": false,
                "deletable": false
            },
            "outputs": [],
            "source": [
                "g1 = {\"A\": [\"B\", \"E\"],\n",
                "      \"B\": [\"A\", \"C\"],\n",
                "      \"C\": [\"B\", \"D\", \"E\"],\n",
                "      \"D\": [\"C\"],\n",
                "      \"E\": [\"A\", \"C\"]}\n",
                "\n",
                "d = count_degrees(g1)\n",
                "e = count_edges(g1)\n",
                "\n",
                "assert d == 10\n",
                "assert e == 5"
            ]
        },
        {
            "cell_type": "code",
            "execution_count": 11,
            "metadata": {
                "nbgrader": {
                    "grade": true,
                    "grade_id": "hw12",
                    "locked": true,
                    "points": "1",
                    "solution": false
                },
                "editable": false,
                "deletable": false
            },
            "outputs": [],
            "source": [
                "###\n",
                "### AUTOGRADER TEST - DO NOT REMOVE\n",
                "###\n"
            ]
        },
        {
            "cell_type": "markdown",
            "metadata": {
                "nbgrader": {
                    "grade": false,
                    "locked": true,
                    "solution": false
                },
                "editable": false,
                "deletable": false
            },
            "source": [
                "**HW2.** Create a class called `GraphSearch` which is a subclass of the class `Graph`. This class should override the method `_create_vertex(id)` and instantiate a `VertexSearch` object instead of `Vertex`."
            ]
        },
        {
            "cell_type": "code",
            "execution_count": 12,
            "metadata": {
                "collapsed": true
            },
            "outputs": [],
            "source": [
                "# Copy Vertex class from Cohort\n",
                "class Vertex:\n",
                "    pass\n",
                "    ###\n",
                "    ### YOUR CODE HERE\n",
                "    ###\n"
            ]
        },
        {
            "cell_type": "code",
            "execution_count": 13,
            "metadata": {
                "collapsed": true
            },
            "outputs": [],
            "source": [
                "# Copy VertexSearch class from Cohort\n",
                "\n",
                "import sys\n",
                "\n",
                "class VertexSearch(Vertex):\n",
                "    def __init__(self, id_=\"\"):\n",
                "        ###\n",
                "        ### YOUR CODE HERE\n",
                "        ###\n"
            ]
        },
        {
            "cell_type": "code",
            "execution_count": 14,
            "metadata": {
                "collapsed": true
            },
            "outputs": [],
            "source": [
                "#Copy Graph over from Cohort\n",
                "class Graph:\n",
                "    def __init__(self):\n",
                "        self.vertices = {}\n",
                "    ###\n",
                "    ### YOUR CODE HERE\n",
                "    ###\n"
            ]
        },
        {
            "cell_type": "code",
            "execution_count": 15,
            "metadata": {
                "collapsed": true
            },
            "outputs": [],
            "source": [
                "class GraphSearch(Graph):\n",
                "    ##BEGIN SOLUTION\n",
                "    def _create_vertex(self, id_):\n",
                "        return VertexSearch(id_)\n",
                "    ##END SOLUTION\n",
                "    pass"
            ]
        },
        {
            "cell_type": "code",
            "execution_count": 16,
            "metadata": {
                "collapsed": true,
                "nbgrader": {
                    "grade": true,
                    "grade_id": "hw21",
                    "locked": true,
                    "points": "1",
                    "solution": false
                },
                "editable": false,
                "deletable": false
            },
            "outputs": [],
            "source": [
                "g2 = GraphSearch()\n",
                "g2.add_vertex(\"Z\")\n",
                "assert(type(g2.vertices[\"Z\"]) == type(VertexSearch()))"
            ]
        },
        {
            "cell_type": "code",
            "execution_count": 17,
            "metadata": {
                "nbgrader": {
                    "grade": true,
                    "grade_id": "hw22",
                    "locked": true,
                    "points": "1",
                    "solution": false
                },
                "editable": false,
                "deletable": false
            },
            "outputs": [],
            "source": [
                "###\n",
                "### AUTOGRADER TEST - DO NOT REMOVE\n",
                "###\n"
            ]
        },
        {
            "cell_type": "markdown",
            "metadata": {
                "colab_type": "text",
                "id": "W_WeKdlDSN_k",
                "nbgrader": {
                    "grade": false,
                    "locked": true,
                    "solution": false
                },
                "editable": false,
                "deletable": false
            },
            "source": [
                "**HW3.** *Undirected Graph:* **You need to complete CS5 and CS6 before you do this homework.** Paste your answer for `Search2D` and `SearchBFS` classes into the cell below.\n",
                "\n",
                "Create a subclass of `GraphSearch` class called `UGraphSearch` for undirected graphs. All edges in undirected graphs are bidirectional (i.e. vertex1 <-> vertex2). \n",
                "This means that you need to override the `add_edge()` method."
            ]
        },
        {
            "cell_type": "code",
            "execution_count": 18,
            "metadata": {
                "collapsed": true
            },
            "outputs": [],
            "source": [
                "#Copy Queue over from Wk4 Homework\n",
                "class Queue:\n",
                "    pass\n",
                "    ###\n",
                "    ### YOUR CODE HERE\n",
                "    ###\n"
            ]
        },
        {
            "cell_type": "code",
            "execution_count": 19,
            "metadata": {
                "collapsed": true
            },
            "outputs": [],
            "source": [
                "# copy Search2D over from CS5\n",
                "\n",
                "import sys\n",
                "\n",
                "class Search2D:\n",
                "    def __init__(self, g):\n",
                "        self.graph = g\n",
                "        \n",
                "    ###\n",
                "    ### YOUR CODE HERE\n",
                "    ###\n"
            ]
        },
        {
            "cell_type": "code",
            "execution_count": 20,
            "metadata": {
                "collapsed": true
            },
            "outputs": [],
            "source": [
                "# copy SearchBFS over from CS6\n",
                "\n",
                "class SearchBFS(Search2D):\n",
                "    pass\n",
                "    ###\n",
                "    ### YOUR CODE HERE\n",
                "    ###\n"
            ]
        },
        {
            "cell_type": "code",
            "execution_count": 21,
            "metadata": {
                "colab": [],
                "colab_type": "code",
                "collapsed": true,
                "id": "_8Tm0u1rSUSr"
            },
            "outputs": [],
            "source": [
                "class UGraphSearch(GraphSearch):\n",
                "    def add_edge(self, start_v, end_v, weight=0):\n",
                "        ###\n",
                "        ### YOUR CODE HERE\n",
                "        ###\n",
                "        pass"
            ]
        },
        {
            "cell_type": "code",
            "execution_count": 22,
            "metadata": {
                "colab": [],
                "colab_type": "code",
                "collapsed": true,
                "id": "sqoDWngtS0hu",
                "nbgrader": {
                    "grade": true,
                    "grade_id": "hw31",
                    "locked": true,
                    "points": "1",
                    "solution": false
                },
                "editable": false,
                "deletable": false
            },
            "outputs": [],
            "source": [
                "g2 = UGraphSearch()\n",
                "assert g2.vertices == {} and g2.num_vertices == 0\n",
                "g2.add_vertex(\"L\")\n",
                "g2.add_vertex(\"I\")\n",
                "g2.add_vertex(\"S\")\n",
                "g2.add_vertex(\"P\")\n",
                "assert g2.num_vertices == 4\n",
                "assert \"L\" in g2\n",
                "assert \"I\" in g2\n",
                "assert \"S\" in g2\n",
                "assert \"P\" in g2\n",
                "g2.add_edge(\"L\", \"I\")\n",
                "g2.add_edge(\"I\", \"S\")\n",
                "g2.add_edge(\"S\", \"P\")\n",
                "assert sorted(g2.get_neighbours(\"L\")) == [\"I\"]\n",
                "assert sorted(g2.get_neighbours(\"I\")) == [\"L\", \"S\"]\n",
                "assert sorted(g2.get_neighbours(\"S\")) == [\"I\", \"P\"]\n",
                "assert sorted(g2.get_neighbours(\"P\")) == [\"S\"]"
            ]
        },
        {
            "cell_type": "code",
            "execution_count": 23,
            "metadata": {
                "nbgrader": {
                    "grade": true,
                    "grade_id": "hw32",
                    "locked": true,
                    "points": "1",
                    "solution": false
                },
                "editable": false,
                "deletable": false
            },
            "outputs": [],
            "source": [
                "###\n",
                "### AUTOGRADER TEST - DO NOT REMOVE\n",
                "###\n"
            ]
        },
        {
            "cell_type": "code",
            "execution_count": 24,
            "metadata": {
                "colab": [],
                "colab_type": "code",
                "collapsed": true,
                "id": "ZibyOISBseeI",
                "nbgrader": {
                    "grade": true,
                    "grade_id": "hw33",
                    "locked": true,
                    "points": "1",
                    "solution": false
                },
                "editable": false,
                "deletable": false
            },
            "outputs": [],
            "source": [
                "g2 = UGraphSearch()\n",
                "g2.add_vertex(\"r\")\n",
                "g2.add_vertex(\"s\")\n",
                "g2.add_vertex(\"t\")\n",
                "g2.add_vertex(\"u\")\n",
                "g2.add_vertex(\"v\")\n",
                "g2.add_vertex(\"w\")\n",
                "g2.add_vertex(\"x\")\n",
                "g2.add_vertex(\"y\")\n",
                "g2.add_vertex(\"z\")\n",
                "g2.add_edge(\"r\", \"s\")\n",
                "g2.add_edge(\"r\", \"v\")\n",
                "g2.add_edge(\"s\", \"w\")\n",
                "g2.add_edge(\"t\", \"u\")\n",
                "g2.add_edge(\"t\", \"x\")\n",
                "g2.add_edge(\"t\", \"w\")\n",
                "g2.add_edge(\"u\", \"t\")\n",
                "g2.add_edge(\"u\", \"x\")\n",
                "g2.add_edge(\"u\", \"y\")\n",
                "g2.add_edge(\"v\", \"r\")\n",
                "g2.add_edge(\"w\", \"s\")\n",
                "g2.add_edge(\"w\", \"t\")\n",
                "g2.add_edge(\"w\", \"x\")\n",
                "g2.add_edge(\"x\", \"w\")\n",
                "g2.add_edge(\"x\", \"t\")\n",
                "g2.add_edge(\"x\", \"u\")\n",
                "g2.add_edge(\"x\", \"y\")\n",
                "g2.add_edge(\"y\", \"u\")\n",
                "g2.add_edge(\"y\", \"x\")\n",
                "gs = SearchBFS(g2)\n",
                "gs.search_from(\"s\")\n",
                "assert gs.graph.get_vertex(\"s\").d == 0\n",
                "assert gs.graph.get_vertex(\"t\").d == 2\n",
                "assert gs.graph.get_vertex(\"u\").d == 3\n",
                "assert gs.graph.get_vertex(\"v\").d == 2\n",
                "assert gs.graph.get_vertex(\"w\").d == 1\n",
                "assert gs.graph.get_vertex(\"x\").d == 2\n",
                "assert gs.graph.get_vertex(\"y\").d == 3\n",
                "assert gs.graph.get_vertex(\"r\").d == 1\n",
                "ans = gs.get_shortest_path(\"s\", \"u\")\n",
                "assert ans == [\"s\", \"w\", \"t\", \"u\"] or ans == [\"s\", \"w\", \"x\", \"u\"]\n",
                "ans = gs.get_shortest_path(\"v\", \"s\")\n",
                "assert ans == [\"v\", \"r\", \"s\"]\n",
                "ans = gs.get_shortest_path(\"v\", \"y\")\n",
                "assert ans == [\"v\", \"r\", \"s\", \"w\", \"x\", \"y\"]"
            ]
        },
        {
            "cell_type": "code",
            "execution_count": 25,
            "metadata": {
                "nbgrader": {
                    "grade": true,
                    "grade_id": "hw34",
                    "locked": true,
                    "points": "1",
                    "solution": false
                },
                "editable": false,
                "deletable": false
            },
            "outputs": [],
            "source": [
                "###\n",
                "### AUTOGRADER TEST - DO NOT REMOVE\n",
                "###\n"
            ]
        },
        {
            "cell_type": "markdown",
            "metadata": {
                "colab_type": "text",
                "id": "wBuZB4CLY2hM",
                "nbgrader": {
                    "grade": false,
                    "locked": true,
                    "solution": false
                },
                "editable": false,
                "deletable": false
            },
            "source": [
                "**HW4.** *Depth-First-Search:* Create a class `SearchDFS` as a child class of `Search2D` to implement Depth-First-Search algorithm. You should add one additional attribute:\n",
                "- `time`: which is an attribute to record the discovery time and the finishing time.\n",
                "\n",
                "The class should also implement the following methods:\n",
                "- `search()`: which modifies the vertices' properties such as `colour`, `d`, and `parent` following Depth-First-Search algorithm.\n",
                "- `dfs_visit(vert)`: which is the recursive method for visiting a vertex in Depth-First-Search algorithm."
            ]
        },
        {
            "cell_type": "code",
            "execution_count": 26,
            "metadata": {
                "colab": [],
                "colab_type": "code",
                "collapsed": true,
                "id": "xJ4GTlWNUYHT"
            },
            "outputs": [],
            "source": [
                "import sys\n",
                "\n",
                "class SearchDFS(Search2D):\n",
                "    def __init__(self, g):\n",
                "        self.graph = g\n",
                "        self.time = 0\n",
                "      \n",
                "    def search(self):\n",
                "        ###\n",
                "        ### YOUR CODE HERE\n",
                "        ###\n",
                "        pass\n",
                "    \n",
                "    def dfs_visit(self, vert):\n",
                "        ###\n",
                "        ### YOUR CODE HERE\n",
                "        ###\n",
                "        pass"
            ]
        },
        {
            "cell_type": "code",
            "execution_count": 27,
            "metadata": {
                "colab": [],
                "colab_type": "code",
                "collapsed": true,
                "id": "U09_8Sr7alja",
                "nbgrader": {
                    "grade": true,
                    "grade_id": "hw41",
                    "locked": true,
                    "points": "1",
                    "solution": false
                },
                "editable": false,
                "deletable": false
            },
            "outputs": [],
            "source": [
                "g4 = GraphSearch()\n",
                "g4.add_vertex(\"e\")\n",
                "g4.add_vertex(\"m\")\n",
                "g4.add_vertex(\"a\")\n",
                "g4.add_vertex(\"c\")\n",
                "g4.add_vertex(\"s\")\n",
                "g4.add_edge(\"e\", \"m\")\n",
                "g4.add_edge(\"m\", \"a\")\n",
                "g4.add_edge(\"a\", \"c\")\n",
                "g4.add_edge(\"c\", \"s\")\n",
                "gs = SearchDFS(g4)\n",
                "gs.search()\n",
                "assert gs.graph.get_vertex(\"e\").parent == None \n",
                "assert gs.graph.get_vertex(\"m\").parent == gs.graph.get_vertex(\"e\")\n",
                "\n",
                "assert gs.graph.get_vertex(\"m\").d == 2 and gs.graph.get_vertex(\"a\").f == 8\n",
                "assert gs.graph.get_vertex(\"c\").d == 4 and gs.graph.get_vertex(\"s\").f == 6"
            ]
        },
        {
            "cell_type": "code",
            "execution_count": 28,
            "metadata": {
                "nbgrader": {
                    "grade": true,
                    "grade_id": "hw42",
                    "locked": true,
                    "points": "1",
                    "solution": false
                },
                "editable": false,
                "deletable": false
            },
            "outputs": [],
            "source": [
                "###\n",
                "### AUTOGRADER TEST - DO NOT REMOVE\n",
                "###\n"
            ]
        },
        {
            "cell_type": "markdown",
            "metadata": {
                "colab_type": "text",
                "id": "DE7cWgQkbu6b",
                "nbgrader": {
                    "grade": false,
                    "locked": true,
                    "solution": false
                },
                "editable": false,
                "deletable": false
            },
            "source": [
                "**HW5.** *Topological Sort:* Create a function that takes in a `SearchDFS` object to perform a topological sort:\n",
                "- `topological_sort(g)`: which takes in a `SearchDFS` object and returns a list of `VertexSearch` objects sorted based on their `f` attribute. This method should call the `search()` method of the `SearchDFS` to first calculate the `f` attribute of the vertices. Note that you need to copy the `SearchDFS` object of your input argument so as not to mutate the object."
            ]
        },
        {
            "cell_type": "code",
            "execution_count": 29,
            "metadata": {
                "colab": [],
                "colab_type": "code",
                "collapsed": true,
                "id": "CoCNeXCrb3Sx"
            },
            "outputs": [],
            "source": [
                "import sys\n",
                "import copy\n",
                "\n",
                "def topological_sort(g):\n",
                "    ###\n",
                "    ### YOUR CODE HERE\n",
                "    ###\n",
                "    pass"
            ]
        },
        {
            "cell_type": "code",
            "execution_count": 30,
            "metadata": {
                "colab": [],
                "colab_type": "code",
                "collapsed": true,
                "id": "-1hSwLKTdGPq",
                "nbgrader": {
                    "grade": true,
                    "grade_id": "hw51",
                    "locked": true,
                    "points": "1",
                    "solution": false
                },
                "editable": false,
                "deletable": false
            },
            "outputs": [],
            "source": [
                "import copy\n",
                "g = GraphSearch()\n",
                "g.add_vertex(\"3\/4 cup milk\")\n",
                "g.add_vertex(\"1 egg\")\n",
                "g.add_vertex(\"1 tbl oil\")\n",
                "g.add_vertex(\"1 cup mix\")\n",
                "g.add_vertex(\"heat syrup\")\n",
                "g.add_vertex(\"heat griddle\")\n",
                "g.add_vertex(\"pour 1\/4 cup\")\n",
                "g.add_vertex(\"turn when bubbly\")\n",
                "g.add_vertex(\"eat\")\n",
                "g.add_edge(\"3\/4 cup milk\", \"1 cup mix\")\n",
                "g.add_edge(\"1 egg\", \"1 cup mix\")\n",
                "g.add_edge(\"1 tbl oil\", \"1 cup mix\")\n",
                "g.add_edge(\"1 cup mix\", \"heat syrup\")\n",
                "g.add_edge(\"1 cup mix\", \"pour 1\/4 cup\")\n",
                "g.add_edge(\"heat griddle\", \"pour 1\/4 cup\")\n",
                "g.add_edge(\"pour 1\/4 cup\", \"turn when bubbly\")\n",
                "g.add_edge(\"turn when bubbly\", \"eat\")\n",
                "g.add_edge(\"heat syrup\", \"eat\")\n",
                "gs = SearchDFS(g)  \n",
                "\n",
                "path = topological_sort(gs)\n",
                "ans = [v.f for v in copy.copy(path)]\n",
                "assert ans == [18, 16, 14, 12, 11, 10, 9, 6, 5]\n",
                "ans = [v.id_ for v in copy.copy(path)]\n",
                "assert ans == ['heat griddle', '1 tbl oil', '1 egg', '3\/4 cup milk', '1 cup mix', 'pour 1\/4 cup', 'turn when bubbly', 'heat syrup', 'eat']"
            ]
        },
        {
            "cell_type": "code",
            "execution_count": 31,
            "metadata": {
                "nbgrader": {
                    "grade": true,
                    "grade_id": "hw52",
                    "locked": true,
                    "points": "1",
                    "solution": false
                },
                "editable": false,
                "deletable": false
            },
            "outputs": [],
            "source": [
                "###\n",
                "### AUTOGRADER TEST - DO NOT REMOVE\n",
                "###\n"
            ]
        }
    ],
    "metadata": {
        "kernelspec": {
            "display_name": "Python 3 [3.7]",
            "language": "python",
            "name": "python3"
        },
        "language_info": {
            "codemirror_mode": {
                "name": "ipython",
                "version": 3
            },
            "file_extension": ".py",
            "mimetype": "text\/x-python",
            "name": "python",
            "nbconvert_exporter": "python",
            "pygments_lexer": "ipython3",
            "version": "3.7.5"
        },
        "vscode": {
            "interpreter": {
                "hash": "ac37b77c3c0f43e60bec193f0626743b91dd65d8d4aeca5713e457ab7e777e4c"
            }
        }
    },
    "nbformat": 4,
    "nbformat_minor": 4
}