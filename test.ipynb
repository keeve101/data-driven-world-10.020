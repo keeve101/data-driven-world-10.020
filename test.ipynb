{
 "cells": [
  {
   "cell_type": "code",
   "execution_count": 23,
   "metadata": {},
   "outputs": [
    {
     "name": "stdout",
     "output_type": "stream",
     "text": [
      "1\n",
      "2\n",
      "3\n",
      "4\n",
      "5\n",
      "6\n",
      "7\n",
      "[1, 2, 3, 3, 4, 4, 5, 8]\n"
     ]
    }
   ],
   "source": [
    "def mergesort(array, start, end):\n",
    "\n",
    "    if end - start >= 2:\n",
    "        # print(start, end)\n",
    "        middle = start + (end - start) // 2\n",
    "        mergesort(array, start, middle)\n",
    "        print(middle)\n",
    "        mergesort(array, middle, end)\n",
    "\n",
    "\n",
    "        left_array = array[start:middle]\n",
    "        right_array = array[middle:end]\n",
    "        len_left = middle - start\n",
    "        len_right = end - middle\n",
    "        l_indice = r_indice = 0\n",
    "        while l_indice < len_left and r_indice < len_right:\n",
    "            if left_array[l_indice] > right_array[r_indice]:\n",
    "                array[start] = right_array[r_indice]\n",
    "                r_indice += 1\n",
    "            else:\n",
    "                array[start] = left_array[l_indice]\n",
    "                l_indice += 1\n",
    "            start += 1\n",
    "        \n",
    "        while l_indice < len_left:\n",
    "            array[start] = left_array[l_indice]\n",
    "            l_indice += 1\n",
    "            start += 1\n",
    "\n",
    "        while r_indice < len_right:\n",
    "            array[start] = right_array[r_indice]\n",
    "            r_indice += 1\n",
    "            start += 1\n",
    "\n",
    "array = [4,2,3,5,3,8,1,4]\n",
    "mergesort(array, 0, len(array))\n",
    "print(array)"
   ]
  },
  {
   "cell_type": "code",
   "execution_count": 24,
   "metadata": {},
   "outputs": [
    {
     "name": "stdout",
     "output_type": "stream",
     "text": [
      "[1, 1, 45, 2, 4]\n"
     ]
    }
   ],
   "source": []
  },
  {
   "cell_type": "code",
   "execution_count": null,
   "metadata": {},
   "outputs": [],
   "source": []
  },
  {
   "cell_type": "code",
   "execution_count": null,
   "metadata": {},
   "outputs": [],
   "source": []
  }
 ],
 "metadata": {
  "kernelspec": {
   "display_name": "Python 3.10.4 64-bit",
   "language": "python",
   "name": "python3"
  },
  "language_info": {
   "codemirror_mode": {
    "name": "ipython",
    "version": 3
   },
   "file_extension": ".py",
   "mimetype": "text/x-python",
   "name": "python",
   "nbconvert_exporter": "python",
   "pygments_lexer": "ipython3",
   "version": "3.10.4"
  },
  "orig_nbformat": 4,
  "vscode": {
   "interpreter": {
    "hash": "369f2c481f4da34e4445cda3fffd2e751bd1c4d706f27375911949ba6bb62e1c"
   }
  }
 },
 "nbformat": 4,
 "nbformat_minor": 2
}
