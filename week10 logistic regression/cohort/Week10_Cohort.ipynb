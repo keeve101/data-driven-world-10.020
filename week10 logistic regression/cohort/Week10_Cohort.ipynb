{
    "cells": [
        {
            "cell_type": "code",
            "execution_count": 957,
            "metadata": {
                "collapsed": true,
                "deletable": false,
                "editable": false,
                "nbgrader": {
                    "grade": false,
                    "locked": true,
                    "solution": false
                }
            },
            "outputs": [],
            "source": [
                "### Grading script code \n",
                "### You don't need to read this, proceed to the next cell\n",
                "import sys\n",
                "import functools\n",
                "ipython = get_ipython()\n",
                "\n",
                "def set_traceback(val):\n",
                "    method_name = \"showtraceback\"\n",
                "    setattr(\n",
                "        ipython,\n",
                "        method_name,\n",
                "        functools.partial(\n",
                "            getattr(ipython, method_name),\n",
                "            exception_only=(not val)\n",
                "        )\n",
                "    )\n",
                "\n",
                "class AnswerError(Exception):\n",
                "  def __init__(self, message):\n",
                "    pass\n",
                "\n",
                "def exec_test(f, question):\n",
                "    try:\n",
                "        f()\n",
                "        print(question + \" Pass\")\n",
                "    except:\n",
                "        set_traceback(False) # do not remove\n",
                "        raise AnswerError(question + \" Fail\")"
            ]
        },
        {
            "cell_type": "markdown",
            "metadata": {
                "deletable": false,
                "editable": false,
                "nbgrader": {
                    "grade": false,
                    "locked": true,
                    "solution": false
                }
            },
            "source": [
                "# Week 10 Problem Set\n",
                "\n",
                "## Cohort Session"
            ]
        },
        {
            "cell_type": "code",
            "execution_count": 958,
            "metadata": {
                "collapsed": true,
                "deletable": false,
                "editable": false,
                "nbgrader": {
                    "grade": false,
                    "locked": true,
                    "solution": false
                }
            },
            "outputs": [],
            "source": [
                "import pandas as pd\n",
                "import numpy as np\n",
                "import matplotlib.pyplot as plt"
            ]
        },
        {
            "cell_type": "markdown",
            "metadata": {
                "deletable": false,
                "editable": false,
                "nbgrader": {
                    "grade": false,
                    "locked": true,
                    "solution": false
                }
            },
            "source": [
                "**CS0.** Do the following tasks before you start with the first cohort session.\n",
                "\n",
                "**Task 1.** Paste the following functions from your previous work:\n",
                "- `get_features_targets()`\n",
                "- `normalize_z()`\n",
                "- `prepare_feature()`\n",
                "- `prepare_target()`\n",
                "- `split_data()`\n"
            ]
        },
        {
            "cell_type": "code",
            "execution_count": 959,
            "metadata": {
                "collapsed": true
            },
            "outputs": [],
            "source": [
                "def normalize_z(df):\n",
                "    mean = df.mean(axis=0)\n",
                "    std = df.std(axis=0)\n",
                "    return (df - mean)/std\n",
                "\n",
                "def get_features_targets(df, feature_names, target_names):\n",
                "    df_feature = df.loc[:, feature_names]\n",
                "    df_target = df.loc[:, target_names]\n",
                "\n",
                "    return pd.DataFrame(df_feature), pd.DataFrame(df_target)\n",
                "\n",
                "def prepare_feature(df_feature):\n",
                "    df_feature = df_feature.copy()\n",
                "    # insert at pos 0, column name 'ones', 1s\n",
                "    df_feature.insert(0, 'ones', 1)\n",
                "    return df_feature.to_numpy()\n",
                "\n",
                "def prepare_target(df_target):\n",
                "    return df_target.to_numpy().reshape(len(df_target), 1)\n",
                "\n",
                "def split_data(df_feature, df_target, random_state=None, test_size=0.5):\n",
                "    np.random.seed(random_state)\n",
                "    indexes = df_feature.index\n",
                "    indexes_test = np.random.choice(indexes, int(test_size * len(indexes)), replace=False)\n",
                "    indexes_train = indexes.difference(indexes_test)\n",
                "    df_feature_test, df_feature_train = df_feature.iloc[indexes_test, :], df_feature.iloc[indexes_train, :]\n",
                "\n",
                "    df_target_test, df_target_train = df_target.iloc[indexes_test, :], df_target.iloc[indexes_train, :]\n",
                "    \n",
                "    return df_feature_train, df_feature_test, df_target_train, df_target_test\n",
                " "
            ]
        },
        {
            "cell_type": "markdown",
            "metadata": {
                "deletable": false,
                "editable": false,
                "nbgrader": {
                    "grade": false,
                    "locked": true,
                    "solution": false
                }
            },
            "source": [
                "**Task 2.** Load the breast cancer data from `breast_cancer_data.csv` into a Data Frame. "
            ]
        },
        {
            "cell_type": "code",
            "execution_count": 960,
            "metadata": {},
            "outputs": [
                {
                    "data": {
                        "text/html": [
                            "<div>\n",
                            "<style scoped>\n",
                            "    .dataframe tbody tr th:only-of-type {\n",
                            "        vertical-align: middle;\n",
                            "    }\n",
                            "\n",
                            "    .dataframe tbody tr th {\n",
                            "        vertical-align: top;\n",
                            "    }\n",
                            "\n",
                            "    .dataframe thead th {\n",
                            "        text-align: right;\n",
                            "    }\n",
                            "</style>\n",
                            "<table border=\"1\" class=\"dataframe\">\n",
                            "  <thead>\n",
                            "    <tr style=\"text-align: right;\">\n",
                            "      <th></th>\n",
                            "      <th>id</th>\n",
                            "      <th>diagnosis</th>\n",
                            "      <th>radius_mean</th>\n",
                            "      <th>texture_mean</th>\n",
                            "      <th>perimeter_mean</th>\n",
                            "      <th>area_mean</th>\n",
                            "      <th>smoothness_mean</th>\n",
                            "      <th>compactness_mean</th>\n",
                            "      <th>concavity_mean</th>\n",
                            "      <th>concave points_mean</th>\n",
                            "      <th>...</th>\n",
                            "      <th>radius_worst</th>\n",
                            "      <th>texture_worst</th>\n",
                            "      <th>perimeter_worst</th>\n",
                            "      <th>area_worst</th>\n",
                            "      <th>smoothness_worst</th>\n",
                            "      <th>compactness_worst</th>\n",
                            "      <th>concavity_worst</th>\n",
                            "      <th>concave points_worst</th>\n",
                            "      <th>symmetry_worst</th>\n",
                            "      <th>fractal_dimension_worst</th>\n",
                            "    </tr>\n",
                            "  </thead>\n",
                            "  <tbody>\n",
                            "    <tr>\n",
                            "      <th>0</th>\n",
                            "      <td>842302</td>\n",
                            "      <td>M</td>\n",
                            "      <td>17.99</td>\n",
                            "      <td>10.38</td>\n",
                            "      <td>122.80</td>\n",
                            "      <td>1001.0</td>\n",
                            "      <td>0.11840</td>\n",
                            "      <td>0.27760</td>\n",
                            "      <td>0.30010</td>\n",
                            "      <td>0.14710</td>\n",
                            "      <td>...</td>\n",
                            "      <td>25.380</td>\n",
                            "      <td>17.33</td>\n",
                            "      <td>184.60</td>\n",
                            "      <td>2019.0</td>\n",
                            "      <td>0.16220</td>\n",
                            "      <td>0.66560</td>\n",
                            "      <td>0.7119</td>\n",
                            "      <td>0.2654</td>\n",
                            "      <td>0.4601</td>\n",
                            "      <td>0.11890</td>\n",
                            "    </tr>\n",
                            "    <tr>\n",
                            "      <th>1</th>\n",
                            "      <td>842517</td>\n",
                            "      <td>M</td>\n",
                            "      <td>20.57</td>\n",
                            "      <td>17.77</td>\n",
                            "      <td>132.90</td>\n",
                            "      <td>1326.0</td>\n",
                            "      <td>0.08474</td>\n",
                            "      <td>0.07864</td>\n",
                            "      <td>0.08690</td>\n",
                            "      <td>0.07017</td>\n",
                            "      <td>...</td>\n",
                            "      <td>24.990</td>\n",
                            "      <td>23.41</td>\n",
                            "      <td>158.80</td>\n",
                            "      <td>1956.0</td>\n",
                            "      <td>0.12380</td>\n",
                            "      <td>0.18660</td>\n",
                            "      <td>0.2416</td>\n",
                            "      <td>0.1860</td>\n",
                            "      <td>0.2750</td>\n",
                            "      <td>0.08902</td>\n",
                            "    </tr>\n",
                            "    <tr>\n",
                            "      <th>2</th>\n",
                            "      <td>84300903</td>\n",
                            "      <td>M</td>\n",
                            "      <td>19.69</td>\n",
                            "      <td>21.25</td>\n",
                            "      <td>130.00</td>\n",
                            "      <td>1203.0</td>\n",
                            "      <td>0.10960</td>\n",
                            "      <td>0.15990</td>\n",
                            "      <td>0.19740</td>\n",
                            "      <td>0.12790</td>\n",
                            "      <td>...</td>\n",
                            "      <td>23.570</td>\n",
                            "      <td>25.53</td>\n",
                            "      <td>152.50</td>\n",
                            "      <td>1709.0</td>\n",
                            "      <td>0.14440</td>\n",
                            "      <td>0.42450</td>\n",
                            "      <td>0.4504</td>\n",
                            "      <td>0.2430</td>\n",
                            "      <td>0.3613</td>\n",
                            "      <td>0.08758</td>\n",
                            "    </tr>\n",
                            "    <tr>\n",
                            "      <th>3</th>\n",
                            "      <td>84348301</td>\n",
                            "      <td>M</td>\n",
                            "      <td>11.42</td>\n",
                            "      <td>20.38</td>\n",
                            "      <td>77.58</td>\n",
                            "      <td>386.1</td>\n",
                            "      <td>0.14250</td>\n",
                            "      <td>0.28390</td>\n",
                            "      <td>0.24140</td>\n",
                            "      <td>0.10520</td>\n",
                            "      <td>...</td>\n",
                            "      <td>14.910</td>\n",
                            "      <td>26.50</td>\n",
                            "      <td>98.87</td>\n",
                            "      <td>567.7</td>\n",
                            "      <td>0.20980</td>\n",
                            "      <td>0.86630</td>\n",
                            "      <td>0.6869</td>\n",
                            "      <td>0.2575</td>\n",
                            "      <td>0.6638</td>\n",
                            "      <td>0.17300</td>\n",
                            "    </tr>\n",
                            "    <tr>\n",
                            "      <th>4</th>\n",
                            "      <td>84358402</td>\n",
                            "      <td>M</td>\n",
                            "      <td>20.29</td>\n",
                            "      <td>14.34</td>\n",
                            "      <td>135.10</td>\n",
                            "      <td>1297.0</td>\n",
                            "      <td>0.10030</td>\n",
                            "      <td>0.13280</td>\n",
                            "      <td>0.19800</td>\n",
                            "      <td>0.10430</td>\n",
                            "      <td>...</td>\n",
                            "      <td>22.540</td>\n",
                            "      <td>16.67</td>\n",
                            "      <td>152.20</td>\n",
                            "      <td>1575.0</td>\n",
                            "      <td>0.13740</td>\n",
                            "      <td>0.20500</td>\n",
                            "      <td>0.4000</td>\n",
                            "      <td>0.1625</td>\n",
                            "      <td>0.2364</td>\n",
                            "      <td>0.07678</td>\n",
                            "    </tr>\n",
                            "    <tr>\n",
                            "      <th>...</th>\n",
                            "      <td>...</td>\n",
                            "      <td>...</td>\n",
                            "      <td>...</td>\n",
                            "      <td>...</td>\n",
                            "      <td>...</td>\n",
                            "      <td>...</td>\n",
                            "      <td>...</td>\n",
                            "      <td>...</td>\n",
                            "      <td>...</td>\n",
                            "      <td>...</td>\n",
                            "      <td>...</td>\n",
                            "      <td>...</td>\n",
                            "      <td>...</td>\n",
                            "      <td>...</td>\n",
                            "      <td>...</td>\n",
                            "      <td>...</td>\n",
                            "      <td>...</td>\n",
                            "      <td>...</td>\n",
                            "      <td>...</td>\n",
                            "      <td>...</td>\n",
                            "      <td>...</td>\n",
                            "    </tr>\n",
                            "    <tr>\n",
                            "      <th>564</th>\n",
                            "      <td>926424</td>\n",
                            "      <td>M</td>\n",
                            "      <td>21.56</td>\n",
                            "      <td>22.39</td>\n",
                            "      <td>142.00</td>\n",
                            "      <td>1479.0</td>\n",
                            "      <td>0.11100</td>\n",
                            "      <td>0.11590</td>\n",
                            "      <td>0.24390</td>\n",
                            "      <td>0.13890</td>\n",
                            "      <td>...</td>\n",
                            "      <td>25.450</td>\n",
                            "      <td>26.40</td>\n",
                            "      <td>166.10</td>\n",
                            "      <td>2027.0</td>\n",
                            "      <td>0.14100</td>\n",
                            "      <td>0.21130</td>\n",
                            "      <td>0.4107</td>\n",
                            "      <td>0.2216</td>\n",
                            "      <td>0.2060</td>\n",
                            "      <td>0.07115</td>\n",
                            "    </tr>\n",
                            "    <tr>\n",
                            "      <th>565</th>\n",
                            "      <td>926682</td>\n",
                            "      <td>M</td>\n",
                            "      <td>20.13</td>\n",
                            "      <td>28.25</td>\n",
                            "      <td>131.20</td>\n",
                            "      <td>1261.0</td>\n",
                            "      <td>0.09780</td>\n",
                            "      <td>0.10340</td>\n",
                            "      <td>0.14400</td>\n",
                            "      <td>0.09791</td>\n",
                            "      <td>...</td>\n",
                            "      <td>23.690</td>\n",
                            "      <td>38.25</td>\n",
                            "      <td>155.00</td>\n",
                            "      <td>1731.0</td>\n",
                            "      <td>0.11660</td>\n",
                            "      <td>0.19220</td>\n",
                            "      <td>0.3215</td>\n",
                            "      <td>0.1628</td>\n",
                            "      <td>0.2572</td>\n",
                            "      <td>0.06637</td>\n",
                            "    </tr>\n",
                            "    <tr>\n",
                            "      <th>566</th>\n",
                            "      <td>926954</td>\n",
                            "      <td>M</td>\n",
                            "      <td>16.60</td>\n",
                            "      <td>28.08</td>\n",
                            "      <td>108.30</td>\n",
                            "      <td>858.1</td>\n",
                            "      <td>0.08455</td>\n",
                            "      <td>0.10230</td>\n",
                            "      <td>0.09251</td>\n",
                            "      <td>0.05302</td>\n",
                            "      <td>...</td>\n",
                            "      <td>18.980</td>\n",
                            "      <td>34.12</td>\n",
                            "      <td>126.70</td>\n",
                            "      <td>1124.0</td>\n",
                            "      <td>0.11390</td>\n",
                            "      <td>0.30940</td>\n",
                            "      <td>0.3403</td>\n",
                            "      <td>0.1418</td>\n",
                            "      <td>0.2218</td>\n",
                            "      <td>0.07820</td>\n",
                            "    </tr>\n",
                            "    <tr>\n",
                            "      <th>567</th>\n",
                            "      <td>927241</td>\n",
                            "      <td>M</td>\n",
                            "      <td>20.60</td>\n",
                            "      <td>29.33</td>\n",
                            "      <td>140.10</td>\n",
                            "      <td>1265.0</td>\n",
                            "      <td>0.11780</td>\n",
                            "      <td>0.27700</td>\n",
                            "      <td>0.35140</td>\n",
                            "      <td>0.15200</td>\n",
                            "      <td>...</td>\n",
                            "      <td>25.740</td>\n",
                            "      <td>39.42</td>\n",
                            "      <td>184.60</td>\n",
                            "      <td>1821.0</td>\n",
                            "      <td>0.16500</td>\n",
                            "      <td>0.86810</td>\n",
                            "      <td>0.9387</td>\n",
                            "      <td>0.2650</td>\n",
                            "      <td>0.4087</td>\n",
                            "      <td>0.12400</td>\n",
                            "    </tr>\n",
                            "    <tr>\n",
                            "      <th>568</th>\n",
                            "      <td>92751</td>\n",
                            "      <td>B</td>\n",
                            "      <td>7.76</td>\n",
                            "      <td>24.54</td>\n",
                            "      <td>47.92</td>\n",
                            "      <td>181.0</td>\n",
                            "      <td>0.05263</td>\n",
                            "      <td>0.04362</td>\n",
                            "      <td>0.00000</td>\n",
                            "      <td>0.00000</td>\n",
                            "      <td>...</td>\n",
                            "      <td>9.456</td>\n",
                            "      <td>30.37</td>\n",
                            "      <td>59.16</td>\n",
                            "      <td>268.6</td>\n",
                            "      <td>0.08996</td>\n",
                            "      <td>0.06444</td>\n",
                            "      <td>0.0000</td>\n",
                            "      <td>0.0000</td>\n",
                            "      <td>0.2871</td>\n",
                            "      <td>0.07039</td>\n",
                            "    </tr>\n",
                            "  </tbody>\n",
                            "</table>\n",
                            "<p>569 rows × 32 columns</p>\n",
                            "</div>"
                        ],
                        "text/plain": [
                            "           id diagnosis  radius_mean  texture_mean  perimeter_mean  area_mean  \\\n",
                            "0      842302         M        17.99         10.38          122.80     1001.0   \n",
                            "1      842517         M        20.57         17.77          132.90     1326.0   \n",
                            "2    84300903         M        19.69         21.25          130.00     1203.0   \n",
                            "3    84348301         M        11.42         20.38           77.58      386.1   \n",
                            "4    84358402         M        20.29         14.34          135.10     1297.0   \n",
                            "..        ...       ...          ...           ...             ...        ...   \n",
                            "564    926424         M        21.56         22.39          142.00     1479.0   \n",
                            "565    926682         M        20.13         28.25          131.20     1261.0   \n",
                            "566    926954         M        16.60         28.08          108.30      858.1   \n",
                            "567    927241         M        20.60         29.33          140.10     1265.0   \n",
                            "568     92751         B         7.76         24.54           47.92      181.0   \n",
                            "\n",
                            "     smoothness_mean  compactness_mean  concavity_mean  concave points_mean  \\\n",
                            "0            0.11840           0.27760         0.30010              0.14710   \n",
                            "1            0.08474           0.07864         0.08690              0.07017   \n",
                            "2            0.10960           0.15990         0.19740              0.12790   \n",
                            "3            0.14250           0.28390         0.24140              0.10520   \n",
                            "4            0.10030           0.13280         0.19800              0.10430   \n",
                            "..               ...               ...             ...                  ...   \n",
                            "564          0.11100           0.11590         0.24390              0.13890   \n",
                            "565          0.09780           0.10340         0.14400              0.09791   \n",
                            "566          0.08455           0.10230         0.09251              0.05302   \n",
                            "567          0.11780           0.27700         0.35140              0.15200   \n",
                            "568          0.05263           0.04362         0.00000              0.00000   \n",
                            "\n",
                            "     ...  radius_worst  texture_worst  perimeter_worst  area_worst  \\\n",
                            "0    ...        25.380          17.33           184.60      2019.0   \n",
                            "1    ...        24.990          23.41           158.80      1956.0   \n",
                            "2    ...        23.570          25.53           152.50      1709.0   \n",
                            "3    ...        14.910          26.50            98.87       567.7   \n",
                            "4    ...        22.540          16.67           152.20      1575.0   \n",
                            "..   ...           ...            ...              ...         ...   \n",
                            "564  ...        25.450          26.40           166.10      2027.0   \n",
                            "565  ...        23.690          38.25           155.00      1731.0   \n",
                            "566  ...        18.980          34.12           126.70      1124.0   \n",
                            "567  ...        25.740          39.42           184.60      1821.0   \n",
                            "568  ...         9.456          30.37            59.16       268.6   \n",
                            "\n",
                            "     smoothness_worst  compactness_worst  concavity_worst  \\\n",
                            "0             0.16220            0.66560           0.7119   \n",
                            "1             0.12380            0.18660           0.2416   \n",
                            "2             0.14440            0.42450           0.4504   \n",
                            "3             0.20980            0.86630           0.6869   \n",
                            "4             0.13740            0.20500           0.4000   \n",
                            "..                ...                ...              ...   \n",
                            "564           0.14100            0.21130           0.4107   \n",
                            "565           0.11660            0.19220           0.3215   \n",
                            "566           0.11390            0.30940           0.3403   \n",
                            "567           0.16500            0.86810           0.9387   \n",
                            "568           0.08996            0.06444           0.0000   \n",
                            "\n",
                            "     concave points_worst  symmetry_worst  fractal_dimension_worst  \n",
                            "0                  0.2654          0.4601                  0.11890  \n",
                            "1                  0.1860          0.2750                  0.08902  \n",
                            "2                  0.2430          0.3613                  0.08758  \n",
                            "3                  0.2575          0.6638                  0.17300  \n",
                            "4                  0.1625          0.2364                  0.07678  \n",
                            "..                    ...             ...                      ...  \n",
                            "564                0.2216          0.2060                  0.07115  \n",
                            "565                0.1628          0.2572                  0.06637  \n",
                            "566                0.1418          0.2218                  0.07820  \n",
                            "567                0.2650          0.4087                  0.12400  \n",
                            "568                0.0000          0.2871                  0.07039  \n",
                            "\n",
                            "[569 rows x 32 columns]"
                        ]
                    },
                    "execution_count": 960,
                    "metadata": {},
                    "output_type": "execute_result"
                }
            ],
            "source": [
                "# read breast_cancer_data.csv\n",
                "df = pd.read_csv('breast_cancer_data.csv')\n",
                "\n",
                "df"
            ]
        },
        {
            "cell_type": "markdown",
            "metadata": {
                "deletable": false,
                "editable": false,
                "nbgrader": {
                    "grade": false,
                    "locked": true,
                    "solution": false
                }
            },
            "source": [
                "**Task 3.** Do the following tasks.\n",
                "\n",
                "- Read the following columns\n",
                "    - feature: `radius_mean`\n",
                "    - target: `diagnosis`\n",
                "- Normalize the feature column using z normalization."
            ]
        },
        {
            "cell_type": "code",
            "execution_count": 961,
            "metadata": {
                "collapsed": true
            },
            "outputs": [],
            "source": [
                "# extract the feature and the target\n",
                "df_feature, df_target = get_features_targets(df, ['radius_mean'], 'diagnosis')\n",
                "# normalize the feature\n",
                "df_feature = normalize_z(df_feature)\n",
                "\n",
                "###\n",
                "### YOUR CODE HERE\n",
                "###\n"
            ]
        },
        {
            "cell_type": "markdown",
            "metadata": {
                "deletable": false,
                "editable": false,
                "nbgrader": {
                    "grade": false,
                    "locked": true,
                    "solution": false
                }
            },
            "source": [
                "**Task 4.** Write a function `replace_target()` to replace the `diagnosis` column with the following mapping:\n",
                "    - `M`: `1`, this means that malignant cell are indicated as `1` in our new column.\n",
                "    - `B`: `0`, this means that benign cell are indicated as `0` in our new column.\n",
                "    \n",
                "The function should takes in the following:\n",
                "\n",
                "- `df_target`: the target data frame\n",
                "- `target_name`: which is the column name of the target data frame\n",
                "- `map`: which is a dictionary containing the map\n",
                "    \n",
                "It should returns a new data frame with the same column name but with its values changed according to the mapping."
            ]
        },
        {
            "cell_type": "code",
            "execution_count": 962,
            "metadata": {
                "collapsed": true
            },
            "outputs": [],
            "source": [
                "def replace_target(df_target, target_name, map_vals):\n",
                "    df_out = df_target.loc[:, target_name].apply(lambda x: map_vals[x])\n",
                "    return pd.DataFrame(df_out)"
            ]
        },
        {
            "cell_type": "code",
            "execution_count": 963,
            "metadata": {
                "deletable": false,
                "editable": false,
                "nbgrader": {
                    "grade": false,
                    "locked": true,
                    "solution": false
                }
            },
            "outputs": [
                {
                    "data": {
                        "text/html": [
                            "<div>\n",
                            "<style scoped>\n",
                            "    .dataframe tbody tr th:only-of-type {\n",
                            "        vertical-align: middle;\n",
                            "    }\n",
                            "\n",
                            "    .dataframe tbody tr th {\n",
                            "        vertical-align: top;\n",
                            "    }\n",
                            "\n",
                            "    .dataframe thead th {\n",
                            "        text-align: right;\n",
                            "    }\n",
                            "</style>\n",
                            "<table border=\"1\" class=\"dataframe\">\n",
                            "  <thead>\n",
                            "    <tr style=\"text-align: right;\">\n",
                            "      <th></th>\n",
                            "      <th>diagnosis</th>\n",
                            "    </tr>\n",
                            "  </thead>\n",
                            "  <tbody>\n",
                            "    <tr>\n",
                            "      <th>0</th>\n",
                            "      <td>1</td>\n",
                            "    </tr>\n",
                            "    <tr>\n",
                            "      <th>1</th>\n",
                            "      <td>1</td>\n",
                            "    </tr>\n",
                            "    <tr>\n",
                            "      <th>2</th>\n",
                            "      <td>1</td>\n",
                            "    </tr>\n",
                            "    <tr>\n",
                            "      <th>3</th>\n",
                            "      <td>1</td>\n",
                            "    </tr>\n",
                            "    <tr>\n",
                            "      <th>4</th>\n",
                            "      <td>1</td>\n",
                            "    </tr>\n",
                            "    <tr>\n",
                            "      <th>...</th>\n",
                            "      <td>...</td>\n",
                            "    </tr>\n",
                            "    <tr>\n",
                            "      <th>564</th>\n",
                            "      <td>1</td>\n",
                            "    </tr>\n",
                            "    <tr>\n",
                            "      <th>565</th>\n",
                            "      <td>1</td>\n",
                            "    </tr>\n",
                            "    <tr>\n",
                            "      <th>566</th>\n",
                            "      <td>1</td>\n",
                            "    </tr>\n",
                            "    <tr>\n",
                            "      <th>567</th>\n",
                            "      <td>1</td>\n",
                            "    </tr>\n",
                            "    <tr>\n",
                            "      <th>568</th>\n",
                            "      <td>0</td>\n",
                            "    </tr>\n",
                            "  </tbody>\n",
                            "</table>\n",
                            "<p>569 rows × 1 columns</p>\n",
                            "</div>"
                        ],
                        "text/plain": [
                            "     diagnosis\n",
                            "0            1\n",
                            "1            1\n",
                            "2            1\n",
                            "3            1\n",
                            "4            1\n",
                            "..         ...\n",
                            "564          1\n",
                            "565          1\n",
                            "566          1\n",
                            "567          1\n",
                            "568          0\n",
                            "\n",
                            "[569 rows x 1 columns]"
                        ]
                    },
                    "execution_count": 963,
                    "metadata": {},
                    "output_type": "execute_result"
                }
            ],
            "source": [
                "df_target = replace_target(df_target, \"diagnosis\", {'M': 1, 'B': 0})\n",
                "df_target"
            ]
        },
        {
            "cell_type": "markdown",
            "metadata": {
                "deletable": false,
                "editable": false,
                "nbgrader": {
                    "grade": false,
                    "locked": true,
                    "solution": false
                }
            },
            "source": [
                "**Task 5.** Do the following tasks.\n",
                "- Change feature to Numpy array and append constant 1 column.\n",
                "- Change target to Numpy array"
            ]
        },
        {
            "cell_type": "code",
            "execution_count": 964,
            "metadata": {
                "collapsed": true
            },
            "outputs": [],
            "source": [
                "# change feature data frame to numpy array and append column 1\n",
                "feature = prepare_feature(df_feature)\n",
                "\n",
                "# change target data frame to numpy array\n",
                "target = prepare_target(df_target)\n",
                "###\n",
                "### YOUR CODE HERE\n",
                "###"
            ]
        },
        {
            "cell_type": "markdown",
            "metadata": {
                "deletable": false,
                "editable": false,
                "nbgrader": {
                    "grade": false,
                    "locked": true,
                    "solution": false
                }
            },
            "source": [
                "**CS1.** *Logistic function:* Write a function to calculate the hypothesis using a logistic function. Recall that the hypothesis for a logistic regression model is written as:\n",
                "\n",
                "$$\\mathbf{p}(x) = \\frac{1}{1 + e^{-\\mathbf{X}\\mathbf{b}}}$$\n",
                "\n",
                "The shape of the input is as follows:\n",
                "- $\\mathbf{b}$: is a column vector for the parameters\n",
                "- $\\mathbf{X}$: is a matrix where the number of rows are the number of data points and the the number of columns must the same as the number of parameters in $\\mathbf{b}$.\n",
                "\n",
                "Note that you need to ensure that the output is a **column vector**. \n",
                "\n",
                "You can use the following functions:\n",
                "- `np.matmul(array1, array2)`: which is to perform matrix multiplication on the two numpy arrays.\n",
                "- `np.exp()`: which is to calculate the function $e^x$"
            ]
        },
        {
            "cell_type": "code",
            "execution_count": 965,
            "metadata": {
                "collapsed": true
            },
            "outputs": [],
            "source": [
                "def calc_log(X, beta):\n",
                "    return 1/ (1 + np.exp(np.matmul(-X, beta)))"
            ]
        },
        {
            "cell_type": "code",
            "execution_count": 966,
            "metadata": {
                "collapsed": true,
                "deletable": false,
                "editable": false,
                "nbgrader": {
                    "grade": true,
                    "grade_id": "cs11",
                    "locked": true,
                    "points": "1",
                    "solution": false
                }
            },
            "outputs": [],
            "source": [
                "beta = np.array([0])\n",
                "x = np.array([0])\n",
                "ans = calc_log(x, beta)\n",
                "assert ans == 0.5\n",
                "\n",
                "beta = np.array([2])\n",
                "x = np.array([40])\n",
                "ans = calc_log(x, beta)\n",
                "assert np.isclose(ans, 1.0)\n",
                "\n",
                "beta = np.array([2])\n",
                "x = np.array([-40])\n",
                "ans = calc_log(x, beta)\n",
                "assert np.isclose(ans, 0.0)\n",
                "\n",
                "beta = np.array([[1, 2, 3]])\n",
                "x = np.array([[3, 2, 1]])\n",
                "ans = calc_log(x, beta.T)\n",
                "assert np.isclose(ans.all(), 1.0)\n",
                "\n",
                "beta = np.array([[1, 2, 3]])\n",
                "x = np.array([[3, 2, 1], [3, 2, 1]])\n",
                "ans = calc_log(x, beta.T)\n",
                "assert ans.shape == (2, 1)\n",
                "assert np.isclose(ans.all(), 1.0)"
            ]
        },
        {
            "cell_type": "code",
            "execution_count": 967,
            "metadata": {
                "deletable": false,
                "editable": false,
                "nbgrader": {
                    "grade": true,
                    "grade_id": "cs12",
                    "locked": true,
                    "points": "1",
                    "solution": false
                }
            },
            "outputs": [],
            "source": [
                "###\n",
                "### AUTOGRADER TEST - DO NOT REMOVE\n",
                "###\n"
            ]
        },
        {
            "cell_type": "markdown",
            "metadata": {
                "deletable": false,
                "editable": false,
                "nbgrader": {
                    "grade": false,
                    "locked": true,
                    "solution": false
                }
            },
            "source": [
                "**CS2.** *Cost Function:* Write a function to calculate the cost function for logistic regression. Recall that the cost function for logistic regression is given by:\n",
                "\n",
                "$$J(\\beta) = -\\frac{1}{m}\\left[\\Sigma_{i=1}^m y^i \\log(p(x^i)) + (1 - y^i) \\log(1 - p(x^i))\\right]$$\n",
                "\n",
                "You can use the following function in your code:\n",
                "- `np.where(condition, then_expression, else_expression)`"
            ]
        },
        {
            "cell_type": "code",
            "execution_count": 968,
            "metadata": {
                "collapsed": true
            },
            "outputs": [],
            "source": [
                "def compute_cost_logreg(beta, X, y):\n",
                "    np.seterr(divide = 'ignore') \n",
                "\n",
                "    # m is the number of data points\n",
                "    m = X.shape[0]\n",
                "    J = - 1 / m * np.where(y == 1, y * np.log(calc_log(X, beta)), (1 - y) * np.log(1 - calc_log(X, beta)))\n",
                "\n",
                "    np.seterr(divide = 'warn')\n",
                "    return J[0, 0]"
            ]
        },
        {
            "cell_type": "code",
            "execution_count": 969,
            "metadata": {
                "deletable": false,
                "editable": false,
                "nbgrader": {
                    "grade": true,
                    "grade_id": "cs21",
                    "locked": true,
                    "points": "1",
                    "solution": false
                }
            },
            "outputs": [
                {
                    "name": "stdout",
                    "output_type": "stream",
                    "text": [
                        "-0.0\n",
                        "-0.0\n"
                    ]
                },
                {
                    "name": "stderr",
                    "output_type": "stream",
                    "text": [
                        "C:\\Users\\Keith Low\\AppData\\Local\\Temp\\ipykernel_9776\\1757875919.py:6: RuntimeWarning: invalid value encountered in multiply\n",
                        "  J = - 1 / m * np.where(y == 1, y * np.log(calc_log(X, beta)), (1 - y) * np.log(1 - calc_log(X, beta)))\n"
                    ]
                }
            ],
            "source": [
                "y = np.array([[1]])\n",
                "X = np.array([[10, 40]])\n",
                "beta = np.array([[1, 1]]).T\n",
                "ans = compute_cost_logreg(beta, X, y)\n",
                "print(ans)\n",
                "assert np.isclose(ans, 0)\n",
                "\n",
                "y = np.array([[0]])\n",
                "X = np.array([[10, 40]])\n",
                "beta = np.array([[-1, -1]]).T\n",
                "ans = compute_cost_logreg(beta, X, y)\n",
                "print(ans)\n",
                "assert np.isclose(ans, 0)"
            ]
        },
        {
            "cell_type": "code",
            "execution_count": 970,
            "metadata": {
                "deletable": false,
                "editable": false,
                "nbgrader": {
                    "grade": true,
                    "grade_id": "cs22",
                    "locked": true,
                    "points": "1",
                    "solution": false
                }
            },
            "outputs": [],
            "source": [
                "###\n",
                "### AUTOGRADER TEST - DO NOT REMOVE\n",
                "###\n"
            ]
        },
        {
            "cell_type": "markdown",
            "metadata": {
                "deletable": false,
                "editable": false,
                "nbgrader": {
                    "grade": false,
                    "locked": true,
                    "solution": false
                }
            },
            "source": [
                "**CS3.** *Gradient Descent:* Recall that the update functions can be written as a matrix multiplication.\n",
                "\n",
                "$$\\mathbf{b} = \\mathbf{b} - \\alpha\\frac{1}{m}\\mathbf{X}^T(\\mathbf{p} - \\mathbf{y}) $$\n",
                "\n",
                "Write a function called `gradient_descent_logreg()` that takes in four parameters:\n",
                "- `X`: is a 2-D numpy array for the features\n",
                "- `y`: is a vector array for the target\n",
                "- `beta`: is a column vector for the initial guess of the parameters\n",
                "- `alpha`: is the learning rate\n",
                "- `num_iters`: is the number of iteration to perform\n",
                "\n",
                "The function should return two arrays:\n",
                "- `beta`: is coefficient at the end of the iteration\n",
                "- `J_storage`: is the array that stores the cost value at each iteration\n",
                "\n",
                "The solution is similar to Linear Regression gradient descent function with two differences:\n",
                "- you need to use `log_regression()` to calculate the hypothesis\n",
                "- you need to use `compute_cost_logreg()` to calculate the cost"
            ]
        },
        {
            "cell_type": "code",
            "execution_count": 971,
            "metadata": {
                "collapsed": true
            },
            "outputs": [],
            "source": [
                "def gradient_descent_logreg(X, y, beta, alpha, num_iters):\n",
                "    # m is the no. of data pts\n",
                "    m = X.shape[0]\n",
                "    J_storage = []\n",
                "    for i in range(num_iters):\n",
                "        beta = beta - alpha * 1 / m * X.T @ (calc_log(X, beta) - y)\n",
                "        J_storage.append(compute_cost_logreg(beta, X, y))\n",
                "    \n",
                "    return beta, J_storage"
            ]
        },
        {
            "cell_type": "code",
            "execution_count": 972,
            "metadata": {
                "deletable": false,
                "editable": false,
                "nbgrader": {
                    "grade": true,
                    "grade_id": "cs31",
                    "locked": true,
                    "points": "1",
                    "solution": false
                }
            },
            "outputs": [
                {
                    "name": "stdout",
                    "output_type": "stream",
                    "text": [
                        "[[-0.56630289]\n",
                        " [ 1.93763591]]\n"
                    ]
                }
            ],
            "source": [
                "iterations = 1500\n",
                "alpha = 0.01\n",
                "beta = np.zeros((2,1))\n",
                "beta, J_storage = gradient_descent_logreg(feature, target, beta, alpha, iterations)\n",
                "\n",
                "print(beta)\n",
                "assert beta.shape == (2, 1)\n",
                "assert np.isclose(beta[0][0], -0.56630)\n",
                "assert np.isclose(beta[1][0], 1.93764)"
            ]
        },
        {
            "cell_type": "code",
            "execution_count": 973,
            "metadata": {
                "deletable": false,
                "editable": false,
                "nbgrader": {
                    "grade": true,
                    "grade_id": "cs32",
                    "locked": true,
                    "points": "1",
                    "solution": false
                }
            },
            "outputs": [],
            "source": [
                "###\n",
                "### AUTOGRADER TEST - DO NOT REMOVE\n",
                "###\n"
            ]
        },
        {
            "cell_type": "code",
            "execution_count": 974,
            "metadata": {
                "deletable": false,
                "editable": false,
                "nbgrader": {
                    "grade": false,
                    "locked": true,
                    "solution": false
                }
            },
            "outputs": [
                {
                    "data": {
                        "text/plain": [
                            "[<matplotlib.lines.Line2D at 0x1bd1dde52d0>]"
                        ]
                    },
                    "execution_count": 974,
                    "metadata": {},
                    "output_type": "execute_result"
                },
                {
                    "data": {
                        "image/png": "[encoded data removed]",
                        "text/plain": [
                            "<Figure size 640x480 with 1 Axes>"
                        ]
                    },
                    "metadata": {},
                    "output_type": "display_data"
                }
            ],
            "source": [
                "plt.plot(J_storage)"
            ]
        },
        {
            "cell_type": "markdown",
            "metadata": {
                "deletable": false,
                "editable": false,
                "nbgrader": {
                    "grade": false,
                    "locked": true,
                    "solution": false
                }
            },
            "source": [
                "**CS4.** *Predict:* Write two functions `predict()` and `predict_norm()` that calculate the straight line equation given the features and its coefficient.\n",
                "- `predict()`: this function should standardize the feature using z normalization, change it to a Numpy array, and add a column of constant 1s. You should use `prepare_feature()` for this purpose. Lastly, this function should also call `predict_norm()` to get the predicted y values.\n",
                "- `predict_norm()`: this function should calculate the hypothesis or its probability and categorize it to either 0 or 1 based on its probability.\n",
                "\n",
                "You can use the following function in your code:\n",
                "- `np.where()`"
            ]
        },
        {
            "cell_type": "code",
            "execution_count": 975,
            "metadata": {
                "collapsed": true,
                "nbgrader": {
                    "grade": false,
                    "grade_id": "cs41",
                    "locked": false,
                    "points": "1",
                    "solution": false
                }
            },
            "outputs": [],
            "source": [
                "def predict_norm(X, beta):\n",
                "    p = calc_log(X, beta)\n",
                "    return np.where(p >= 0.5, 1, 0)\n",
                "    "
            ]
        },
        {
            "cell_type": "code",
            "execution_count": 976,
            "metadata": {
                "collapsed": true,
                "nbgrader": {
                    "grade": false,
                    "grade_id": "cs42",
                    "locked": false,
                    "points": "1",
                    "solution": false
                }
            },
            "outputs": [],
            "source": [
                "def predict(df_feature, beta):\n",
                "    df_feature = prepare_feature(normalize_z(df_feature))\n",
                "    return predict_norm(df_feature, beta)"
            ]
        },
        {
            "cell_type": "code",
            "execution_count": 977,
            "metadata": {
                "deletable": false,
                "editable": false,
                "nbgrader": {
                    "grade": true,
                    "grade_id": "cs41",
                    "locked": true,
                    "points": "1",
                    "solution": false
                }
            },
            "outputs": [
                {
                    "name": "stdout",
                    "output_type": "stream",
                    "text": [
                        "0.28998242530755713 0.4537539182423709\n"
                    ]
                }
            ],
            "source": [
                "pred = predict(df_feature, beta)\n",
                "print(pred.mean(), pred.std())\n",
                "assert isinstance(pred, np.ndarray)\n",
                "assert np.isclose(pred.mean(), 0.28998)\n",
                "assert np.isclose(pred.std(), 0.45375)"
            ]
        },
        {
            "cell_type": "code",
            "execution_count": 978,
            "metadata": {
                "deletable": false,
                "editable": false,
                "nbgrader": {
                    "grade": true,
                    "grade_id": "cs42",
                    "locked": true,
                    "points": "1",
                    "solution": false
                }
            },
            "outputs": [],
            "source": [
                "###\n",
                "### AUTOGRADER TEST - DO NOT REMOVE\n",
                "###\n"
            ]
        },
        {
            "cell_type": "code",
            "execution_count": 979,
            "metadata": {
                "deletable": false,
                "editable": false,
                "nbgrader": {
                    "grade": false,
                    "locked": true,
                    "solution": false
                }
            },
            "outputs": [
                {
                    "data": {
                        "text/plain": [
                            "<matplotlib.collections.PathCollection at 0x1bd1f093550>"
                        ]
                    },
                    "execution_count": 979,
                    "metadata": {},
                    "output_type": "execute_result"
                },
                {
                    "data": {
                        "image/png": "[encoded data removed]",
                        "text/plain": [
                            "<Figure size 640x480 with 1 Axes>"
                        ]
                    },
                    "metadata": {},
                    "output_type": "display_data"
                }
            ],
            "source": [
                "plt.scatter(df_feature, df_target)\n",
                "plt.scatter(df_feature, pred)"
            ]
        },
        {
            "cell_type": "markdown",
            "metadata": {
                "deletable": false,
                "editable": false,
                "nbgrader": {
                    "grade": false,
                    "locked": true,
                    "solution": false
                }
            },
            "source": [
                "**CS5.** *Multiple features and splitting of data set:* \n",
                "\n",
                "Do the following task in the code below:\n",
                "- Read the following column names as the features: `\"radius_mean\", \"texture_mean\", \"perimeter_mean\", \"area_mean\", \"smoothness_mean\", \"compactness_mean\", \"concavity_mean\"`\n",
                "- Read the column `diagnosis` as the target. Change the value from `M` and `B` to `1` and `0` respectively.\n",
                "- Split the data set with 30% test size and `random_state = 100`.\n",
                "- Normalize the training feature data set using `normalize_z()` function.\n",
                "- Convert to numpy array both the target and the features using `prepare_feature()` and `prepare_target()` functions.\n",
                "- Call `gradient_descent()` function to get the parameters using the training data set.\n",
                "- Call `predict()` function on the test data set to get the predicted values."
            ]
        },
        {
            "cell_type": "code",
            "execution_count": 980,
            "metadata": {},
            "outputs": [
                {
                    "name": "stdout",
                    "output_type": "stream",
                    "text": [
                        "[[-0.6139379 ]\n",
                        " [ 0.82529554]\n",
                        " [ 0.72746485]\n",
                        " [ 0.8236603 ]\n",
                        " [ 0.81647937]\n",
                        " [ 0.5057749 ]\n",
                        " [ 0.44176466]\n",
                        " [ 0.78736842]]\n"
                    ]
                }
            ],
            "source": [
                "columns = [\"radius_mean\", \"texture_mean\", \"perimeter_mean\", \"area_mean\", \"smoothness_mean\", \"compactness_mean\", \"concavity_mean\"]\n",
                "\n",
                "# extract the features and the target columns\n",
                "df_features, df_target = get_features_targets(df, columns, ['diagnosis'])\n",
                "\n",
                "# replace the target values using from string to integer 0 and 1\n",
                "df_target = replace_target(df_target, 'diagnosis', map_vals={'M': 1, 'B': 0})\n",
                "\n",
                "# split the data with random_state = 100 and 30% test size\n",
                "df_features_train, df_features_test, df_target_train, df_target_test = split_data(df_features, df_target, random_state=100, test_size=0.3)\n",
                "\n",
                "# normalize the features\n",
                "df_features_train_z = normalize_z(df_features_train)\n",
                "\n",
                "# change the feature columns to numpy array and append column of 1s\n",
                "features = prepare_feature(df_features_train_z)\n",
                "\n",
                "# change the target column to numpy array\n",
                "target = prepare_target(df_target_train)\n",
                "\n",
                "iterations = 1500\n",
                "alpha = 0.01\n",
                "\n",
                "# provide initia(l guess for theta\n",
                "beta = np.zeros((len(columns)+1, 1))\n",
                "\n",
                "# call the gradient descent method\n",
                "beta, J_storage = gradient_descent_logreg(features, target, beta, alpha, iterations)\n",
                "### YOUR CODE HERE\n",
                "###\n",
                "print(beta)\n",
                "\n"
            ]
        },
        {
            "cell_type": "code",
            "execution_count": 981,
            "metadata": {
                "collapsed": true,
                "deletable": false,
                "editable": false,
                "nbgrader": {
                    "grade": true,
                    "grade_id": "cs51",
                    "locked": true,
                    "points": "1",
                    "solution": false
                }
            },
            "outputs": [],
            "source": [
                "assert beta.shape == (8, 1)\n",
                "ans = np.array([[-0.6139379 ], \n",
                "                [ 0.82529554],\n",
                "                [ 0.72746485],\n",
                "                [ 0.8236603 ],\n",
                "                [ 0.81647937],\n",
                "                [ 0.5057749 ],\n",
                "                [ 0.44176466],\n",
                "                [ 0.78736842]])\n",
                "assert np.isclose(beta, ans).all()"
            ]
        },
        {
            "cell_type": "code",
            "execution_count": 982,
            "metadata": {
                "deletable": false,
                "editable": false,
                "nbgrader": {
                    "grade": true,
                    "grade_id": "cs52",
                    "locked": true,
                    "points": "1",
                    "solution": false
                }
            },
            "outputs": [],
            "source": [
                "###\n",
                "### AUTOGRADER TEST - DO NOT REMOVE\n",
                "###\n"
            ]
        },
        {
            "cell_type": "code",
            "execution_count": 983,
            "metadata": {
                "deletable": false,
                "editable": false,
                "nbgrader": {
                    "grade": false,
                    "locked": true,
                    "solution": false
                }
            },
            "outputs": [
                {
                    "data": {
                        "text/plain": [
                            "[<matplotlib.lines.Line2D at 0x1bd1f118d60>]"
                        ]
                    },
                    "execution_count": 983,
                    "metadata": {},
                    "output_type": "execute_result"
                },
                {
                    "data": {
                        "image/png": "[encoded data removed]",
                        "text/plain": [
                            "<Figure size 640x480 with 1 Axes>"
                        ]
                    },
                    "metadata": {},
                    "output_type": "display_data"
                }
            ],
            "source": [
                "plt.plot(J_storage)"
            ]
        },
        {
            "cell_type": "code",
            "execution_count": 984,
            "metadata": {
                "collapsed": true
            },
            "outputs": [],
            "source": [
                "# call predict() to get the predicted values\n",
                "pred = predict(df_features_test, beta)\n",
                "\n",
                "###\n",
                "### YOUR CODE HERE\n",
                "###\n"
            ]
        },
        {
            "cell_type": "code",
            "execution_count": 985,
            "metadata": {
                "deletable": false,
                "editable": false,
                "nbgrader": {
                    "grade": false,
                    "locked": true,
                    "solution": false
                }
            },
            "outputs": [
                {
                    "data": {
                        "text/plain": [
                            "<matplotlib.collections.PathCollection at 0x1bd1f0ed4e0>"
                        ]
                    },
                    "execution_count": 985,
                    "metadata": {},
                    "output_type": "execute_result"
                },
                {
                    "data": {
                        "image/png": "[encoded data removed]",
                        "text/plain": [
                            "<Figure size 640x480 with 1 Axes>"
                        ]
                    },
                    "metadata": {},
                    "output_type": "display_data"
                }
            ],
            "source": [
                "plt.scatter(df_features_test[\"radius_mean\"], df_target_test)\n",
                "plt.scatter(df_features_test[\"radius_mean\"], pred)"
            ]
        },
        {
            "cell_type": "code",
            "execution_count": 986,
            "metadata": {
                "deletable": false,
                "editable": false,
                "nbgrader": {
                    "grade": false,
                    "locked": true,
                    "solution": false
                }
            },
            "outputs": [
                {
                    "data": {
                        "text/plain": [
                            "<matplotlib.collections.PathCollection at 0x1bd1f210dc0>"
                        ]
                    },
                    "execution_count": 986,
                    "metadata": {},
                    "output_type": "execute_result"
                },
                {
                    "data": {
                        "image/png": "[encoded data removed]",
                        "text/plain": [
                            "<Figure size 640x480 with 1 Axes>"
                        ]
                    },
                    "metadata": {},
                    "output_type": "display_data"
                }
            ],
            "source": [
                "plt.scatter(df_features_test[\"texture_mean\"], df_target_test)\n",
                "plt.scatter(df_features_test[\"texture_mean\"], pred)"
            ]
        },
        {
            "cell_type": "code",
            "execution_count": 987,
            "metadata": {
                "deletable": false,
                "editable": false,
                "nbgrader": {
                    "grade": false,
                    "locked": true,
                    "solution": false
                }
            },
            "outputs": [
                {
                    "data": {
                        "text/plain": [
                            "<matplotlib.collections.PathCollection at 0x1bd1f2636d0>"
                        ]
                    },
                    "execution_count": 987,
                    "metadata": {},
                    "output_type": "execute_result"
                },
                {
                    "data": {
                        "image/png": "[encoded data removed]",
                        "text/plain": [
                            "<Figure size 640x480 with 1 Axes>"
                        ]
                    },
                    "metadata": {},
                    "output_type": "display_data"
                }
            ],
            "source": [
                "plt.scatter(df_features_test[\"perimeter_mean\"], df_target_test)\n",
                "plt.scatter(df_features_test[\"perimeter_mean\"], pred)"
            ]
        },
        {
            "cell_type": "markdown",
            "metadata": {
                "deletable": false,
                "editable": false,
                "nbgrader": {
                    "grade": false,
                    "locked": true,
                    "solution": false
                }
            },
            "source": [
                "**CS6.** *Confusion Matrix:* Write a function `confusion_matrix()` that takes in:\n",
                "- `ytrue`: which is the true target values\n",
                "- `ypred`: which is the predicted target values\n",
                "- `labels`: which is a list of the category. In the above case it will be `[1, 0]`. Put the positive case as the first element of the list. \n",
                "\n",
                "The function should return a dictionary containing the matrix with the following format.\n",
                "\n",
                "|                 | predicted positive (1) | predicted negative (0) |\n",
                "|-----------------|--------------------|--------------------|\n",
                "| actual positive (1) | correct positive  (1, 1) | false negative (1, 0)    |\n",
                "| actual negative (0) | false positive (0, 1)   | correct negative (0, 0)   |\n",
                "\n",
                "The keys to the dictionary are the indices: `(0, 0), (0, 1), (1, 0), (1, 1)`.\n",
                "\n",
                "You can use the following function in your code:\n",
                "- `itertools.product()`: this is to create a combination of all the labels. "
            ]
        },
        {
            "cell_type": "code",
            "execution_count": 988,
            "metadata": {
                "collapsed": true
            },
            "outputs": [],
            "source": [
                "import itertools\n",
                "def confusion_matrix(ytrue, ypred, labels):\n",
                "    output = {i: 0 for i in itertools.product(labels, labels)}\n",
                "    for t, p in zip(ytrue, ypred):\n",
                "        output[(t[0], p[0])] += 1\n",
                "\n",
                "    return output\n"
            ]
        },
        {
            "cell_type": "code",
            "execution_count": 989,
            "metadata": {
                "deletable": false,
                "editable": false,
                "nbgrader": {
                    "grade": true,
                    "grade_id": "cs61",
                    "locked": true,
                    "points": "1",
                    "solution": false
                }
            },
            "outputs": [
                {
                    "name": "stdout",
                    "output_type": "stream",
                    "text": [
                        "{(1, 1): 57, (1, 0): 12, (0, 1): 1, (0, 0): 100}\n"
                    ]
                }
            ],
            "source": [
                "result = confusion_matrix(df_target_test.values, pred, [1,0])\n",
                "print(result)\n",
                "assert result == {(0, 0): 100, (0, 1): 1, (1, 0): 12, (1, 1): 57}"
            ]
        },
        {
            "cell_type": "markdown",
            "metadata": {
                "deletable": false,
                "editable": false,
                "nbgrader": {
                    "grade": false,
                    "locked": true,
                    "solution": false
                }
            },
            "source": [
                "**CS7.** *Metrics:* Write a function `calc_accuracy()` that takes in a Confusion Matrix array and output a dictionary with the following keys and values:\n",
                "- `accuracy`: total number of correct predictions / total number of records\n",
                "- `sensitivity`: total correct positive cases / total positive cases\n",
                "- `specificity`: total false positives / total negative cases\n",
                "- `precision`: total  of correct positive cases / total predicted positive cases"
            ]
        },
        {
            "cell_type": "code",
            "execution_count": 990,
            "metadata": {
                "collapsed": true
            },
            "outputs": [],
            "source": [
                "def calc_accuracy(cm):\n",
                "    tp = cm[(1,1)]\n",
                "    fp = cm[(0,1)]\n",
                "    tn = cm[(0,0)]\n",
                "    fn = cm[(1,0)]\n",
                "    accuracy = (tp + tn) / (tp + fp + tn + fn)\n",
                "    sensitivity = tp / (tp + fn)\n",
                "    # specificity written above is wrong. it's true negatives / (total negatives)\n",
                "    specificity = tn / (fp + tn)\n",
                "    precision = tp / (tp + fp)\n",
                "    ### YOUR CODE HERE\n",
                "    ###\n",
                "    result = {'accuracy': accuracy, 'sensitivity': sensitivity,\n",
                "              'specificity': specificity, 'precision': precision}\n",
                "    return result\n"
            ]
        },
        {
            "cell_type": "code",
            "execution_count": 991,
            "metadata": {
                "collapsed": true,
                "deletable": false,
                "editable": false,
                "nbgrader": {
                    "grade": true,
                    "grade_id": "cs71",
                    "locked": true,
                    "points": "1",
                    "solution": false
                }
            },
            "outputs": [],
            "source": [
                "ans = calc_accuracy(result)\n",
                "expected = {'accuracy': 0.9235294117647059, 'sensitivity': 0.8260869565217391, 'specificity': 0.9900990099009901, 'precision': 0.9827586206896551}\n",
                "assert np.isclose(ans['accuracy'], expected['accuracy'])\n",
                "assert np.isclose(ans['sensitivity'], expected['sensitivity'])\n",
                "assert np.isclose(ans['specificity'], expected['specificity'])\n",
                "assert np.isclose(ans['precision'], expected['precision'])\n",
                " "
            ]
        },
        {
            "cell_type": "markdown",
            "metadata": {
                "deletable": false,
                "editable": false,
                "nbgrader": {
                    "grade": false,
                    "locked": true,
                    "solution": false
                }
            },
            "source": [
                "**CS8.** *Optional:* Redo the above tasks using Scikit Learn libraries. You will need to use the following:\n",
                "- [LogisticRegression](https://scikit-learn.org/stable/modules/generated/sklearn.linear_model.LogisticRegression.html)\n",
                "- [train_test_split](https://scikit-learn.org/stable/modules/generated/sklearn.model_selection.train_test_split.html)\n",
                "- [confusion_matrix](https://scikit-learn.org/stable/modules/generated/sklearn.metrics.confusion_matrix.html)"
            ]
        },
        {
            "cell_type": "code",
            "execution_count": 992,
            "metadata": {
                "collapsed": true,
                "deletable": false,
                "editable": false,
                "nbgrader": {
                    "grade": false,
                    "locked": true,
                    "solution": false
                }
            },
            "outputs": [],
            "source": [
                "from sklearn.linear_model import LogisticRegression\n",
                "from sklearn.model_selection import train_test_split\n",
                "from sklearn.metrics import confusion_matrix"
            ]
        },
        {
            "cell_type": "code",
            "execution_count": 993,
            "metadata": {
                "collapsed": true
            },
            "outputs": [],
            "source": [
                "columns = [\"radius_mean\", \"texture_mean\", \"perimeter_mean\", \"area_mean\", \"smoothness_mean\", \"compactness_mean\", \"concavity_mean\"]\n",
                "# get the features and the columns\n",
                "df_features = df.loc[:, columns]\n",
                "\n",
                "# replace target values with 0 and 1\n",
                "df_target = replace_target(pd.DataFrame(df.loc[:, 'diagnosis']), 'diagnosis', {'M': 1, 'B': 0})\n",
                "\n",
                "###\n",
                "### YOUR CODE HERE\n",
                "###\n"
            ]
        },
        {
            "cell_type": "code",
            "execution_count": 994,
            "metadata": {},
            "outputs": [],
            "source": [
                "# split data set using random_state = 100 and 30% test size\n",
                "df_features_train, df_features_test, df_target_train, df_target_test = train_test_split(df_features, df_target, test_size=0.3, train_size=0.7, random_state=100)\n",
                "\n",
                "# change feature to numpy array and append column of 1s\n",
                "feature = prepare_feature(df_features_train)\n",
                "\n",
                "# change target to numpy array\n",
                "target = prepare_target(df_target_train)\n",
                "\n",
                "###\n",
                "### YOUR CODE HERE\n",
                "###\n"
            ]
        },
        {
            "cell_type": "code",
            "execution_count": 995,
            "metadata": {
                "collapsed": true
            },
            "outputs": [
                {
                    "name": "stderr",
                    "output_type": "stream",
                    "text": [
                        "c:\\Python310\\lib\\site-packages\\sklearn\\utils\\validation.py:1111: DataConversionWarning: A column-vector y was passed when a 1d array was expected. Please change the shape of y to (n_samples, ), for example using ravel().\n",
                        "  y = column_or_1d(y, warn=True)\n"
                    ]
                }
            ],
            "source": [
                "# create LogisticRegression object instance, use newton-cg solver\n",
                "model = LogisticRegression(solver='newton-cg')\n",
                "\n",
                "# build model\n",
                "model.fit(feature, target)\n",
                "\n",
                "feat_test = prepare_feature(df_features_test)\n",
                "\n",
                "# get predicted value\n",
                "pred = model.predict(feat_test)\n",
                "\n",
                "###\n",
                "### YOUR CODE HERE\n",
                "###\n"
            ]
        },
        {
            "cell_type": "code",
            "execution_count": 996,
            "metadata": {
                "collapsed": true
            },
            "outputs": [],
            "source": [
                "# calculate confusion matrix\n",
                "cm = confusion_matrix(y_true=df_target_test.values, y_pred=pred, labels=[1, 0])\n",
                "###\n",
                "### YOUR CODE HERE\n",
                "###\n"
            ]
        },
        {
            "cell_type": "code",
            "execution_count": 997,
            "metadata": {
                "collapsed": true,
                "deletable": false,
                "editable": false,
                "nbgrader": {
                    "grade": false,
                    "locked": true,
                    "solution": false
                }
            },
            "outputs": [],
            "source": [
                "expected = np.array([[58,  11], [6, 96]])\n",
                "assert (cm == expected).all()"
            ]
        },
        {
            "cell_type": "code",
            "execution_count": 998,
            "metadata": {
                "deletable": false,
                "editable": false,
                "nbgrader": {
                    "grade": false,
                    "locked": true,
                    "solution": false
                }
            },
            "outputs": [
                {
                    "data": {
                        "text/plain": [
                            "<matplotlib.collections.PathCollection at 0x1bd1efa7700>"
                        ]
                    },
                    "execution_count": 998,
                    "metadata": {},
                    "output_type": "execute_result"
                },
                {
                    "data": {
                        "image/png": "[encoded data removed]",
                        "text/plain": [
                            "<Figure size 640x480 with 1 Axes>"
                        ]
                    },
                    "metadata": {},
                    "output_type": "display_data"
                }
            ],
            "source": [
                "plt.scatter(df_features_test[\"radius_mean\"], df_target_test)\n",
                "plt.scatter(df_features_test[\"radius_mean\"], pred)"
            ]
        },
        {
            "cell_type": "code",
            "execution_count": 999,
            "metadata": {
                "deletable": false,
                "editable": false,
                "nbgrader": {
                    "grade": false,
                    "locked": true,
                    "solution": false
                }
            },
            "outputs": [
                {
                    "data": {
                        "text/plain": [
                            "<matplotlib.collections.PathCollection at 0x1bd1effa8c0>"
                        ]
                    },
                    "execution_count": 999,
                    "metadata": {},
                    "output_type": "execute_result"
                },
                {
                    "data": {
                        "image/png": "[encoded data removed]",
                        "text/plain": [
                            "<Figure size 640x480 with 1 Axes>"
                        ]
                    },
                    "metadata": {},
                    "output_type": "display_data"
                }
            ],
            "source": [
                "plt.scatter(df_features_test[\"texture_mean\"], df_target_test)\n",
                "plt.scatter(df_features_test[\"texture_mean\"], pred)"
            ]
        },
        {
            "cell_type": "code",
            "execution_count": 1000,
            "metadata": {
                "deletable": false,
                "editable": false,
                "nbgrader": {
                    "grade": false,
                    "locked": true,
                    "solution": false
                }
            },
            "outputs": [
                {
                    "data": {
                        "text/plain": [
                            "<matplotlib.collections.PathCollection at 0x1bd1f2de3b0>"
                        ]
                    },
                    "execution_count": 1000,
                    "metadata": {},
                    "output_type": "execute_result"
                },
                {
                    "data": {
                        "image/png": "[encoded data removed]",
                        "text/plain": [
                            "<Figure size 640x480 with 1 Axes>"
                        ]
                    },
                    "metadata": {},
                    "output_type": "display_data"
                }
            ],
            "source": [
                "plt.scatter(df_features_test[\"perimeter_mean\"], df_target_test)\n",
                "plt.scatter(df_features_test[\"perimeter_mean\"], pred)"
            ]
        }
    ],
    "metadata": {
        "kernelspec": {
            "display_name": "Python 3.10.4 64-bit",
            "language": "python",
            "name": "python3"
        },
        "language_info": {
            "codemirror_mode": {
                "name": "ipython",
                "version": 3
            },
            "file_extension": ".py",
            "mimetype": "text/x-python",
            "name": "python",
            "nbconvert_exporter": "python",
            "pygments_lexer": "ipython3",
            "version": "3.10.4"
        },
        "vscode": {
            "interpreter": {
                "hash": "369f2c481f4da34e4445cda3fffd2e751bd1c4d706f27375911949ba6bb62e1c"
            }
        }
    },
    "nbformat": 4,
    "nbformat_minor": 4
}
