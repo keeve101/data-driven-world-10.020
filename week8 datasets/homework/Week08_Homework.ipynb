{
    "cells": [
        {
            "cell_type": "markdown",
            "metadata": {
                "deletable": false,
                "editable": false,
                "nbgrader": {
                    "grade": false,
                    "locked": true,
                    "solution": false
                }
            },
            "source": [
                "# Week 8 Problem Set\n",
                "\n",
                "## Homeworks"
            ]
        },
        {
            "cell_type": "code",
            "execution_count": null,
            "metadata": {
                "collapsed": true,
                "deletable": false,
                "editable": false,
                "nbgrader": {
                    "grade": false,
                    "locked": true,
                    "solution": false
                }
            },
            "outputs": [],
            "source": [
                "import pandas as pd\n",
                "import matplotlib.pyplot as plt\n",
                "import seaborn as sns\n",
                "import numpy as np"
            ]
        },
        {
            "cell_type": "markdown",
            "metadata": {
                "deletable": false,
                "editable": false,
                "nbgrader": {
                    "grade": false,
                    "locked": true,
                    "solution": false
                }
            },
            "source": [
                "**HW1.** *Breast Cancer Data:* Read Breast Cancer data using Pandas library:\n",
                "- **Task 1:** Read the file: `breast_cancer_data.csv`:\n",
                "    - [Download the CSV file](https://www.dropbox.com/s/1u8y8kzdltse4yd/data.csv?raw=1)\n",
                "    - [Read Description of Data](https://www.kaggle.com/uciml/breast-cancer-wisconsin-data)\n",
                "    - use comma `\",\"` as field separator\n",
                "    - use `\"utf-8\"` as encoding field"
            ]
        },
        {
            "cell_type": "code",
            "execution_count": null,
            "metadata": {},
            "outputs": [],
            "source": [
                "# Task 1\n",
                "# Read file, replace the None\n",
                "df = pd.read_csv(\"breast_cancer_data.csv\", sep=\",\", encoding=\"utf-8\")\n",
                "\n",
                "###\n",
                "### YOUR CODE HERE\n",
                "###\n",
                "display(df)\n"
            ]
        },
        {
            "cell_type": "code",
            "execution_count": null,
            "metadata": {
                "collapsed": true,
                "deletable": false,
                "editable": false,
                "nbgrader": {
                    "grade": true,
                    "grade_id": "hw11",
                    "locked": true,
                    "points": "1",
                    "solution": false
                }
            },
            "outputs": [],
            "source": [
                "assert isinstance(df, pd.DataFrame)\n",
                "assert df.shape == (569, 32)\n",
                "assert df.columns[0] == 'id' and df.columns[-1] == 'fractal_dimension_worst'"
            ]
        },
        {
            "cell_type": "markdown",
            "metadata": {
                "deletable": false,
                "editable": false,
                "nbgrader": {
                    "grade": false,
                    "locked": true,
                    "solution": false
                }
            },
            "source": [
                "- **Task 2:** Find the number of rows and columns.\n"
            ]
        },
        {
            "cell_type": "code",
            "execution_count": null,
            "metadata": {},
            "outputs": [],
            "source": [
                "# Task 2\n",
                "# get the shape\n",
                "shape = df.shape\n",
                "\n",
                "# get rows and columns from shape\n",
                "row = shape[0]\n",
                "col = shape[1]\n",
                "\n",
                "###\n",
                "### YOUR CODE HERE\n",
                "###\n",
                "\n",
                "print(row,col)\n",
                "\n"
            ]
        },
        {
            "cell_type": "code",
            "execution_count": null,
            "metadata": {
                "collapsed": true,
                "deletable": false,
                "editable": false,
                "nbgrader": {
                    "grade": true,
                    "grade_id": "hw12",
                    "locked": true,
                    "points": "1",
                    "solution": false
                }
            },
            "outputs": [],
            "source": [
                "assert shape == (569, 32)\n",
                "assert row == 569\n",
                "assert col == 32"
            ]
        },
        {
            "cell_type": "markdown",
            "metadata": {
                "deletable": false,
                "editable": false,
                "nbgrader": {
                    "grade": false,
                    "locked": true,
                    "solution": false
                }
            },
            "source": [
                "- **Task 3:** Find the name of all the columns.\n"
            ]
        },
        {
            "cell_type": "code",
            "execution_count": null,
            "metadata": {},
            "outputs": [],
            "source": [
                "# Task 3\n",
                "# display the name of all the columns\n",
                "names = df.columns\n",
                "\n",
                "###\n",
                "### YOUR CODE HERE\n",
                "###\n",
                "\n",
                "print(names)"
            ]
        },
        {
            "cell_type": "code",
            "execution_count": null,
            "metadata": {
                "collapsed": true,
                "deletable": false,
                "editable": false,
                "nbgrader": {
                    "grade": true,
                    "grade_id": "hw13",
                    "locked": true,
                    "points": "1",
                    "solution": false
                }
            },
            "outputs": [],
            "source": [
                "assert isinstance(names, pd.Index)\n",
                "assert np.all(names == pd.Index(['id', 'diagnosis', 'radius_mean', 'texture_mean', 'perimeter_mean',\n",
                "       'area_mean', 'smoothness_mean', 'compactness_mean', 'concavity_mean',\n",
                "       'concave points_mean', 'symmetry_mean', 'fractal_dimension_mean',\n",
                "       'radius_se', 'texture_se', 'perimeter_se', 'area_se', 'smoothness_se',\n",
                "       'compactness_se', 'concavity_se', 'concave points_se', 'symmetry_se',\n",
                "       'fractal_dimension_se', 'radius_worst', 'texture_worst',\n",
                "       'perimeter_worst', 'area_worst', 'smoothness_worst',\n",
                "       'compactness_worst', 'concavity_worst', 'concave points_worst',\n",
                "       'symmetry_worst', 'fractal_dimension_worst']))"
            ]
        },
        {
            "cell_type": "markdown",
            "metadata": {
                "deletable": false,
                "editable": false,
                "nbgrader": {
                    "grade": false,
                    "locked": true,
                    "solution": false
                }
            },
            "source": [
                "- **Task 4:** Create a subset data set containing only the following features:\n",
                "    - radius (mean of distances from center to points on the perimeter)\n",
                "    - texture (standard deviation of gray-scale values)\n",
                "    - perimeter\n",
                "    - area\n",
                "    - smoothness (local variation in radius lengths)\n",
                "    - concavity (severity of concave portions of the contour)\n",
                "    \n",
                "**Make sure the data type is `pd.DataFrame`.**\n"
            ]
        },
        {
            "cell_type": "code",
            "execution_count": null,
            "metadata": {},
            "outputs": [],
            "source": [
                "# Task 4\n",
                "# set the name of the columns for the subset of data\n",
                "columns = ['radius_mean', 'texture_mean', 'perimeter_mean', 'area_mean', 'smoothness_mean', 'concavity_mean']\n",
                "\n",
                "# extract the columns, replace the None\n",
                "df_features = df.loc[:, columns]\n",
                "\n"
            ]
        },
        {
            "cell_type": "code",
            "execution_count": null,
            "metadata": {
                "collapsed": true,
                "deletable": false,
                "editable": false,
                "nbgrader": {
                    "grade": true,
                    "grade_id": "hw14",
                    "locked": true,
                    "points": "1",
                    "solution": false
                }
            },
            "outputs": [],
            "source": [
                "assert isinstance(df_features, pd.DataFrame)\n",
                "assert df_features.columns[0] == 'radius_mean'\n",
                "assert df_features.columns[-1] == 'concavity_mean'\n",
                "assert df_features.shape == (569, 6)"
            ]
        },
        {
            "cell_type": "markdown",
            "metadata": {
                "deletable": false,
                "editable": false,
                "nbgrader": {
                    "grade": false,
                    "locked": true,
                    "solution": false
                }
            },
            "source": [
                "- **Task 5:** Create a subset data set containing only the target from the column \"diagnosis\". \n",
                "\n",
                "**Make sure the data type is `pd.DataFrame`.**"
            ]
        },
        {
            "cell_type": "code",
            "execution_count": null,
            "metadata": {},
            "outputs": [],
            "source": [
                "#5.\n",
                "# extract target\n",
                "df_target = pd.DataFrame(df.loc[:, 'diagnosis'])\n",
                "\n",
                "###\n",
                "### YOUR CODE HERE\n",
                "###\n",
                "\n",
                "df_target"
            ]
        },
        {
            "cell_type": "code",
            "execution_count": null,
            "metadata": {
                "collapsed": true,
                "deletable": false,
                "editable": false,
                "nbgrader": {
                    "grade": true,
                    "grade_id": "hw15",
                    "locked": true,
                    "points": "1",
                    "solution": false
                }
            },
            "outputs": [],
            "source": [
                "assert isinstance(df_target, pd.DataFrame)\n",
                "assert df_target.shape == (569, 1)\n",
                "assert df_target.columns[0] == 'diagnosis'"
            ]
        },
        {
            "cell_type": "markdown",
            "metadata": {
                "deletable": false,
                "editable": false,
                "nbgrader": {
                    "grade": false,
                    "locked": true,
                    "solution": false
                }
            },
            "source": [
                "- **Task 6:** Create a new Data Frame from the column \"diagnosis\", called \"diagnosis_int\" which is the integer representation of the column diagnosis. Copy the column into the original data frame so that it has a copy.\n",
                "    - if the value in \"diagnosis\" column is \"M\", the value in the column \"diagnosis_int\" should be set to 1\n",
                "    - otherwise, it should be set to 0\n",
                "    \n",
                "*Hint: use `.apply()` method.*\n"
            ]
        },
        {
            "cell_type": "code",
            "execution_count": null,
            "metadata": {},
            "outputs": [],
            "source": [
                "# Task 6\n",
                "# creating diagnosis_int\n",
                "df_target[\"diagnosis_int\"] = df_target['diagnosis'].apply(lambda x: 1 if x == \"M\" else 0)\n",
                "\n",
                "# copy the new column into the original data frame\n",
                "df[\"diagnosis_int\"] = np.copy(df_target[\"diagnosis_int\"])\n",
                "\n",
                "###\n",
                "### YOUR CODE HERE\n",
                "###\n",
                "\n",
                "display(df_target)\n",
                "display(df[\"diagnosis_int\"])"
            ]
        },
        {
            "cell_type": "code",
            "execution_count": null,
            "metadata": {
                "collapsed": true,
                "deletable": false,
                "editable": false,
                "nbgrader": {
                    "grade": true,
                    "grade_id": "hw16",
                    "locked": true,
                    "points": "1",
                    "solution": false
                }
            },
            "outputs": [],
            "source": [
                "assert isinstance(df_target, pd.DataFrame) and isinstance(df, pd.DataFrame)\n",
                "assert df_target.shape == (569, 2)\n",
                "assert np.all(df_target.columns == [\"diagnosis\", \"diagnosis_int\"])\n",
                "assert \"diagnosis_int\" in df.columns"
            ]
        },
        {
            "cell_type": "markdown",
            "metadata": {
                "deletable": false,
                "editable": false,
                "nbgrader": {
                    "grade": false,
                    "locked": true,
                    "solution": false
                }
            },
            "source": [
                "- **Task 7:** Use scatter plot to see the relationship between \"radius_mean\" and \"diagnosis_int\". \n",
                "    - Use the \"diagnosis\" column as the `hue` for the scatter plot.\n",
                "    - Label the x axis as \"Mean of Cell Radius\"\n",
                "    - Label the y axis as \"1: Malignant, 0: Benign\""
            ]
        },
        {
            "cell_type": "code",
            "execution_count": null,
            "metadata": {},
            "outputs": [],
            "source": [
                "# Task 7\n",
                "# set the default theme to use Seaborn\n",
                "sns.set()\n",
                "\n",
                "# display using scatter plot\n",
                "myplot = sns.scatterplot(data=df, x=\"radius_mean\", y=\"diagnosis_int\", hue=\"diagnosis\")\n",
                "\n",
                "# set the x label\n",
                "myplot.set_xlabel(\"Mean of Cell Radius\")\n",
                "myplot.set_ylabel(\"1: Malignant, 0: Benign\")\n",
                "# set the y label\n",
                "\n",
                "###\n",
                "### YOUR CODE HERE\n",
                "###\n"
            ]
        },
        {
            "cell_type": "markdown",
            "metadata": {
                "deletable": false,
                "editable": false,
                "nbgrader": {
                    "grade": false,
                    "locked": true,
                    "solution": false
                }
            },
            "source": [
                "- **Task 8:** Use scatter plot to see the relationship between \"concavity_mean\" and \"diagnosis_int\". \n",
                "    - Use the \"diagnosis\" column as the `hue` for the scatter plot.\n",
                "    - Label the x axis as \"Mean of Cell Concavity\"\n",
                "    - Label the y axis as \"1: Malignant, 0: Benign\""
            ]
        },
        {
            "cell_type": "code",
            "execution_count": null,
            "metadata": {},
            "outputs": [],
            "source": [
                "# Task 8\n",
                "# set the default theme to use Seaborn\n",
                "sns.set()\n",
                "\n",
                "# display using scatter plot\n",
                "myplot = sns.scatterplot(data=df, x=\"concavity_mean\", y=\"diagnosis_int\", hue=\"diagnosis\")\n",
                "\n",
                "# set the x label\n",
                "myplot.set_xlabel(\"Mean of Cell Concavity\")\n",
                "myplot.set_ylabel(\"1: Malignant, 0: Benign\")\n",
                "\n",
                "# set the y label\n",
                "\n",
                "###\n",
                "### YOUR CODE HERE\n",
                "###\n"
            ]
        },
        {
            "cell_type": "markdown",
            "metadata": {
                "deletable": false,
                "editable": false,
                "nbgrader": {
                    "grade": false,
                    "locked": true,
                    "solution": false
                }
            },
            "source": [
                "**HW2.** *Count Plot:* Create a function to count how many records are diagnosed as Malignant and Benign. The function should return a tuple: `(n_malignant, n_benign)`, where `n_malignant` is the number of records diagnosed as Malignant cell and `n_benign` is the number of records diagnosed as Benign.\n",
                "\n",
                "Use Count plot to verify the answer.\n",
                "\n",
                "Reference:\n",
                "- [Count Plot](https://seaborn.pydata.org/generated/seaborn.countplot.html)\n"
            ]
        },
        {
            "cell_type": "code",
            "execution_count": null,
            "metadata": {
                "collapsed": true
            },
            "outputs": [],
            "source": [
                "def count_cell(target):\n",
                "    n_malignant = 0\n",
                "    n_benign = 0\n",
                "    for cell in target:\n",
                "        if cell == \"M\":\n",
                "            n_malignant += 1\n",
                "        else:\n",
                "            n_benign += 1\n",
                "        \n",
                "    return (n_malignant, n_benign)\n"
            ]
        },
        {
            "cell_type": "code",
            "execution_count": null,
            "metadata": {
                "collapsed": true,
                "deletable": false,
                "editable": false,
                "nbgrader": {
                    "grade": true,
                    "grade_id": "hw21",
                    "locked": true,
                    "points": "1",
                    "solution": false
                }
            },
            "outputs": [],
            "source": [
                "result = count_cell(df_target[\"diagnosis\"])\n",
                "assert result == (212, 357)"
            ]
        },
        {
            "cell_type": "code",
            "execution_count": null,
            "metadata": {},
            "outputs": [],
            "source": [
                "# write the code to plot the count of the two classes\n",
                "myplot = sns.countplot(data=df_target, x='diagnosis')\n",
                "\n",
                "###\n",
                "### YOUR CODE HERE\n",
                "###\n"
            ]
        },
        {
            "cell_type": "markdown",
            "metadata": {
                "deletable": false,
                "editable": false,
                "nbgrader": {
                    "grade": false,
                    "locked": true,
                    "solution": false
                }
            },
            "source": [
                "**HW3.** *Normalization:* Create a function that takes in Data Frame as the input and returns the normalized Data Frame as the output. **Each column** is normalized separately using **min-max normalization**. The function should return a new data frame instead of modifying the input data frame.\n",
                "\n",
                "$$normalized = \\frac{data - min}{max - min}$$\n",
                "\n",
                "Use the following functions from Pandas or Numpy:\n",
                "- `df.copy()`: This is to create a new copy of the data frame.\n",
                "- `df.min(axis=0)`: This is to get the minimum along the index axis.\n",
                "- `df.max(axis=0)`: This is to get the maximum along the index axis.\n",
                "\n",
                "Note: Your function should be able to handle a numpy array as well as Panda's data frame. "
            ]
        },
        {
            "cell_type": "code",
            "execution_count": null,
            "metadata": {
                "collapsed": true
            },
            "outputs": [],
            "source": [
                "def normalize_minmax(dfin):\n",
                "    dfout = dfin.copy()\n",
                "    dfout_min = dfout.min(axis=0)\n",
                "    normalized_data = (dfout - dfout_min)/(dfout.max(axis=0)-dfout_min)\n",
                "    return normalized_data"
            ]
        },
        {
            "cell_type": "code",
            "execution_count": null,
            "metadata": {
                "deletable": false,
                "editable": false,
                "nbgrader": {
                    "grade": true,
                    "grade_id": "hw31",
                    "locked": true,
                    "points": "1",
                    "solution": false
                }
            },
            "outputs": [],
            "source": [
                "data_norm = normalize_minmax(df_features)\n",
                "stats = data_norm.describe()\n",
                "display(stats)\n",
                "assert stats.loc[\"max\", \"radius_mean\"] == 1.0 and \\\n",
                "       stats.loc[\"min\", \"radius_mean\"] == 0 and \\\n",
                "       np.isclose(stats.loc[\"mean\", \"radius_mean\"], 0.338222)\n",
                "assert stats.loc[\"max\", \"texture_mean\"] == 1.0 and \\\n",
                "       stats.loc[\"min\", \"texture_mean\"] == 0 and\\\n",
                "       np.isclose(stats.loc[\"mean\", \"texture_mean\"], 0.323965)\n"
            ]
        },
        {
            "cell_type": "code",
            "execution_count": null,
            "metadata": {
                "collapsed": true,
                "deletable": false,
                "editable": false,
                "nbgrader": {
                    "grade": true,
                    "grade_id": "hw32",
                    "locked": true,
                    "points": "1",
                    "solution": false
                }
            },
            "outputs": [],
            "source": [
                "data_norm = normalize_minmax(df_features.to_numpy())\n",
                "assert data_norm[:,0].max() == 1.0 and \\\n",
                "       data_norm[:,0].min() == 0 and \\\n",
                "       np.isclose(data_norm[:,0].mean(), 0.338222)\n",
                "assert data_norm[:,1].max() == 1.0 and \\\n",
                "       data_norm[:,1].min() == 0 and\\\n",
                "       np.isclose(data_norm[:,1].mean(), 0.323965)\n"
            ]
        },
        {
            "cell_type": "markdown",
            "metadata": {
                "deletable": false,
                "editable": false,
                "nbgrader": {
                    "grade": false,
                    "locked": true,
                    "solution": false
                }
            },
            "source": [
                "**HW4.** *Splitting the Data:* Use the function to split the breast cancer data set into a training data set and a testing data set. Use `random_state=100` and `test_size=0.3` and the normalized features data set from the previous exercise."
            ]
        },
        {
            "cell_type": "code",
            "execution_count": null,
            "metadata": {
                "collapsed": true
            },
            "outputs": [],
            "source": [
                "# copy your answer from the cohort problem\n",
                "\n",
                "def split_data(df_feature, df_target, random_state=None, test_size=0.5):\n",
                "    indexes = df_feature.index\n",
                "    k = int(len(indexes) * test_size)\n",
                "    if random_state:\n",
                "        np.random.seed(random_state)\n",
                "    test_indexes = set(np.random.choice(indexes, k, replace=False))\n",
                "    train_indexes = set(indexes) - test_indexes\n",
                "    df_feature_train = df_feature.loc[list(train_indexes), :]\n",
                "    df_feature_test = df_feature.loc[list(test_indexes), :]\n",
                "    df_target_train = df_target.loc[list(train_indexes), :]\n",
                "    df_target_test = df_target.loc[list(test_indexes), :]\n",
                "    return df_feature_train, df_feature_test, df_target_train, df_target_test\n",
                " "
            ]
        },
        {
            "cell_type": "code",
            "execution_count": null,
            "metadata": {
                "collapsed": true
            },
            "outputs": [],
            "source": [
                "# call normalize_minmax() to normalize df_features\n",
                "data_norm = normalize_minmax(df_features)\n",
                "\n",
                "###\n",
                "### YOUR CODE HERE\n",
                "###\n",
                "\n",
                "# call split_data() with seed of 100 and test size of 30%\n",
                "datasets_tupple = split_data(data_norm, df_target, random_state=100, test_size=0.3)\n",
                "###\n",
                "### YOUR CODE HERE\n",
                "###\n",
                "\n"
            ]
        },
        {
            "cell_type": "code",
            "execution_count": null,
            "metadata": {
                "deletable": false,
                "editable": false,
                "nbgrader": {
                    "grade": false,
                    "locked": true,
                    "solution": false
                }
            },
            "outputs": [],
            "source": [
                "df_features_train = datasets_tupple[0]\n",
                "df_features_test = datasets_tupple[1]\n",
                "df_target_train = datasets_tupple[2]\n",
                "df_target_test = datasets_tupple[3]\n",
                "\n",
                "display(df_features_train.describe())\n",
                "display(df_features_test.describe())\n",
                "display(df_target_train.describe())\n",
                "display(df_target_test.describe())"
            ]
        },
        {
            "cell_type": "code",
            "execution_count": null,
            "metadata": {
                "collapsed": true,
                "deletable": false,
                "editable": false,
                "nbgrader": {
                    "grade": true,
                    "grade_id": "hw41",
                    "locked": true,
                    "points": "1",
                    "solution": false
                }
            },
            "outputs": [],
            "source": [
                "assert isinstance(df_features_train, pd.DataFrame)\n",
                "assert isinstance(df_features_test, pd.DataFrame)\n",
                "assert isinstance(df_target_train, pd.DataFrame)\n",
                "assert isinstance(df_target_test, pd.DataFrame)\n",
                "\n",
                "assert df_features_train.shape == (399, 6)\n",
                "assert df_features_test.shape == (170, 6)\n",
                "assert df_target_train.shape == (399, 2)\n",
                "assert df_target_test.shape == (170, 2)\n",
                "\n",
                "assert np.isclose(df_features_train.mean().mean(), 0.29844) \n",
                "assert np.isclose(df_features_test.mean().mean(), 0.311966) \n",
                "assert np.isclose(df_target_train.mean().mean(), 0.358396) \n",
                "assert np.isclose(df_target_test.mean().mean(), 0.40588) "
            ]
        },
        {
            "cell_type": "markdown",
            "metadata": {
                "deletable": false,
                "editable": false,
                "nbgrader": {
                    "grade": false,
                    "locked": true,
                    "solution": false
                }
            },
            "source": [
                "**HW5.** *Pair Plot:* Use pair plot to find out the relationship between different columns in `df_features`. Ensure that similar relationship exists in both the training and the test datasets."
            ]
        },
        {
            "cell_type": "code",
            "execution_count": null,
            "metadata": {},
            "outputs": [],
            "source": [
                "# write your code below to plot for df_features\n",
                "myplot = sns.pairplot(data=df_features)\n",
                "\n",
                "###\n",
                "### YOUR CODE HERE\n",
                "###\n"
            ]
        },
        {
            "cell_type": "code",
            "execution_count": null,
            "metadata": {},
            "outputs": [],
            "source": [
                "# write your code below to plot for df_features_train\n",
                "myplot = sns.pairplot(data=df_features_train)\n",
                "\n",
                "###\n",
                "### YOUR CODE HERE\n",
                "###\n"
            ]
        },
        {
            "cell_type": "code",
            "execution_count": null,
            "metadata": {},
            "outputs": [],
            "source": [
                "# write your code below to plot for df_features_test\n",
                "myplot = sns.pairplot(data=df_features_test)\n",
                "\n",
                "###\n",
                "### YOUR CODE HERE\n",
                "###\n"
            ]
        },
        {
            "cell_type": "code",
            "execution_count": null,
            "metadata": {},
            "outputs": [],
            "source": []
        }
    ],
    "metadata": {
        "kernelspec": {
            "display_name": "Python 3.10.4 64-bit",
            "language": "python",
            "name": "python3"
        },
        "language_info": {
            "codemirror_mode": {
                "name": "ipython",
                "version": 3
            },
            "file_extension": ".py",
            "mimetype": "text/x-python",
            "name": "python",
            "nbconvert_exporter": "python",
            "pygments_lexer": "ipython3",
            "version": "3.10.4"
        },
        "vscode": {
            "interpreter": {
                "hash": "369f2c481f4da34e4445cda3fffd2e751bd1c4d706f27375911949ba6bb62e1c"
            }
        }
    },
    "nbformat": 4,
    "nbformat_minor": 4
}
