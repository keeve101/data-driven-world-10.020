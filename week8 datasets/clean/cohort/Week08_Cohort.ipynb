{
    "cells": [
        {
            "cell_type": "markdown",
            "metadata": {
                "nbgrader": {
                    "grade": false,
                    "locked": true,
                    "solution": false
                },
                "editable": false,
                "deletable": false
            },
            "source": [
                "# Week 8 Problem Set"
            ]
        },
        {
            "cell_type": "code",
            "execution_count": 1,
            "metadata": {
                "collapsed": true,
                "nbgrader": {
                    "grade": false,
                    "locked": true,
                    "solution": false
                },
                "editable": false,
                "deletable": false
            },
            "outputs": [],
            "source": [
                "import pandas as pd\n",
                "import matplotlib.pyplot as plt\n",
                "import seaborn as sns\n",
                "import numpy as np"
            ]
        },
        {
            "cell_type": "markdown",
            "metadata": {
                "nbgrader": {
                    "grade": false,
                    "locked": true,
                    "solution": false
                },
                "editable": false,
                "deletable": false
            },
            "source": [
                "## Cohort Sessions"
            ]
        },
        {
            "cell_type": "markdown",
            "metadata": {
                "nbgrader": {
                    "grade": false,
                    "locked": true,
                    "solution": false
                },
                "editable": false,
                "deletable": false
            },
            "source": [
                "**CS1.** *Reading Data:* Read CSV file for Boston Housing prices.\n",
                "\n",
                "- **Task 1:** Read the data set. Hint:\n",
                "    - [Pandas read_csv](https:\/\/pandas.pydata.org\/pandas-docs\/stable\/reference\/api\/pandas.read_csv.html)\n",
                "    - Boston's housing data set (filename: `housing_processed.csv`): \n",
                "    - [Boston's housing data description](https:\/\/www.kaggle.com\/vikrishnan\/boston-house-prices)."
            ]
        },
        {
            "cell_type": "code",
            "execution_count": 2,
            "metadata": {},
            "outputs": [],
            "source": [
                "# Task 1\n",
                "# read CSV file, replace the None\n",
                "df = None\n",
                "\n",
                "###\n",
                "### YOUR CODE HERE\n",
                "###\n",
                "\n",
                "display(df)\n"
            ]
        },
        {
            "cell_type": "code",
            "execution_count": 3,
            "metadata": {
                "collapsed": true,
                "nbgrader": {
                    "grade": true,
                    "grade_id": "cs11",
                    "locked": true,
                    "points": "1",
                    "solution": false
                },
                "editable": false,
                "deletable": false
            },
            "outputs": [],
            "source": [
                "assert isinstance(df, pd.DataFrame)\n",
                "assert df.shape == (506, 14)\n",
                "assert df.columns[0] == 'CRIM' and df.columns[-1] == 'MEDV'"
            ]
        },
        {
            "cell_type": "markdown",
            "metadata": {
                "nbgrader": {
                    "grade": false,
                    "locked": true,
                    "solution": false
                },
                "editable": false,
                "deletable": false
            },
            "source": [
                "- **Task 2:** Display the number of rows and columns. Hint:\n",
                "    - you can use `df.shape` to get the number of rows and columns\n"
            ]
        },
        {
            "cell_type": "code",
            "execution_count": 4,
            "metadata": {
                "nbgrader": {
                    "grade": false,
                    "grade_id": "cs12",
                    "locked": false,
                    "points": "1",
                    "solution": false
                }
            },
            "outputs": [],
            "source": [
                "# Task 2\n",
                "# get the shape from the data frame, replace the None\n",
                "shape = None\n",
                "\n",
                "# use the 'shape' variable to get the row and the column\n",
                "# replace the None\n",
                "row = None\n",
                "col = None\n",
                "\n",
                "###\n",
                "### YOUR CODE HERE\n",
                "###\n",
                "\n",
                "print(shape)\n",
                "print(row, col)\n",
                "\n"
            ]
        },
        {
            "cell_type": "code",
            "execution_count": 5,
            "metadata": {
                "collapsed": true,
                "nbgrader": {
                    "grade": true,
                    "grade_id": "cs12",
                    "locked": true,
                    "points": "1",
                    "solution": false
                },
                "editable": false,
                "deletable": false
            },
            "outputs": [],
            "source": [
                "assert shape == (506, 14)\n",
                "assert row == 506\n",
                "assert col == 14"
            ]
        },
        {
            "cell_type": "markdown",
            "metadata": {
                "nbgrader": {
                    "grade": false,
                    "locked": true,
                    "solution": false
                },
                "editable": false,
                "deletable": false
            },
            "source": [
                "- **Task 3:** Display the name of all the columns. Hint:\n",
                "    - you can use `df.columns` to get the name of all the columns\n",
                "    - check the meaning of each column using the link above\n"
            ]
        },
        {
            "cell_type": "code",
            "execution_count": 6,
            "metadata": {},
            "outputs": [],
            "source": [
                "# Task 3\n",
                "# display column names, replace the None\n",
                "names = None\n",
                "\n",
                "###\n",
                "### YOUR CODE HERE\n",
                "###\n",
                "\n",
                "display(names)\n"
            ]
        },
        {
            "cell_type": "code",
            "execution_count": 7,
            "metadata": {
                "collapsed": true,
                "nbgrader": {
                    "grade": true,
                    "grade_id": "cs13",
                    "locked": true,
                    "points": "1",
                    "solution": false
                },
                "editable": false,
                "deletable": false
            },
            "outputs": [],
            "source": [
                "assert isinstance(names, pd.Index)\n",
                "assert np.all(names == pd.Index(['CRIM', 'ZN', 'INDUS', 'CHAS', 'NOX', 'RM', 'AGE', 'DIS', 'RAD', 'TAX',\n",
                "       'PTRATIO', 'B', 'LSTAT', 'MEDV']))"
            ]
        },
        {
            "cell_type": "markdown",
            "metadata": {
                "nbgrader": {
                    "grade": false,
                    "locked": true,
                    "solution": false
                },
                "editable": false,
                "deletable": false
            },
            "source": [
                "\n",
                "- **Task 4:** Do the following:\n",
                "    - Create a subset data set containing only the following columns: \"RM\", \"DIS\", \"INDUS\" for the features. Make sure it is of `pd.DataFrame` type.\n",
                "    - Create a subset data set containing only \"MEDV\" for the target. Make sure it is of `pd.DataFrame` type.\n"
            ]
        },
        {
            "cell_type": "code",
            "execution_count": 8,
            "metadata": {},
            "outputs": [],
            "source": [
                "# Task 4\n",
                "# Specify the columns you want to extract into a list\n",
                "# replace the None\n",
                "columns = [None]\n",
                "\n",
                "# extract the respective columns from the data frame\n",
                "# replace the None\n",
                "df_feature = None\n",
                "df_target = None\n",
                "\n",
                "###\n",
                "### YOUR CODE HERE\n",
                "###\n",
                "\n",
                "display(df_feature)\n",
                "display(df_target)\n",
                "\n"
            ]
        },
        {
            "cell_type": "code",
            "execution_count": 9,
            "metadata": {
                "collapsed": true,
                "nbgrader": {
                    "grade": true,
                    "grade_id": "cs14",
                    "locked": true,
                    "points": "1",
                    "solution": false
                },
                "editable": false,
                "deletable": false
            },
            "outputs": [],
            "source": [
                "assert isinstance(df_feature, pd.DataFrame)\n",
                "assert isinstance(df_target, pd.DataFrame)\n",
                "assert df_feature.shape == (506, 3)\n",
                "assert df_target.shape == (506, 1)\n",
                "assert np.all(df_feature.columns == pd.Index(['RM', 'DIS', 'INDUS']))\n",
                "assert df_target.columns == pd.Index(['MEDV'])"
            ]
        },
        {
            "cell_type": "markdown",
            "metadata": {
                "nbgrader": {
                    "grade": false,
                    "locked": true,
                    "solution": false
                },
                "editable": false,
                "deletable": false
            },
            "source": [
                "**CS2.** *Data Frame Operation:* \n",
                "\n",
                "Reference:\n",
                "- [Indexing and Selecting Data](https:\/\/pandas.pydata.org\/pandas-docs\/stable\/user_guide\/indexing.html)\n",
                "\n",
                "Create separate and new data frame for the columns: `\"RM\", \"DIS\", \"INDUS\", \"MEDV\"` that satisfies each of the following condition:\n",
                "\n",
                "- **Task 1:** All records with weighted distances to \ufb01ve Boston employment centers between 0 to 3.\n"
            ]
        },
        {
            "cell_type": "code",
            "execution_count": 10,
            "metadata": {},
            "outputs": [],
            "source": [
                "# specify the columns of interest, replace the None\n",
                "columns = [None]\n",
                "\n",
                "# use conditions for row selector and column selector\n",
                "# replace the None\n",
                "df_1 = None\n",
                "\n",
                "###\n",
                "### YOUR CODE HERE\n",
                "###\n",
                "\n",
                "myplot = sns.pairplot(data=df_1)"
            ]
        },
        {
            "cell_type": "markdown",
            "metadata": {
                "nbgrader": {
                    "grade": false,
                    "locked": true,
                    "solution": false
                },
                "editable": false,
                "deletable": false
            },
            "source": [
                "- **Task 2:** All records with average number of room between 5 to 8.\n"
            ]
        },
        {
            "cell_type": "code",
            "execution_count": 11,
            "metadata": {},
            "outputs": [],
            "source": [
                "# specify the columns of interest, replace the None\n",
                "columns = [None]\n",
                "\n",
                "# use conditions for row selector and column selector\n",
                "# replace the None\n",
                "df_2 = None\n",
                "\n",
                "###\n",
                "### YOUR CODE HERE\n",
                "###\n",
                "\n",
                "myplot = sns.pairplot(data=df_2)"
            ]
        },
        {
            "cell_type": "markdown",
            "metadata": {
                "nbgrader": {
                    "grade": false,
                    "locked": true,
                    "solution": false
                },
                "editable": false,
                "deletable": false
            },
            "source": [
                "- **Task 3:** The first 15 records in the table.\n"
            ]
        },
        {
            "cell_type": "code",
            "execution_count": 12,
            "metadata": {},
            "outputs": [],
            "source": [
                "# specify the columns of interest, replace the None\n",
                "columns = [None]\n",
                "\n",
                "# use conditions for row selector and column selector\n",
                "# replace the None\n",
                "df_3 = None\n",
                "\n",
                "###\n",
                "### YOUR CODE HERE\n",
                "###\n",
                "\n",
                "display(df_3)\n"
            ]
        },
        {
            "cell_type": "markdown",
            "metadata": {
                "nbgrader": {
                    "grade": false,
                    "locked": true,
                    "solution": false
                },
                "editable": false,
                "deletable": false
            },
            "source": [
                "- **Task 4:** The last 15 records in the table.\n"
            ]
        },
        {
            "cell_type": "code",
            "execution_count": 13,
            "metadata": {},
            "outputs": [],
            "source": [
                "# specify the columns of interest, replace the None\n",
                "columns = [None]\n",
                "\n",
                "# use conditions for row selector and column selector\n",
                "# replace the None\n",
                "df_4 = None\n",
                "\n",
                "###\n",
                "### YOUR CODE HERE\n",
                "###\n",
                "\n",
                "display(df_4)"
            ]
        },
        {
            "cell_type": "markdown",
            "metadata": {
                "nbgrader": {
                    "grade": false,
                    "locked": true,
                    "solution": false
                },
                "editable": false,
                "deletable": false
            },
            "source": [
                "- **Task 5:** All records with even index numbers, i.e. index 0, 2, 4, ... .\n"
            ]
        },
        {
            "cell_type": "code",
            "execution_count": 14,
            "metadata": {},
            "outputs": [],
            "source": [
                "# specify the columns of interest, replace the None\n",
                "columns = [None]\n",
                "\n",
                "# use conditions for row selector and column selector\n",
                "# replace the None\n",
                "df_5 = None\n",
                "\n",
                "###\n",
                "### YOUR CODE HERE\n",
                "###\n",
                "\n",
                "display(df_5)"
            ]
        },
        {
            "cell_type": "markdown",
            "metadata": {
                "nbgrader": {
                    "grade": false,
                    "locked": true,
                    "solution": false
                },
                "editable": false,
                "deletable": false
            },
            "source": [
                "**CS3.** *Histogram and Box plot:* Plot the histogram for the median value in \\$1000 for the Boston's housing price. \n",
                "\n",
                "\n",
                "Reference:\n",
                "- [Histogram](https:\/\/seaborn.pydata.org\/generated\/seaborn.histplot.html)\n",
                "- [Box plot](https:\/\/seaborn.pydata.org\/generated\/seaborn.boxplot.html)\n",
                "\n",
                "- **Task 1:** Plot the histogram with default bin values."
            ]
        },
        {
            "cell_type": "code",
            "execution_count": 15,
            "metadata": {},
            "outputs": [],
            "source": [
                "# plot histogram for MEDV, replace the None\n",
                "myplot = None\n",
                "\n",
                "# set the x label, write the code below\n",
                "\n",
                "# set the y label, write the code below\n",
                "\n",
                "###\n",
                "### YOUR CODE HERE\n",
                "###\n"
            ]
        },
        {
            "cell_type": "markdown",
            "metadata": {
                "nbgrader": {
                    "grade": false,
                    "locked": true,
                    "solution": false
                },
                "editable": false,
                "deletable": false
            },
            "source": [
                "- **Task 2:** Plot the histogram with 5 bins only. Hint:\n"
            ]
        },
        {
            "cell_type": "code",
            "execution_count": 16,
            "metadata": {},
            "outputs": [],
            "source": [
                "# plot histogram for MEDV, replace the None\n",
                "myplot = None\n",
                "\n",
                "# set the x label, write the code below\n",
                "\n",
                "# set the y label, write the code below\n",
                "\n",
                "###\n",
                "### YOUR CODE HERE\n",
                "###\n"
            ]
        },
        {
            "cell_type": "markdown",
            "metadata": {
                "nbgrader": {
                    "grade": false,
                    "locked": true,
                    "solution": false
                },
                "editable": false,
                "deletable": false
            },
            "source": [
                "- **Task 3:** Plot the histogram with the following bin edges `0, 10, 20, 30, 40, 50`."
            ]
        },
        {
            "cell_type": "code",
            "execution_count": 17,
            "metadata": {},
            "outputs": [],
            "source": [
                "# plot histogram for MEDV, replace the None\n",
                "myplot = None\n",
                "\n",
                "# set the x label, write the code below\n",
                "\n",
                "# set the y label, write the code below\n",
                "\n",
                "###\n",
                "### YOUR CODE HERE\n",
                "###\n"
            ]
        },
        {
            "cell_type": "markdown",
            "metadata": {
                "nbgrader": {
                    "grade": false,
                    "locked": true,
                    "solution": false
                },
                "editable": false,
                "deletable": false
            },
            "source": [
                "- **Task 4:** Plot the same data using a box plot in a horizontal manner."
            ]
        },
        {
            "cell_type": "code",
            "execution_count": 18,
            "metadata": {},
            "outputs": [],
            "source": [
                "# plot boxplot for MEDV, replace the None\n",
                "myplot = None\n",
                "\n",
                "# set the x label, write the code below\n",
                "\n",
                "###\n",
                "### YOUR CODE HERE\n",
                "###\n"
            ]
        },
        {
            "cell_type": "markdown",
            "metadata": {
                "nbgrader": {
                    "grade": false,
                    "locked": true,
                    "solution": false
                },
                "editable": false,
                "deletable": false
            },
            "source": [
                "**CS4.** *Scatter plot:* Do the following plots. "
            ]
        },
        {
            "cell_type": "markdown",
            "metadata": {
                "nbgrader": {
                    "grade": false,
                    "locked": true,
                    "solution": false
                },
                "editable": false,
                "deletable": false
            },
            "source": [
                "- **Task 1:** Display scatter plot of \"RM\" versus \"MEDV\". Hint: \n",
                "    - Use Seaborn default theme instead of matplotlib\n",
                "    - [Seaborn scatter plot](https:\/\/seaborn.pydata.org\/generated\/seaborn.scatterplot.html)\n",
                "    - Use \"RM\" as x data\n",
                "    - Use \"MEDV\" as y data\n"
            ]
        },
        {
            "cell_type": "code",
            "execution_count": 19,
            "metadata": {
                "collapsed": true,
                "nbgrader": {
                    "grade": false,
                    "locked": true,
                    "solution": false
                },
                "editable": false,
                "deletable": false
            },
            "outputs": [],
            "source": [
                "# Set the theme parameter to Seaborn's default\n",
                "sns.set()"
            ]
        },
        {
            "cell_type": "code",
            "execution_count": 20,
            "metadata": {},
            "outputs": [],
            "source": [
                "# Task 5\n",
                "# plot scatter plot, replace the None \n",
                "myplot = sns.scatterplot(x=None, y=None, data=None)\n",
                "\n",
                "###\n",
                "### YOUR CODE HERE\n",
                "###\n"
            ]
        },
        {
            "cell_type": "markdown",
            "metadata": {
                "nbgrader": {
                    "grade": false,
                    "locked": true,
                    "solution": false
                },
                "editable": false,
                "deletable": false
            },
            "source": [
                "- **Task 2:** Display a scatter plot \"weighted distances to \ufb01ve Boston employment centers\" versus \"Median value of owner-occupied homes in \\$1000s\". Use average number of rooms per dwelling as the hue data.\n"
            ]
        },
        {
            "cell_type": "code",
            "execution_count": 21,
            "metadata": {},
            "outputs": [],
            "source": [
                "# Task 6\n",
                "# plot using scatter plot\n",
                "# replace the None\n",
                "myplot = None\n",
                "\n",
                "###\n",
                "### YOUR CODE HERE\n",
                "###\n"
            ]
        },
        {
            "cell_type": "markdown",
            "metadata": {
                "nbgrader": {
                    "grade": false,
                    "locked": true,
                    "solution": false
                },
                "editable": false,
                "deletable": false
            },
            "source": [
                "- **Task 3:** Display a scatter plot \"proportion of non-retail business acres per town\" versus \"Median value of owner-occupied homes in \\$1000s\". Use \"proportion of residential land zoned for lots over 25,000 sq.ft.\" as the hue data.\n"
            ]
        },
        {
            "cell_type": "code",
            "execution_count": 22,
            "metadata": {},
            "outputs": [],
            "source": [
                "# Task 3\n",
                "# plot using scatter plot and use \"hue\"\n",
                "# replace the None\n",
                "myplot = sns.scatterplot(x=None, y=None, hue=None, data=None)\n",
                "\n",
                "###\n",
                "### YOUR CODE HERE\n",
                "###\n"
            ]
        },
        {
            "cell_type": "markdown",
            "metadata": {
                "nbgrader": {
                    "grade": false,
                    "locked": true,
                    "solution": false
                },
                "editable": false,
                "deletable": false
            },
            "source": [
                "Answer the following:\n",
                "- How many columns are there?\n",
                "- How many rows are there?\n",
                "- What are the names of the columns\n",
                "- What is the range of the median value in \\$1000 when the average number of room per dwelling is 8?\n",
                "- What's the relationship between distance to five Boston's employment centres and the median value in \\$1000?\n",
                "- What's the relationship between the proportion of non-retail business acres per town adn the median value in \\$1000?"
            ]
        },
        {
            "cell_type": "markdown",
            "metadata": {
                "nbgrader": {
                    "grade": false,
                    "locked": true,
                    "solution": false
                },
                "editable": false,
                "deletable": false
            },
            "source": [
                "**CS5.** *Standardization:* Write a function that takes in data frame where all the column are the features and normalize each column according to the following formula.\n",
                "\n",
                "$$normalized = \\frac{data - \\mu}{\\sigma}$$\n",
                "\n",
                "where $\\mu$ is the mean of the data and $\\sigma$ is the standard deviation of the data. **You need to normalize for each column respectively**. The function should return a new data frame.\n",
                "\n",
                "Use the following functions from Pandas:\n",
                "- `df.mean(axis=0)`: This is to calculate the mean along the index axis.\n",
                "- `df.std(axis=0)`: This is to calculate the standard deviation along the index axis.\n",
                "\n",
                "Note: Your function should be able to handle a numpy array as well as Panda's data frame. *Hint: use axis=0 argument when calculating mean and standard deviation.*"
            ]
        },
        {
            "cell_type": "code",
            "execution_count": 23,
            "metadata": {
                "collapsed": true
            },
            "outputs": [],
            "source": [
                "def normalize_z(dfin):\n",
                "    ###\n",
                "    ### YOUR CODE HERE\n",
                "    ###\n",
                "    return dfout\n"
            ]
        },
        {
            "cell_type": "code",
            "execution_count": 24,
            "metadata": {
                "nbgrader": {
                    "grade": true,
                    "grade_id": "cs51",
                    "locked": true,
                    "points": "1",
                    "solution": false
                },
                "editable": false,
                "deletable": false
            },
            "outputs": [],
            "source": [
                "data_norm = normalize_z(df_feature)\n",
                "stats = data_norm.describe()\n",
                "display(stats)\n",
                "assert np.isclose(stats.loc[\"mean\", \"RM\"], 0.0) and \\\n",
                "       np.isclose(stats.loc[\"std\", \"RM\"], 1.0, atol=1e-3)\n",
                "assert np.isclose(stats.loc[\"mean\", \"DIS\"], 0.0) and \\\n",
                "       np.isclose(stats.loc[\"std\", \"DIS\"], 1.0, atol=1e-3)\n",
                "assert np.isclose(stats.loc[\"mean\", \"INDUS\"], 0.0) and \\\n",
                "       np.isclose(stats.loc[\"std\", \"INDUS\"], 1.0, atol=1e-3)"
            ]
        },
        {
            "cell_type": "code",
            "execution_count": 25,
            "metadata": {
                "collapsed": true,
                "nbgrader": {
                    "grade": true,
                    "grade_id": "cs52",
                    "locked": true,
                    "points": "1",
                    "solution": false
                },
                "editable": false,
                "deletable": false
            },
            "outputs": [],
            "source": [
                "data_norm = normalize_z(df_feature.to_numpy())\n",
                "assert np.isclose(data_norm[:,0].mean(), 0.0) and \\\n",
                "       np.isclose(data_norm[:,0].std(), 1.0, atol=1e-3)\n",
                "assert np.isclose(data_norm[:,1].mean(), 0.0) and \\\n",
                "       np.isclose(data_norm[:,1].std(), 1.0, atol=1e-3)\n",
                "assert np.isclose(data_norm[:,2].mean(), 0.0) and \\\n",
                "       np.isclose(data_norm[:,2].std(), 1.0, atol=1e-3)"
            ]
        },
        {
            "cell_type": "markdown",
            "metadata": {
                "nbgrader": {
                    "grade": false,
                    "locked": true,
                    "solution": false
                },
                "editable": false,
                "deletable": false
            },
            "source": [
                "**CS6.** *Splitting Data Randomly:* Create a function to split the Data Frame randomly. The function should have the following arguments:\n",
                "- `df_feature`: which is the data frame for the features.\n",
                "- `df_target`: which is the data frame for the target.\n",
                "- `random_state`: which is the seed used to split randomly.\n",
                "- `test_size`: which is the fraction for the test data set (0 to 1), by default is set to 0.5\n",
                "\n",
                "The output of the function is a tuple of four items:\n",
                "- `df_feature_train`: which is the train set for the features data frame\n",
                "- `df_feature_test`: which is the test set for the features data frame\n",
                "- `df_target_train`: which is the train set for the target data frame\n",
                "- `df_target_test`: which is the test set for the target data frame\n",
                "\n",
                "Hint:\n",
                "- Use [`numpy.random.choice()`](https:\/\/docs.scipy.org\/doc\/numpy-1.13.0\/reference\/generated\/numpy.random.choice.html)\n"
            ]
        },
        {
            "cell_type": "code",
            "execution_count": 26,
            "metadata": {
                "collapsed": true
            },
            "outputs": [],
            "source": [
                "def split_data(df_feature, df_target, random_state=None, test_size=0.5):\n",
                "    ###\n",
                "    ### YOUR CODE HERE\n",
                "    ###\n",
                "    return df_feature_train, df_feature_test, df_target_train, df_target_test\n",
                "    \n"
            ]
        },
        {
            "cell_type": "code",
            "execution_count": 27,
            "metadata": {
                "nbgrader": {
                    "grade": true,
                    "grade_id": "cs61",
                    "locked": true,
                    "points": "1",
                    "solution": false
                },
                "editable": false,
                "deletable": false
            },
            "outputs": [],
            "source": [
                "df_feature_train, df_feature_test, df_target_train, df_target_test = split_data(df_feature, df_target, random_state=100, test_size=0.3)\n",
                "\n",
                "display(df_feature_train.describe())\n",
                "display(df_feature_test.describe())\n",
                "display(df_target_train.describe())\n",
                "display(df_target_test.describe())\n",
                "\n",
                "assert np.all(df_feature_train.count() == 355)\n",
                "assert np.all(df_feature_test.count() == 151)\n",
                "assert np.all(df_target_train.count() == 355)\n",
                "assert np.all(df_target_test.count() == 151)\n",
                "\n",
                "assert np.isclose(df_feature_train[\"RM\"].mean(), 6.2968)\n",
                "assert np.isclose(df_feature_test[\"DIS\"].std(), 2.2369)\n",
                "assert np.isclose(df_target_train[\"MEDV\"].median(), 21.40)\n",
                "assert np.isclose(df_target_test[\"MEDV\"].median(), 20.90)\n"
            ]
        }
    ],
    "metadata": {
        "kernelspec": {
            "display_name": "Python 3 [3.7]",
            "language": "python",
            "name": "python3"
        },
        "language_info": {
            "codemirror_mode": {
                "name": "ipython",
                "version": 3
            },
            "file_extension": ".py",
            "mimetype": "text\/x-python",
            "name": "python",
            "nbconvert_exporter": "python",
            "pygments_lexer": "ipython3",
            "version": "3.7.5"
        }
    },
    "nbformat": 4,
    "nbformat_minor": 4
}