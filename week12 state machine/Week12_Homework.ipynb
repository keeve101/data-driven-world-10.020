{
    "cells": [
        {
            "cell_type": "code",
            "execution_count": 1,
            "metadata": {
                "collapsed": true,
                "nbgrader": {
                    "grade": false,
                    "locked": true,
                    "solution": false
                },
                "editable": false,
                "deletable": false
            },
            "outputs": [],
            "source": [
                "### Grading script code \n",
                "### You don't need to read this, proceed to the next cell\n",
                "import sys\n",
                "import functools\n",
                "ipython = get_ipython()\n",
                "\n",
                "def set_traceback(val):\n",
                "    method_name = \"showtraceback\"\n",
                "    setattr(\n",
                "        ipython,\n",
                "        method_name,\n",
                "        functools.partial(\n",
                "            getattr(ipython, method_name),\n",
                "            exception_only=(not val)\n",
                "        )\n",
                "    )\n",
                "\n",
                "class AnswerError(Exception):\n",
                "  def __init__(self, message):\n",
                "    pass\n",
                "\n",
                "def exec_test(f, question):\n",
                "    try:\n",
                "        f()\n",
                "        print(question + \" Pass\")\n",
                "    except:\n",
                "        set_traceback(False) # do not remove\n",
                "        raise AnswerError(question + \" Fail\")"
            ]
        },
        {
            "cell_type": "markdown",
            "metadata": {
                "colab_type": "text",
                "id": "8aIR0Iu8Bp-M",
                "nbgrader": {
                    "grade": false,
                    "locked": true,
                    "solution": false
                },
                "editable": false,
                "deletable": false
            },
            "source": [
                "# Week 12 Problem Set\n",
                "\n",
                "## Homework"
            ]
        },
        {
            "cell_type": "markdown",
            "metadata": {
                "colab_type": "text",
                "id": "CVpRsTXGBaXa",
                "nbgrader": {
                    "grade": false,
                    "locked": true,
                    "solution": false
                },
                "editable": false,
                "deletable": false
            },
            "source": [
                "**HW1.** *Comments:* Write a state machine whose inputs are the characters of a string. The string contains the code for a computer program. The output of the state machine are either:\n",
                "- the input character if it is part of a comment, or\n",
                "- `None`, otherwise.\n",
                "\n",
                "Comment starts with a `#` character and continue to the end of the current line. If you want to create a string that contains a new line character, you can use `\\n`.\n",
                "\n",
                "For example,\n",
                "```\n",
                "inpstr = \"def func(x): # comment\\n    return 1\"\n",
                "m = CommentsSM()\n",
                "print(m.transduce(inpstr))\n",
                "```\n",
                "\n",
                "The expected output is:\n",
                "```\n",
                "[None, None, None, None, None, None, None, None, None, None, None, None, None, \"#\", \" \", \"c\", \"o\", \"m\", \"m\", \"e\", \"n\", \"t\", None, None, None, None, None, None, None, None, None, None, None, None, None]\n",
                "```\n",
                "\n",
                "You should start by drawing a state transition diagram indicating the states and what inputs cause transition to which other states. Use the test case above to determine if your state transition diagram is correct. You should begin writing your program only when you are confident that your diagram is correct. "
            ]
        },
        {
            "cell_type": "code",
            "execution_count": 2,
            "metadata": {
                "collapsed": true
            },
            "outputs": [],
            "source": [
                "# Copy over the implementation of StateMachine from Cohort\n",
                "from abc import ABC, abstractmethod\n",
                "\n",
                "class StateMachine(ABC):\n",
                "    pass\n",
                "    ###\n",
                "    ### YOUR CODE HERE\n",
                "    ###\n"
            ]
        },
        {
            "cell_type": "code",
            "execution_count": 3,
            "metadata": {
                "colab": [],
                "colab_type": "code",
                "collapsed": true,
                "id": "k4sWVMNYB_b1"
            },
            "outputs": [],
            "source": [
                "class CommentsSM(StateMachine):\n",
                "    \n",
                "    def __init__(self):\n",
                "        pass\n",
                "        ###\n",
                "        ### YOUR CODE HERE\n",
                "        ###\n",
                "\n",
                "    def get_next_values(self, state, inp):\n",
                "        ###\n",
                "        ### YOUR CODE HERE\n",
                "        ###\n",
                "        return next_state, output"
            ]
        },
        {
            "cell_type": "code",
            "execution_count": 4,
            "metadata": {
                "colab": [],
                "colab_type": "code",
                "collapsed": true,
                "id": "RvcBzb9dEDSQ",
                "nbgrader": {
                    "grade": true,
                    "grade_id": "hw11",
                    "locked": true,
                    "points": "1",
                    "solution": false
                },
                "editable": false,
                "deletable": false
            },
            "outputs": [],
            "source": [
                "inpstr = \"def func(x): # comment\\n    return 1\"\n",
                "m = CommentsSM()\n",
                "out = m.transduce(inpstr)\n",
                "assert out == [None, None, None, None, None, None, None, None, None, None, None, None, None, \"#\", \" \", \"c\", \"o\", \"m\", \"m\", \"e\", \"n\", \"t\", None, None, None, None, None, None, None, None, None, None, None, None, None]"
            ]
        },
        {
            "cell_type": "code",
            "execution_count": 5,
            "metadata": {
                "nbgrader": {
                    "grade": true,
                    "grade_id": "hw12",
                    "locked": true,
                    "points": "1",
                    "solution": false
                },
                "editable": false,
                "deletable": false
            },
            "outputs": [],
            "source": [
                "###\n",
                "### AUTOGRADER TEST - DO NOT REMOVE\n",
                "###\n"
            ]
        },
        {
            "cell_type": "markdown",
            "metadata": {
                "colab_type": "text",
                "id": "lYlKhFvVEdx0",
                "nbgrader": {
                    "grade": false,
                    "locked": true,
                    "solution": false
                },
                "editable": false,
                "deletable": false
            },
            "source": [
                "**HW2.** *First Word:* Write a state machine whose inputs are the characters of a string and which outputs either:\n",
                "- the input character if it is part of the first word on a line, or\n",
                "- `None`, otherwise\n",
                "\n",
                "For the purposes here, a word is any sequence of consecutive characters that does not contain spaces or end-of-line characters. In this problem, comments have no special status. This means that if the line begins with `# `, then the first word is `#`. \n",
                "\n",
                "For example, \n",
                "```\n",
                "inpstr = \"def func(x): # comment\\n    return 1\"\n",
                "m = FirstWordSM()\n",
                "print(m.transduce( inpstr))\n",
                "```\n",
                "\n",
                "The expected output is:\n",
                "```\n",
                "[\"d\", \"e\", \"f\", None, None, None, None, None, None, None, None, None, None, None, None, None, None, None, None, None, None, None, None, None, None, None, None, None, \"r\", \"e\", \"t\", \"u\", \"r\", \"n\", None, None]\n",
                "```"
            ]
        },
        {
            "cell_type": "code",
            "execution_count": 6,
            "metadata": {
                "colab": [],
                "colab_type": "code",
                "collapsed": true,
                "id": "wbcNeKi1FcEy"
            },
            "outputs": [],
            "source": [
                "class FirstWordSM(StateMachine):\n",
                "  \n",
                "    def __init__(self):\n",
                "        ###\n",
                "        ### YOUR CODE HERE\n",
                "        ###\n",
                "        pass\n",
                "  \n",
                "    def get_next_values(self, state, inp):\n",
                "        ###\n",
                "        ### YOUR CODE HERE\n",
                "        ###\n",
                "        return next_state, output"
            ]
        },
        {
            "cell_type": "code",
            "execution_count": 7,
            "metadata": {
                "colab": [],
                "colab_type": "code",
                "collapsed": true,
                "id": "UUN3kvJ5GO_g",
                "nbgrader": {
                    "grade": true,
                    "grade_id": "hw21",
                    "locked": true,
                    "points": "1",
                    "solution": false
                },
                "editable": false,
                "deletable": false
            },
            "outputs": [],
            "source": [
                "inpstr = \"def func(x): # comment\\n    return 1\"\n",
                "m = FirstWordSM()\n",
                "out = m.transduce(inpstr)\n",
                "assert out == [\"d\", \"e\", \"f\", None, None, None, None, None, None, None, None, None, None, None, None, None, None, None, None, None, None, None, None, None, None, None, None, \"r\", \"e\", \"t\", \"u\", \"r\", \"n\", None, None]\n"
            ]
        },
        {
            "cell_type": "code",
            "execution_count": 8,
            "metadata": {
                "nbgrader": {
                    "grade": true,
                    "grade_id": "hw22",
                    "locked": true,
                    "points": "1",
                    "solution": false
                },
                "editable": false,
                "deletable": false
            },
            "outputs": [],
            "source": [
                "###\n",
                "### AUTOGRADER TEST - DO NOT REMOVE\n",
                "###\n"
            ]
        },
        {
            "cell_type": "markdown",
            "metadata": {
                "colab_type": "text",
                "id": "NnDht41iHHTy",
                "nbgrader": {
                    "grade": false,
                    "locked": true,
                    "solution": false
                },
                "editable": false,
                "deletable": false
            },
            "source": [
                "**HW3.** *Robot:* Write a State Machine class that represent a robot. The dimension of the world and the robot initial position should be specified during the class instantiation. The robot can take in the following input:\n",
                "- \"left\"\n",
                "- \"right\"\n",
                "- \"up\"\n",
                "- \"down\"\n",
                "\n",
                "The initial position of the robot is specified during the object instantiation and the input should modify the position of the robot. The robot position must not change if it exceed the boundary. At each step, the robot should output the updated position. "
            ]
        },
        {
            "cell_type": "code",
            "execution_count": 9,
            "metadata": {
                "collapsed": true,
                "nbgrader": {
                    "grade": false,
                    "locked": true,
                    "solution": false
                },
                "editable": false,
                "deletable": false
            },
            "outputs": [],
            "source": [
                "class Position:\n",
                "  \n",
                "    def __init__(self, x=0, y=0):\n",
                "        self.x = x\n",
                "        self.y = y\n",
                "  \n",
                "    def __str__(self):\n",
                "        return f\"({self.x:}, {self.y:})\"\n",
                "\n",
                "class Dimension:\n",
                "\n",
                "    def __init__(self, width=0, height=0):\n",
                "        self.width = width\n",
                "        self.height = height\n",
                "  \n",
                "    def __str__(self):\n",
                "        return f\"width: {self.width:}, height: {self.height:}\""
            ]
        },
        {
            "cell_type": "code",
            "execution_count": 10,
            "metadata": {
                "colab": [],
                "colab_type": "code",
                "collapsed": true,
                "id": "Cpgta89wHKcM"
            },
            "outputs": [],
            "source": [
                "class RobotSM(StateMachine):\n",
                "\n",
                "    def __init__(self, init_pos, dimension):\n",
                "        self.world_dim = dimension\n",
                "        ###\n",
                "        ### YOUR CODE HERE\n",
                "        ###\n",
                "  \n",
                "    def get_next_values(self, state, inp):\n",
                "        ###\n",
                "        ### YOUR CODE HERE\n",
                "        ###\n",
                "        pass"
            ]
        },
        {
            "cell_type": "code",
            "execution_count": 11,
            "metadata": {
                "colab": [],
                "colab_type": "code",
                "collapsed": true,
                "id": "dAVM6rSCIxDX",
                "nbgrader": {
                    "grade": true,
                    "grade_id": "hw31",
                    "locked": true,
                    "points": "1",
                    "solution": false
                },
                "editable": false,
                "deletable": false
            },
            "outputs": [],
            "source": [
                "robot = RobotSM(Position(0, 0), Dimension(5, 5))\n",
                "robot.start()\n",
                "robot.transduce([\"right\", \"right\", \"up\", \"up\", \"up\", \"left\", \"down\"])\n",
                "pos = robot.state\n",
                "assert pos.x == 1 and pos.y == 2"
            ]
        },
        {
            "cell_type": "code",
            "execution_count": 12,
            "metadata": {
                "nbgrader": {
                    "grade": true,
                    "grade_id": "hw32",
                    "locked": true,
                    "points": "1",
                    "solution": false
                },
                "editable": false,
                "deletable": false
            },
            "outputs": [],
            "source": [
                "###\n",
                "### AUTOGRADER TEST - DO NOT REMOVE\n",
                "###\n"
            ]
        },
        {
            "cell_type": "markdown",
            "metadata": {
                "colab_type": "text",
                "id": "t4iXOJiNaMMR",
                "nbgrader": {
                    "grade": false,
                    "locked": true,
                    "solution": false
                },
                "editable": false,
                "deletable": false
            },
            "source": [
                "**HW4.** *Search SM:* Write a function `sm_search` that takes in the following arguments:\n",
                "- `sm_to_search`: is the State Machine instance to search. This argument is of the type `MapSM` as defined in CS4. You should use the `get_next_values()` of this State Machine instance to explore the next state in your search.\n",
                "- `initial_state`: is the start state of the search. If it is not provided, it should be assigned to the `start_state` of sm_search. \n",
                "- `goal_test`: is a function that returns `True` if the argument is the end state of the search. If it is not provided, it should be eassigned to the `done` function of the state machine.\n",
                "\n",
                "This function performs a **breadth-first-search** algorithm to explore the next states. \n",
                "\n",
                "The output is a `list` of `Step` instances from the `init_state` to the end state which is determined by the `goal_test` function.\n",
                "\n",
                "This problem requires you to complete the following:\n",
                "- `Queue` class from Problem Set 4 HW2.\n",
                "- `MapSM` class in CS4.\n",
                "- `SearchNode` and `Step` classes in CS5."
            ]
        },
        {
            "cell_type": "code",
            "execution_count": 13,
            "metadata": {
                "colab": [],
                "colab_type": "code",
                "collapsed": true,
                "id": "jVauNWSLaM9y"
            },
            "outputs": [],
            "source": [
                "# Copy over the implementations of Queue from PS4 HW2\n",
                "class Queue:\n",
                "    pass\n",
                "    ###\n",
                "    ### YOUR CODE HERE\n",
                "    ###\n"
            ]
        },
        {
            "cell_type": "code",
            "execution_count": 14,
            "metadata": {
                "collapsed": true,
                "nbgrader": {
                    "grade": false,
                    "locked": true,
                    "solution": false
                },
                "editable": false,
                "deletable": false
            },
            "outputs": [],
            "source": [
                "from abc import abstractmethod\n",
                "\n",
                "class StateSpaceSearch(StateMachine):\n",
                "    @property\n",
                "    @abstractmethod\n",
                "    def statemap(self):\n",
                "        pass\n",
                "\n",
                "    @property\n",
                "    @abstractmethod\n",
                "    def legal_inputs(self):\n",
                "        pass\n"
            ]
        },
        {
            "cell_type": "code",
            "execution_count": 15,
            "metadata": {
                "collapsed": true
            },
            "outputs": [],
            "source": [
                "# Copy over the implementation of MapSM from Cohort\n",
                "class MapSM(StateSpaceSearch):\n",
                "    \n",
                "    def __init__(self, start):\n",
                "        self.start_state = start\n",
                "        \n",
                "    @property\n",
                "    def statemap(self):\n",
                "        statemap = {\"S\": [\"A\", \"B\"],\n",
                "                    \"A\": [\"S\", \"C\", \"D\"],\n",
                "                    \"B\": [\"S\", \"D\", \"E\"],\n",
                "                    \"C\": [\"A\", \"F\"],\n",
                "                    \"D\": [\"A\", \"B\", \"F\", \"H\"],\n",
                "                    \"E\": [\"B\", \"H\"],\n",
                "                    \"F\": [\"C\", \"D\", \"G\"],\n",
                "                    \"H\": [\"D\", \"E\", \"G\"],\n",
                "                    \"G\": [\"F\", \"H\"]}\n",
                "        return statemap\n",
                "\n",
                "    @property\n",
                "    def legal_inputs(self):\n",
                "        ###\n",
                "        ### YOUR CODE HERE\n",
                "        ###\n",
                "        pass\n",
                "  \n",
                "    def get_next_values(self, state, inp):\n",
                "        ###\n",
                "        ### YOUR CODE HERE\n",
                "        ###\n"
            ]
        },
        {
            "cell_type": "code",
            "execution_count": 16,
            "metadata": {
                "collapsed": true
            },
            "outputs": [],
            "source": [
                "# Copy over the implementations of Step and SearchNode from Cohort\n",
                "class Step:\n",
                "    def __init__(self, action, state):\n",
                "        self.action = action\n",
                "        self.state = state\n",
                "    \n",
                "    def __eq__(self, other):\n",
                "        return self.action == other.action and self.state == other.state\n",
                "  \n",
                "    def __str__(self):\n",
                "        return f\"action: {self.action:}, state: {self.state:}\"\n",
                "\n",
                "class SearchNode:\n",
                "    pass\n",
                "    ###\n",
                "    ### YOUR CODE HERE\n",
                "    ###\n"
            ]
        },
        {
            "cell_type": "code",
            "execution_count": 17,
            "metadata": {
                "colab": [],
                "colab_type": "code",
                "collapsed": true,
                "id": "5gqajGoo5KdP"
            },
            "outputs": [],
            "source": [
                "def sm_search(sm_to_search, initial_state=None, goal_test=None):\n",
                "    # check if initial_state is provided\n",
                "    # if it is, use it\n",
                "    # otherwise, get the start state of sm_to_search\n",
                "    if initial_state == None:\n",
                "        # replace None to take the start state of sm_to_search\n",
                "        init_state = None\n",
                "        ###\n",
                "        ### YOUR CODE HERE\n",
                "        ###\n",
                "    else:\n",
                "        init_state = initial_state\n",
                "  \n",
                "    # check if goal_test is provided\n",
                "    # if it is, use it\n",
                "    # otherwise, use the done method as the goal function\n",
                "    # taken from sm_to_search\n",
                "    if goal_test == None:\n",
                "        goal_func = sm_to_search.done\n",
                "    else:\n",
                "        goal_func = goal_test\n",
                "  \n",
                "    # create a Queue instance to store the node to explore\n",
                "    # replace the None below\n",
                "    agenda = None\n",
                "    ###\n",
                "    ### YOUR CODE HERE\n",
                "    ###\n",
                "  \n",
                "    # if the initial state is the goal state, \n",
                "    # then we are done and exit\n",
                "    if goal_func(init_state):\n",
                "        return [Step(None, init_state)]\n",
                "  \n",
                "    # otherwise, add the current node into the agenda \n",
                "    agenda.enqueue(SearchNode(None, init_state, None))\n",
                "    \n",
                "    # explore as long as the Queue is not empty\n",
                "    while not agenda.is_empty:\n",
                "        \n",
                "        # replace None to take out the parent from the Queue\n",
                "        parent = None\n",
                "        ###\n",
                "        ### YOUR CODE HERE\n",
                "        ###\n",
                "        \n",
                "        # create a list to keep track which child state have been explored\n",
                "        new_child_state = []\n",
                "        \n",
                "        # get all the legal input values\n",
                "        actions = sm_to_search.legal_inputs\n",
                "        \n",
                "        #iterate over all legal inputs\n",
                "        for a in actions:\n",
                "            # get the next possible state using the current action\n",
                "            # call get_next_values to get the next state\n",
                "            # replace the None below\n",
                "            new_s = None\n",
                "            ###\n",
                "            ### YOUR CODE HERE\n",
                "            ###\n",
                "            \n",
                "            # create a new search node from the new_s\n",
                "            # replace the None below\n",
                "            new_n = None\n",
                "            ###\n",
                "            ### YOUR CODE HERE\n",
                "            ###\n",
                "            \n",
                "            # if the new state is the goal state, then we exit and return the path\n",
                "            if goal_func(new_s):\n",
                "                return new_n.path()\n",
                "            \n",
                "            # if the new state is already in the list of new child state, ignore it\n",
                "            elif new_s in new_child_state:\n",
                "                pass\n",
                "            \n",
                "            # if the new state is in the path of the current node, ignore it\n",
                "            elif parent.in_path(new_s):\n",
                "                pass\n",
                "            \n",
                "            # otherwise, add the new state into the list\n",
                "            # and the new node into the Queue\n",
                "            else:\n",
                "                # step 1. add the new state into the new_child_state\n",
                "                ###\n",
                "                ### YOUR CODE HERE\n",
                "                ###\n",
                "                \n",
                "                # step 2. add the new node into the Queue\n",
                "                ###\n",
                "                ### YOUR CODE HERE\n",
                "                ###\n",
                "                pass\n",
                "    return None"
            ]
        },
        {
            "cell_type": "code",
            "execution_count": 18,
            "metadata": {
                "colab": {
                    "base_uri": "https:\/\/localhost:8080\/",
                    "height": 85
                },
                "colab_type": "code",
                "id": "xt-3GH5RL6Kj",
                "nbgrader": {
                    "grade": true,
                    "grade_id": "hw41",
                    "locked": true,
                    "points": "1",
                    "solution": false
                },
                "outputId": "4ef5cf2c-c7a2-4581-889a-b5eeadc64429",
                "editable": false,
                "deletable": false
            },
            "outputs": [],
            "source": [
                "mapSM = MapSM(\"S\")\n",
                "ans = sm_search(mapSM , \"S\" , lambda s: s==\"H\" )\n",
                "steps = [(step.action, step.state) for step in ans]\n",
                "assert steps == [(None, \"S\"), (0, \"A\"), (2, \"D\"), (3, \"H\")]\n",
                "for step in ans:\n",
                "    print(step)"
            ]
        },
        {
            "cell_type": "code",
            "execution_count": 19,
            "metadata": {
                "nbgrader": {
                    "grade": true,
                    "grade_id": "hw42",
                    "locked": true,
                    "points": "1",
                    "solution": false
                },
                "editable": false,
                "deletable": false
            },
            "outputs": [],
            "source": [
                "###\n",
                "### AUTOGRADER TEST - DO NOT REMOVE\n",
                "###\n"
            ]
        }
    ],
    "metadata": {
        "kernelspec": {
            "display_name": "Python 3 [3.7]",
            "language": "python",
            "name": "python3"
        },
        "language_info": {
            "codemirror_mode": {
                "name": "ipython",
                "version": 3
            },
            "file_extension": ".py",
            "mimetype": "text\/x-python",
            "name": "python",
            "nbconvert_exporter": "python",
            "pygments_lexer": "ipython3",
            "version": "3.7.5"
        },
        "vscode": {
            "interpreter": {
                "hash": "ac37b77c3c0f43e60bec193f0626743b91dd65d8d4aeca5713e457ab7e777e4c"
            }
        }
    },
    "nbformat": 4,
    "nbformat_minor": 4
}