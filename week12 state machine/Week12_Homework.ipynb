{
    "cells": [
        {
            "cell_type": "code",
            "execution_count": 344,
            "metadata": {
                "collapsed": true,
                "deletable": false,
                "editable": false,
                "nbgrader": {
                    "grade": false,
                    "locked": true,
                    "solution": false
                }
            },
            "outputs": [],
            "source": [
                "### Grading script code \n",
                "### You don't need to read this, proceed to the next cell\n",
                "import sys\n",
                "import functools\n",
                "ipython = get_ipython()\n",
                "\n",
                "def set_traceback(val):\n",
                "    method_name = \"showtraceback\"\n",
                "    setattr(\n",
                "        ipython,\n",
                "        method_name,\n",
                "        functools.partial(\n",
                "            getattr(ipython, method_name),\n",
                "            exception_only=(not val)\n",
                "        )\n",
                "    )\n",
                "\n",
                "class AnswerError(Exception):\n",
                "  def __init__(self, message):\n",
                "    pass\n",
                "\n",
                "def exec_test(f, question):\n",
                "    try:\n",
                "        f()\n",
                "        print(question + \" Pass\")\n",
                "    except:\n",
                "        set_traceback(False) # do not remove\n",
                "        raise AnswerError(question + \" Fail\")"
            ]
        },
        {
            "cell_type": "markdown",
            "metadata": {
                "colab_type": "text",
                "deletable": false,
                "editable": false,
                "id": "8aIR0Iu8Bp-M",
                "nbgrader": {
                    "grade": false,
                    "locked": true,
                    "solution": false
                }
            },
            "source": [
                "# Week 12 Problem Set\n",
                "\n",
                "## Homework"
            ]
        },
        {
            "cell_type": "markdown",
            "metadata": {
                "colab_type": "text",
                "deletable": false,
                "editable": false,
                "id": "CVpRsTXGBaXa",
                "nbgrader": {
                    "grade": false,
                    "locked": true,
                    "solution": false
                }
            },
            "source": [
                "**HW1.** *Comments:* Write a state machine whose inputs are the characters of a string. The string contains the code for a computer program. The output of the state machine are either:\n",
                "- the input character if it is part of a comment, or\n",
                "- `None`, otherwise.\n",
                "\n",
                "Comment starts with a `#` character and continue to the end of the current line. If you want to create a string that contains a new line character, you can use `\\n`.\n",
                "\n",
                "For example,\n",
                "```\n",
                "inpstr = \"def func(x): # comment\\n    return 1\"\n",
                "m = CommentsSM()\n",
                "print(m.transduce(inpstr))\n",
                "```\n",
                "\n",
                "The expected output is:\n",
                "```\n",
                "[None, None, None, None, None, None, None, None, None, None, None, None, None, \"#\", \" \", \"c\", \"o\", \"m\", \"m\", \"e\", \"n\", \"t\", None, None, None, None, None, None, None, None, None, None, None, None, None]\n",
                "```\n",
                "\n",
                "You should start by drawing a state transition diagram indicating the states and what inputs cause transition to which other states. Use the test case above to determine if your state transition diagram is correct. You should begin writing your program only when you are confident that your diagram is correct. "
            ]
        },
        {
            "cell_type": "code",
            "execution_count": 345,
            "metadata": {
                "collapsed": true
            },
            "outputs": [],
            "source": [
                "# Copy over the implementation of StateMachine from Cohort\n",
                "from abc import ABC, abstractmethod\n",
                "\n",
                "class StateMachine(ABC):\n",
                "\n",
                "    @property\n",
                "    @abstractmethod\n",
                "    def start_state(self):\n",
                "        pass\n",
                "\n",
                "    def start(self):\n",
                "        self.state = self.start_state\n",
                "\n",
                "    def step(self, inp):\n",
                "        ns, o = self.get_next_values(self.state, inp)\n",
                "        self.state = ns\n",
                "        return o \n",
                "\n",
                "    def transduce(self, inp_list):\n",
                "        self.start()\n",
                "        return [self.step(inp) for inp in inp_list if not self.is_done()] \n",
                "\n",
                "    @abstractmethod\n",
                "    def get_next_values(self, state, inp):\n",
                "        pass\n",
                "\n",
                "    def done(self, state):\n",
                "        return False\n",
                "\n",
                "    def is_done(self):\n",
                "        return self.done(self.state)"
            ]
        },
        {
            "cell_type": "code",
            "execution_count": 346,
            "metadata": {
                "colab": [],
                "colab_type": "code",
                "collapsed": true,
                "id": "k4sWVMNYB_b1"
            },
            "outputs": [],
            "source": [
                "class CommentsSM(StateMachine):\n",
                "\n",
                "    start_state = False\n",
                "\n",
                "    # each inp is a character\n",
                "    def get_next_values(self, state, inp):\n",
                "        \n",
                "        if state:\n",
                "            if inp != '\\n':\n",
                "                next_state = state\n",
                "                output = inp\n",
                "            else:\n",
                "                next_state = False\n",
                "                output = None\n",
                "        \n",
                "        else:\n",
                "            if inp == '#':\n",
                "                next_state = True\n",
                "                output = inp\n",
                "            else:\n",
                "                next_state = False\n",
                "                output = None\n",
                "        \n",
                "        return next_state, output"
            ]
        },
        {
            "cell_type": "code",
            "execution_count": 347,
            "metadata": {
                "colab": [],
                "colab_type": "code",
                "collapsed": true,
                "deletable": false,
                "editable": false,
                "id": "RvcBzb9dEDSQ",
                "nbgrader": {
                    "grade": true,
                    "grade_id": "hw11",
                    "locked": true,
                    "points": "1",
                    "solution": false
                }
            },
            "outputs": [],
            "source": [
                "inpstr = \"def func(x): # comment\\n    return 1\"\n",
                "m = CommentsSM()\n",
                "out = m.transduce(inpstr)\n",
                "assert out == [None, None, None, None, None, None, None, None, None, None, None, None, None, \"#\", \" \", \"c\", \"o\", \"m\", \"m\", \"e\", \"n\", \"t\", None, None, None, None, None, None, None, None, None, None, None, None, None]"
            ]
        },
        {
            "cell_type": "code",
            "execution_count": 348,
            "metadata": {
                "deletable": false,
                "editable": false,
                "nbgrader": {
                    "grade": true,
                    "grade_id": "hw12",
                    "locked": true,
                    "points": "1",
                    "solution": false
                }
            },
            "outputs": [],
            "source": [
                "###\n",
                "### AUTOGRADER TEST - DO NOT REMOVE\n",
                "###\n"
            ]
        },
        {
            "cell_type": "markdown",
            "metadata": {
                "colab_type": "text",
                "deletable": false,
                "editable": false,
                "id": "lYlKhFvVEdx0",
                "nbgrader": {
                    "grade": false,
                    "locked": true,
                    "solution": false
                }
            },
            "source": [
                "**HW2.** *First Word:* Write a state machine whose inputs are the characters of a string and which outputs either:\n",
                "- the input character if it is part of the first word on a line, or\n",
                "- `None`, otherwise\n",
                "\n",
                "For the purposes here, a word is any sequence of consecutive characters that does not contain spaces or end-of-line characters. In this problem, comments have no special status. This means that if the line begins with `# `, then the first word is `#`. \n",
                "\n",
                "For example, \n",
                "```\n",
                "inpstr = \"def func(x): # comment\\n    return 1\"\n",
                "m = FirstWordSM()\n",
                "print(m.transduce( inpstr))\n",
                "```\n",
                "\n",
                "The expected output is:\n",
                "```\n",
                "[\"d\", \"e\", \"f\", None, None, None, None, None, None, None, None, None, None, None, None, None, None, None, None, None, None, None, None, None, None, None, None, None, \"r\", \"e\", \"t\", \"u\", \"r\", \"n\", None, None]\n",
                "```"
            ]
        },
        {
            "cell_type": "code",
            "execution_count": 349,
            "metadata": {
                "colab": [],
                "colab_type": "code",
                "collapsed": true,
                "id": "wbcNeKi1FcEy"
            },
            "outputs": [],
            "source": [
                "class FirstWordSM(StateMachine):\n",
                "    start_state = 1\n",
                "  \n",
                "    def get_next_values(self, state, inp):\n",
                "        # 0 to 1 state is whether \\n has been encountered or not\n",
                "        # 1 to 2 state is whether first letter has been encountered\n",
                "\n",
                "        if state == 1:\n",
                "            if not (inp == ' ' or inp == '\\n'):\n",
                "                next_state = 2\n",
                "                output = inp\n",
                "            else:\n",
                "                next_state = state\n",
                "                output = None\n",
                "        elif state == 2:\n",
                "            if inp == ' ':\n",
                "                next_state = 0\n",
                "                output = None\n",
                "            elif inp == '\\n':\n",
                "                next_state = 1\n",
                "                output = None\n",
                "            else:\n",
                "                next_state = state\n",
                "                output = inp\n",
                "        else:\n",
                "            if inp == '\\n':\n",
                "                next_state = 1\n",
                "                output = None\n",
                "            else:\n",
                "                next_state = state\n",
                "                output = None\n",
                "\n",
                "        return next_state, output"
            ]
        },
        {
            "cell_type": "code",
            "execution_count": 350,
            "metadata": {
                "colab": [],
                "colab_type": "code",
                "collapsed": true,
                "deletable": false,
                "editable": false,
                "id": "UUN3kvJ5GO_g",
                "nbgrader": {
                    "grade": true,
                    "grade_id": "hw21",
                    "locked": true,
                    "points": "1",
                    "solution": false
                }
            },
            "outputs": [],
            "source": [
                "inpstr = \"def func(x): # comment\\n    return 1\"\n",
                "m = FirstWordSM()\n",
                "out = m.transduce(inpstr)\n",
                "assert out == [\"d\", \"e\", \"f\", None, None, None, None, None, None, None, None, None, None, None, None, None, None, None, None, None, None, None, None, None, None, None, None, \"r\", \"e\", \"t\", \"u\", \"r\", \"n\", None, None]\n"
            ]
        },
        {
            "cell_type": "code",
            "execution_count": 351,
            "metadata": {
                "deletable": false,
                "editable": false,
                "nbgrader": {
                    "grade": true,
                    "grade_id": "hw22",
                    "locked": true,
                    "points": "1",
                    "solution": false
                }
            },
            "outputs": [],
            "source": [
                "###\n",
                "### AUTOGRADER TEST - DO NOT REMOVE\n",
                "###\n"
            ]
        },
        {
            "cell_type": "markdown",
            "metadata": {
                "colab_type": "text",
                "deletable": false,
                "editable": false,
                "id": "NnDht41iHHTy",
                "nbgrader": {
                    "grade": false,
                    "locked": true,
                    "solution": false
                }
            },
            "source": [
                "**HW3.** *Robot:* Write a State Machine class that represent a robot. The dimension of the world and the robot initial position should be specified during the class instantiation. The robot can take in the following input:\n",
                "- \"left\"\n",
                "- \"right\"\n",
                "- \"up\"\n",
                "- \"down\"\n",
                "\n",
                "The initial position of the robot is specified during the object instantiation and the input should modify the position of the robot. The robot position must not change if it exceed the boundary. At each step, the robot should output the updated position. "
            ]
        },
        {
            "cell_type": "code",
            "execution_count": 352,
            "metadata": {
                "collapsed": true,
                "deletable": false,
                "editable": false,
                "nbgrader": {
                    "grade": false,
                    "locked": true,
                    "solution": false
                }
            },
            "outputs": [],
            "source": [
                "class Position:\n",
                "  \n",
                "    def __init__(self, x=0, y=0):\n",
                "        self.x = x\n",
                "        self.y = y\n",
                "  \n",
                "    def __str__(self):\n",
                "        return f\"({self.x:}, {self.y:})\"\n",
                "\n",
                "class Dimension:\n",
                "\n",
                "    def __init__(self, width=0, height=0):\n",
                "        self.width = width\n",
                "        self.height = height\n",
                "  \n",
                "    def __str__(self):\n",
                "        return f\"width: {self.width:}, height: {self.height:}\""
            ]
        },
        {
            "cell_type": "code",
            "execution_count": 353,
            "metadata": {
                "colab": [],
                "colab_type": "code",
                "collapsed": true,
                "id": "Cpgta89wHKcM"
            },
            "outputs": [],
            "source": [
                "class RobotSM(StateMachine):\n",
                "\n",
                "    def __init__(self, init_pos, dimension):\n",
                "        self.world_dim = dimension\n",
                "        self.start_state = init_pos\n",
                "\n",
                "    @property\n",
                "    def start_state(self):\n",
                "        return self._start_state\n",
                "    \n",
                "    @start_state.setter\n",
                "    def start_state(self, pos):\n",
                "        if pos.x <= self.world_dim.width and pos.x >=0 and pos.y <= self.world_dim.height and pos.y >= 0:\n",
                "            self._start_state = pos\n",
                "\n",
                "    def get_next_values(self, state, inp):\n",
                "        \n",
                "        x_pos = state.x\n",
                "        y_pos = state.y\n",
                "        if inp == 'right' and x_pos + 1 <= self.world_dim.width:\n",
                "            x_pos += 1\n",
                "        elif inp == 'left' and x_pos - 1 >= 0:\n",
                "            x_pos -= 1\n",
                "        elif inp == 'up' and y_pos + 1 <= self.world_dim.height:\n",
                "            y_pos +=1\n",
                "        elif inp == 'down' and y_pos - 1 >= 0:\n",
                "            y_pos -= 1\n",
                "\n",
                "        new_state = Position(x_pos, y_pos)\n",
                "        return new_state, new_state\n"
            ]
        },
        {
            "cell_type": "code",
            "execution_count": 354,
            "metadata": {
                "colab": [],
                "colab_type": "code",
                "collapsed": true,
                "deletable": false,
                "editable": false,
                "id": "dAVM6rSCIxDX",
                "nbgrader": {
                    "grade": true,
                    "grade_id": "hw31",
                    "locked": true,
                    "points": "1",
                    "solution": false
                }
            },
            "outputs": [],
            "source": [
                "robot = RobotSM(Position(0, 0), Dimension(5, 5))\n",
                "robot.start()\n",
                "robot.transduce([\"right\", \"right\", \"up\", \"up\", \"up\", \"left\", \"down\"])\n",
                "pos = robot.state\n",
                "assert pos.x == 1 and pos.y == 2"
            ]
        },
        {
            "cell_type": "code",
            "execution_count": 355,
            "metadata": {
                "deletable": false,
                "editable": false,
                "nbgrader": {
                    "grade": true,
                    "grade_id": "hw32",
                    "locked": true,
                    "points": "1",
                    "solution": false
                }
            },
            "outputs": [],
            "source": [
                "###\n",
                "### AUTOGRADER TEST - DO NOT REMOVE\n",
                "###\n"
            ]
        },
        {
            "cell_type": "markdown",
            "metadata": {
                "colab_type": "text",
                "deletable": false,
                "editable": false,
                "id": "t4iXOJiNaMMR",
                "nbgrader": {
                    "grade": false,
                    "locked": true,
                    "solution": false
                }
            },
            "source": [
                "**HW4.** *Search SM:* Write a function `sm_search` that takes in the following arguments:\n",
                "- `sm_to_search`: is the State Machine instance to search. This argument is of the type `MapSM` as defined in CS4. You should use the `get_next_values()` of this State Machine instance to explore the next state in your search.\n",
                "- `initial_state`: is the start state of the search. If it is not provided, it should be assigned to the `start_state` of sm_search. \n",
                "- `goal_test`: is a function that returns `True` if the argument is the end state of the search. If it is not provided, it should be eassigned to the `done` function of the state machine.\n",
                "\n",
                "This function performs a **breadth-first-search** algorithm to explore the next states. \n",
                "\n",
                "The output is a `list` of `Step` instances from the `init_state` to the end state which is determined by the `goal_test` function.\n",
                "\n",
                "This problem requires you to complete the following:\n",
                "- `Queue` class from Problem Set 4 HW2.\n",
                "- `MapSM` class in CS4.\n",
                "- `SearchNode` and `Step` classes in CS5."
            ]
        },
        {
            "cell_type": "code",
            "execution_count": 356,
            "metadata": {
                "colab": [],
                "colab_type": "code",
                "collapsed": true,
                "id": "jVauNWSLaM9y"
            },
            "outputs": [],
            "source": [
                "# Copy over the implementations of Queue from PS4 HW2\n",
                "class Queue:\n",
                "    def __init__(self):\n",
                "        self.ls = []\n",
                "\n",
                "    def enqueue(self, item):\n",
                "        self.ls.append(item)\n",
                "    \n",
                "    def dequeue(self):\n",
                "        if not self.is_empty:\n",
                "            return self.ls.pop(0)\n",
                "\n",
                "    @property\n",
                "    def is_empty(self):\n",
                "        return self.ls == []"
            ]
        },
        {
            "cell_type": "code",
            "execution_count": 357,
            "metadata": {
                "collapsed": true,
                "deletable": false,
                "editable": false,
                "nbgrader": {
                    "grade": false,
                    "locked": true,
                    "solution": false
                }
            },
            "outputs": [],
            "source": [
                "from abc import abstractmethod\n",
                "\n",
                "class StateSpaceSearch(StateMachine):\n",
                "    @property\n",
                "    @abstractmethod\n",
                "    def statemap(self):\n",
                "        pass\n",
                "\n",
                "    @property\n",
                "    @abstractmethod\n",
                "    def legal_inputs(self):\n",
                "        pass\n"
            ]
        },
        {
            "cell_type": "code",
            "execution_count": 358,
            "metadata": {
                "collapsed": true
            },
            "outputs": [],
            "source": [
                "# Copy over the implementation of MapSM from Cohort\n",
                "class MapSM(StateSpaceSearch):\n",
                "    \n",
                "    def __init__(self, start):\n",
                "        self.start_state = start\n",
                "        \n",
                "    @property\n",
                "    def start_state(self):\n",
                "        return self._start_state\n",
                "\n",
                "    @start_state.setter\n",
                "    def start_state(self, node):\n",
                "        if node in self.statemap.keys():\n",
                "            self._start_state = node\n",
                "        else:\n",
                "            self._start_state = 'S'\n",
                "    @property\n",
                "    def statemap(self):\n",
                "        statemap = {\"S\": [\"A\", \"B\"],\n",
                "                    \"A\": [\"S\", \"C\", \"D\"],\n",
                "                    \"B\": [\"S\", \"D\", \"E\"],\n",
                "                    \"C\": [\"A\", \"F\"],\n",
                "                    \"D\": [\"A\", \"B\", \"F\", \"H\"],\n",
                "                    \"E\": [\"B\", \"H\"],\n",
                "                    \"F\": [\"C\", \"D\", \"G\"],\n",
                "                    \"H\": [\"D\", \"E\", \"G\"],\n",
                "                    \"G\": [\"F\", \"H\"]}\n",
                "        return statemap\n",
                "\n",
                "    @property\n",
                "    def legal_inputs(self):\n",
                "        max = -1\n",
                "        for inps in self.statemap.values():\n",
                "            curr_inps_len = len(inps)\n",
                "            if curr_inps_len > max:\n",
                "                max = curr_inps_len\n",
                "        \n",
                "        return set(range(max))\n",
                "    def get_next_values(self, state, inp):\n",
                "        neighbours = self.statemap.get(state)\n",
                "        next_state = state if inp >= len(neighbours) else neighbours[inp]\n",
                "        return next_state, next_state"
            ]
        },
        {
            "cell_type": "code",
            "execution_count": 359,
            "metadata": {
                "collapsed": true
            },
            "outputs": [],
            "source": [
                "# Copy over the implementations of Step and SearchNode from Cohort\n",
                "class Step:\n",
                "    def __init__(self, action, state):\n",
                "        self.action = action\n",
                "        self.state = state\n",
                "    \n",
                "    def __eq__(self, other):\n",
                "        return self.action == other.action and self.state == other.state\n",
                "  \n",
                "    def __str__(self):\n",
                "        return f\"action: {self.action:}, state: {self.state:}\"\n",
                "\n",
                "class SearchNode:\n",
                "    def __init__(self, action, state, parent=None):\n",
                "        self.state = state\n",
                "        self.action = action\n",
                "        self.parent = parent\n",
                "  \n",
                "    def path(self):\n",
                "        if self.parent == None:\n",
                "            return [Step(self.action, self.state)]\n",
                "        else:\n",
                "            return self.parent.path() + [Step(self.action, self.state)] \n",
                "\n",
                "\n",
                "    def in_path(self, state):\n",
                "        if self.state == state:\n",
                "            return True\n",
                "        elif self.parent == None:\n",
                "            return False\n",
                "        else:\n",
                "            return self.parent.in_path(state)\n",
                "  \n",
                "    def __eq__(self, other):\n",
                "        if self is None and other is None:\n",
                "            return True\n",
                "        elif self is None:\n",
                "            return False\n",
                "        elif other is None:\n",
                "            return False\n",
                "        else:\n",
                "            return self.state == other.state and self.parent == other.parent and \\\n",
                "                   self.action == other.action"
            ]
        },
        {
            "cell_type": "markdown",
            "metadata": {},
            "source": [
                "**HW4.** *Search SM:* Write a function `sm_search` that takes in the following arguments:\n",
                "- `sm_to_search`: is the State Machine instance to search. This argument is of the type `MapSM` as defined in CS4. You should use the `get_next_values()` of this State Machine instance to explore the next state in your search.\n",
                "- `initial_state`: is the start state of the search. If it is not provided, it should be assigned to the `start_state` of sm_search. \n",
                "- `goal_test`: is a function that returns `True` if the argument is the end state of the search. If it is not provided, it should be eassigned to the `done` function of the state machine.\n",
                "\n",
                "This function performs a **breadth-first-search** algorithm to explore the next states. \n",
                "\n",
                "The output is a `list` of `Step` instances from the `init_state` to the end state which is determined by the `goal_test` function.\n",
                "\n",
                "This problem requires you to complete the following:\n",
                "- `Queue` class from Problem Set 4 HW2.\n",
                "- `MapSM` class in CS4.\n",
                "- `SearchNode` and `Step` classes in CS5."
            ]
        },
        {
            "cell_type": "code",
            "execution_count": 360,
            "metadata": {
                "colab": [],
                "colab_type": "code",
                "collapsed": true,
                "id": "5gqajGoo5KdP"
            },
            "outputs": [],
            "source": [
                "def sm_search(sm_to_search, initial_state=None, goal_test=None):\n",
                "    # check if initial_state is provided\n",
                "    # if it is, use it\n",
                "    # otherwise, get the start state of sm_to_search\n",
                "    if initial_state == None:\n",
                "        # replace None to take the start state of sm_to_search\n",
                "        init_state = sm_to_search.start_state\n",
                "        ###\n",
                "        ### YOUR CODE HERE\n",
                "        ###\n",
                "    else:\n",
                "        init_state = initial_state\n",
                "  \n",
                "    # check if goal_test is provided\n",
                "    # if it is, use it\n",
                "    # otherwise, use the done method as the goal function\n",
                "    # taken from sm_to_search\n",
                "    if goal_test == None:\n",
                "        goal_func = sm_to_search.done\n",
                "    else:\n",
                "        goal_func = goal_test\n",
                "  \n",
                "    # create a Queue instance to store the node to explore\n",
                "    # replace the None below\n",
                "    agenda = Queue()\n",
                "    ###\n",
                "    ### YOUR CODE HERE\n",
                "    ###\n",
                "  \n",
                "    # if the initial state is the goal state, \n",
                "    # then we are done and exit\n",
                "    if goal_func(init_state):\n",
                "        return [Step(None, init_state)]\n",
                "  \n",
                "    # otherwise, add the current node into the agenda \n",
                "    agenda.enqueue(SearchNode(None, init_state, None))\n",
                "    \n",
                "    # explore as long as the Queue is not empty\n",
                "    while not agenda.is_empty:\n",
                "    \n",
                "        # replace None to take out the parent from the Queue\n",
                "        parent = agenda.dequeue()\n",
                "        ###\n",
                "        ### YOUR CODE HERE\n",
                "        ###\n",
                "        \n",
                "        # create a list to keep track which child state have been explored\n",
                "        new_child_state = [] \n",
                "        \n",
                "        # get all the legal input values\n",
                "        actions = sm_to_search.legal_inputs\n",
                "\n",
                "        #iterate over all legal inputs\n",
                "        for a in actions:\n",
                "            # get the next possible state using the current action\n",
                "            # call get_next_values to get the next state\n",
                "            # replace the None below\n",
                "            new_s, o = sm_to_search.get_next_values(parent.state, a)\n",
                "            if new_s == parent.state:\n",
                "                continue\n",
                "            ###\n",
                "            ### YOUR CODE HERE\n",
                "            ###\n",
                "            \n",
                "            # create a new search node from the new_s\n",
                "            # replace the None below\n",
                "            new_n = SearchNode(action=a, state=new_s, parent=parent)\n",
                "            ###\n",
                "            ### YOUR CODE HERE\n",
                "            ###\n",
                "            \n",
                "            # if the new state is the goal state, then we exit and return the path\n",
                "            if goal_func(new_s):\n",
                "                return new_n.path()\n",
                "            \n",
                "            # if the new state is already in the list of new child state, ignore it\n",
                "            elif new_s in new_child_state:\n",
                "                pass\n",
                "            \n",
                "            # if the new state is in the path of the current node, ignore it\n",
                "            elif parent.in_path(new_s):\n",
                "                pass\n",
                "            \n",
                "            # otherwise, add the new state into the list\n",
                "            # and the new node into the Queue\n",
                "            else:\n",
                "                # step 1. add the new state into the new_child_state\n",
                "                ###\n",
                "                ### YOUR CODE HERE\n",
                "                ###\n",
                "                new_child_state.append(new_s)\n",
                "                \n",
                "                # step 2. add the new node into the Queue\n",
                "                ###\n",
                "                ### YOUR CODE HERE\n",
                "                ###\n",
                "                agenda.enqueue(new_n)\n",
                "    return None"
            ]
        },
        {
            "cell_type": "code",
            "execution_count": 361,
            "metadata": {
                "colab": {
                    "base_uri": "https://localhost:8080/",
                    "height": 85
                },
                "colab_type": "code",
                "deletable": false,
                "editable": false,
                "id": "xt-3GH5RL6Kj",
                "nbgrader": {
                    "grade": true,
                    "grade_id": "hw41",
                    "locked": true,
                    "points": "1",
                    "solution": false
                },
                "outputId": "4ef5cf2c-c7a2-4581-889a-b5eeadc64429"
            },
            "outputs": [
                {
                    "name": "stdout",
                    "output_type": "stream",
                    "text": [
                        "action: None, state: S\n",
                        "action: 0, state: A\n",
                        "action: 2, state: D\n",
                        "action: 3, state: H\n"
                    ]
                }
            ],
            "source": [
                "mapSM = MapSM(\"S\")\n",
                "ans = sm_search(mapSM , \"S\" , lambda s: s==\"H\" )\n",
                "steps = [(step.action, step.state) for step in ans]\n",
                "assert steps == [(None, \"S\"), (0, \"A\"), (2, \"D\"), (3, \"H\")]\n",
                "for step in ans:\n",
                "    print(step)"
            ]
        },
        {
            "cell_type": "code",
            "execution_count": 362,
            "metadata": {
                "deletable": false,
                "editable": false,
                "nbgrader": {
                    "grade": true,
                    "grade_id": "hw42",
                    "locked": true,
                    "points": "1",
                    "solution": false
                }
            },
            "outputs": [],
            "source": [
                "###\n",
                "### AUTOGRADER TEST - DO NOT REMOVE\n",
                "###\n"
            ]
        }
    ],
    "metadata": {
        "kernelspec": {
            "display_name": "Python 3.10.4 64-bit",
            "language": "python",
            "name": "python3"
        },
        "language_info": {
            "codemirror_mode": {
                "name": "ipython",
                "version": 3
            },
            "file_extension": ".py",
            "mimetype": "text/x-python",
            "name": "python",
            "nbconvert_exporter": "python",
            "pygments_lexer": "ipython3",
            "version": "3.10.4"
        },
        "vscode": {
            "interpreter": {
                "hash": "369f2c481f4da34e4445cda3fffd2e751bd1c4d706f27375911949ba6bb62e1c"
            }
        }
    },
    "nbformat": 4,
    "nbformat_minor": 4
}
