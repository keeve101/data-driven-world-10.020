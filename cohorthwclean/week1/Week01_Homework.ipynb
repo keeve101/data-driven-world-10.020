{
    "cells": [
        {
            "cell_type": "code",
            "execution_count": 2,
            "metadata": {
                "collapsed": true,
                "nbgrader": {
                    "grade": false,
                    "locked": true,
                    "solution": false
                },
                "editable": false,
                "deletable": false
            },
            "outputs": [],
            "source": [
                "### Grading script code \n",
                "### You don't need to read this, proceed to the next cell\n",
                "import sys\n",
                "import functools\n",
                "ipython = get_ipython()\n",
                "\n",
                "def set_traceback(val):\n",
                "    method_name = \"showtraceback\"\n",
                "    setattr(\n",
                "        ipython,\n",
                "        method_name,\n",
                "        functools.partial(\n",
                "            getattr(ipython, method_name),\n",
                "            exception_only=(not val)\n",
                "        )\n",
                "    )\n",
                "\n",
                "class AnswerError(Exception):\n",
                "  def __init__(self, message):\n",
                "    pass\n",
                "\n",
                "def exec_test(f, question):\n",
                "    try:\n",
                "        f()\n",
                "        print(question + \" Pass\")\n",
                "    except:\n",
                "        set_traceback(False) # do not remove\n",
                "        raise AnswerError(question + \" Fail\")"
            ]
        },
        {
            "cell_type": "markdown",
            "metadata": {
                "colab_type": "text",
                "id": "AtcipLV1Htom",
                "nbgrader": {
                    "grade": false,
                    "locked": true,
                    "solution": false
                },
                "editable": false,
                "deletable": false
            },
            "source": [
                "# Week 1 Problem Set\n",
                "## Homework\n",
                "\n",
                "**HW0.** Write a function `palindrome(s)`to check if the string `s` is a [Palindrome](https:\/\/en.wikipedia.org\/wiki\/Palindrome). Use iteration for this solution.\n"
            ]
        },
        {
            "cell_type": "code",
            "execution_count": 3,
            "metadata": {
                "collapsed": true
            },
            "outputs": [],
            "source": [
                "def palindrome(s):\n",
                "    ###\n",
                "    ### YOUR CODE HERE\n",
                "    ###\n",
                "    pass"
            ]
        },
        {
            "cell_type": "code",
            "execution_count": 4,
            "metadata": {
                "collapsed": true,
                "nbgrader": {
                    "grade": true,
                    "grade_id": "hw01",
                    "locked": true,
                    "points": "1",
                    "solution": false
                },
                "editable": false,
                "deletable": false
            },
            "outputs": [],
            "source": [
                "assert not palindrome(\"moon\") \n",
                "assert palindrome(\"noon\") \n",
                "assert palindrome(\"a a\") \n",
                "assert palindrome(\"ada\") \n",
                "assert not palindrome(\"ad a\") "
            ]
        },
        {
            "cell_type": "code",
            "execution_count": 5,
            "metadata": {
                "nbgrader": {
                    "grade": true,
                    "grade_id": "hw02",
                    "locked": true,
                    "points": "1",
                    "solution": false
                },
                "editable": false,
                "deletable": false
            },
            "outputs": [],
            "source": [
                "###\n",
                "### AUTOGRADER TEST - DO NOT REMOVE\n",
                "###\n"
            ]
        },
        {
            "cell_type": "markdown",
            "metadata": {
                "nbgrader": {
                    "grade": false,
                    "locked": true,
                    "solution": false
                },
                "editable": false,
                "deletable": false
            },
            "source": [
                "**HW1.** Create a function to implement **Bubble Sort Algorithm version 2**. You can check the pseudocode in [Bubble Sort and Insertion Sort](https:\/\/github.com\/Data-Driven-World\/d2w_notes\/blob\/master\/BubbleSort_InsertionSort.ipynb). \n",
                "\n",
                "The function should ...\n",
                "\n",
                "- **modify\/mutate** an existing array into a sorted one\n",
                "- **return** the number of comparisons made\n",
                "\n",
                "Hint: To count the number of comparisons made you can simply increment an integer variable (counter) right before the `if` statement."
            ]
        },
        {
            "cell_type": "code",
            "execution_count": 6,
            "metadata": {
                "colab": {
                    "base_uri": "https:\/\/localhost:8080\/",
                    "height": 34
                },
                "colab_type": "code",
                "collapsed": true,
                "executionInfo": {
                    "elapsed": 855,
                    "status": "ok",
                    "timestamp": 1572598015388,
                    "user": {
                        "displayName": "Oka Kurniawan",
                        "photoUrl": "https:\/\/lh3.googleusercontent.com\/a-\/AAuE7mAnRP7A15yGfrraUO-0BiNVbNmYjI2f9jaZikjr=s64",
                        "userId": "05233922875329103764"
                    },
                    "user_tz": -480
                },
                "id": "vD-lvxBgHv-O",
                "outputId": "bf1284a5-8859-47fb-db56-b97d35f7ec6a"
            },
            "outputs": [],
            "source": [
                "def bubble_sort(array):\n",
                "    count = 0\n",
                "    ###\n",
                "    ### YOUR CODE HERE\n",
                "    ###\n",
                "    return count"
            ]
        },
        {
            "cell_type": "code",
            "execution_count": 7,
            "metadata": {
                "nbgrader": {
                    "grade": true,
                    "grade_id": "hw11",
                    "locked": true,
                    "points": "1",
                    "solution": false
                },
                "editable": false,
                "deletable": false
            },
            "outputs": [],
            "source": [
                "array = [10,3,8,47,1,0,-39,8,4,7,6,-5]\n",
                "count = bubble_sort(array)\n",
                "print(array, count)\n",
                "assert array == [-39, -5, 0, 1, 3, 4, 6, 7, 8, 8, 10, 47]\n",
                "assert count == 121"
            ]
        },
        {
            "cell_type": "code",
            "execution_count": 8,
            "metadata": {
                "nbgrader": {
                    "grade": true,
                    "grade_id": "hw12",
                    "locked": true,
                    "points": "1",
                    "solution": false
                },
                "editable": false,
                "deletable": false
            },
            "outputs": [],
            "source": [
                "###\n",
                "### AUTOGRADER TEST - DO NOT REMOVE\n",
                "###\n"
            ]
        },
        {
            "cell_type": "markdown",
            "metadata": {
                "colab_type": "text",
                "id": "2ApF7Ot0JXS4",
                "nbgrader": {
                    "grade": false,
                    "locked": true,
                    "solution": false
                },
                "editable": false,
                "deletable": false
            },
            "source": [
                "**HW2.** The solution in HW1 can be improved!\n",
                "\n",
                "The n-th pass places the n-th largest element into its final place (i.e. after 1 cycle, the (1st) largest element will be in its correct position).\n",
                "\n",
                "Hence, we can reduce subsequent iterations by only considering the other (unsorted) `n-1` elements in the array. \n",
                "\n",
                "Implement the algorithm of **Bubble Sort version 4** under [Bubble Sort and Insertion Sort](https:\/\/github.com\/Data-Driven-World\/d2w_notes\/blob\/master\/BubbleSort_InsertionSort.ipynb). \n"
            ]
        },
        {
            "cell_type": "code",
            "execution_count": 9,
            "metadata": {
                "colab": {
                    "base_uri": "https:\/\/localhost:8080\/",
                    "height": 34
                },
                "colab_type": "code",
                "collapsed": true,
                "executionInfo": {
                    "elapsed": 896,
                    "status": "ok",
                    "timestamp": 1572598114180,
                    "user": {
                        "displayName": "Oka Kurniawan",
                        "photoUrl": "https:\/\/lh3.googleusercontent.com\/a-\/AAuE7mAnRP7A15yGfrraUO-0BiNVbNmYjI2f9jaZikjr=s64",
                        "userId": "05233922875329103764"
                    },
                    "user_tz": -480
                },
                "id": "Cxkbiq9AJbjS",
                "outputId": "b182fd43-ca89-4ee0-c0ae-515d3bd32b62"
            },
            "outputs": [],
            "source": [
                "def bubble_sort(array):\n",
                "    count = 0\n",
                "    ###\n",
                "    ### YOUR CODE HERE\n",
                "    ###\n",
                "    return count"
            ]
        },
        {
            "cell_type": "code",
            "execution_count": 10,
            "metadata": {
                "nbgrader": {
                    "grade": true,
                    "grade_id": "hw21",
                    "locked": true,
                    "points": "1",
                    "solution": false
                },
                "editable": false,
                "deletable": false
            },
            "outputs": [],
            "source": [
                "array = [10,3,8,47,1,0,-39,8,4,7,6,-5]\n",
                "count = bubble_sort(array)\n",
                "print(array, count)\n",
                "assert array == [-39, -5, 0, 1, 3, 4, 6, 7, 8, 8, 10, 47]\n",
                "assert count == 66"
            ]
        },
        {
            "cell_type": "code",
            "execution_count": 11,
            "metadata": {
                "nbgrader": {
                    "grade": true,
                    "grade_id": "hw22",
                    "locked": true,
                    "points": "1",
                    "solution": false
                },
                "editable": false,
                "deletable": false
            },
            "outputs": [],
            "source": [
                "###\n",
                "### AUTOGRADER TEST - DO NOT REMOVE\n",
                "###\n"
            ]
        }
    ],
    "metadata": {
        "kernelspec": {
            "display_name": "Python 3 [3.7]",
            "language": "python",
            "name": "python3"
        },
        "language_info": {
            "codemirror_mode": {
                "name": "ipython",
                "version": 3
            },
            "file_extension": ".py",
            "mimetype": "text\/x-python",
            "name": "python",
            "nbconvert_exporter": "python",
            "pygments_lexer": "ipython3",
            "version": "3.7.5"
        },
        "vscode": {
            "interpreter": {
                "hash": "ac37b77c3c0f43e60bec193f0626743b91dd65d8d4aeca5713e457ab7e777e4c"
            }
        }
    },
    "nbformat": 4,
    "nbformat_minor": 4
}