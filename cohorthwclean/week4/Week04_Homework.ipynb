{
    "cells": [
        {
            "cell_type": "code",
            "execution_count": 1,
            "metadata": {
                "collapsed": true,
                "nbgrader": {
                    "grade": false,
                    "locked": true,
                    "solution": false
                },
                "editable": false,
                "deletable": false
            },
            "outputs": [],
            "source": [
                "### Grading script code \n",
                "### You don't need to read this, proceed to the next cell\n",
                "import sys\n",
                "import functools\n",
                "ipython = get_ipython()\n",
                "\n",
                "def set_traceback(val):\n",
                "    method_name = \"showtraceback\"\n",
                "    setattr(\n",
                "        ipython,\n",
                "        method_name,\n",
                "        functools.partial(\n",
                "            getattr(ipython, method_name),\n",
                "            exception_only=(not val)\n",
                "        )\n",
                "    )\n",
                "\n",
                "class AnswerError(Exception):\n",
                "  def __init__(self, message):\n",
                "    pass\n",
                "\n",
                "def exec_test(f, question):\n",
                "    try:\n",
                "        f()\n",
                "        print(question + \" Pass\")\n",
                "    except:\n",
                "        set_traceback(False) # do not remove\n",
                "        raise AnswerError(question + \" Fail\")"
            ]
        },
        {
            "cell_type": "markdown",
            "metadata": {
                "colab_type": "text",
                "id": "Hqgr4IZohVt8",
                "nbgrader": {
                    "grade": false,
                    "locked": true,
                    "solution": false
                },
                "editable": false,
                "deletable": false
            },
            "source": [
                "# Week 4 Problem Set\n",
                "\n",
                "## Homeworks"
            ]
        },
        {
            "cell_type": "markdown",
            "metadata": {
                "colab_type": "text",
                "id": "OJpqny0LhW8N",
                "nbgrader": {
                    "grade": false,
                    "locked": true,
                    "solution": false
                },
                "editable": false,
                "deletable": false
            },
            "source": [
                "**HW1.** Implement `Queue` abstract data structure using a Class. You can use a `list` as its internal data structure. The class should have the following interface:\n",
                "- `__init__()` to initialize an empty List for the queue to store the items.\n",
                "- `enqueue(item)` which inserts an Integer into the queue.\n",
                "- `dequeue()` which returns and removes the element at the head of the queue. The return value is an optional as it may return `None` if there are no more elements in the queue.\n",
                "- `peek()` which returns the element at the head of the queue.\n",
                "\n",
                "The class Queue has two computed properties:\n",
                "- `is_empty` which returns either `True` or `False` depending on whether the queue is empty or not.\n",
                "- `size` which returns the number of items in the queue."
            ]
        },
        {
            "cell_type": "code",
            "execution_count": 2,
            "metadata": {
                "colab": [],
                "colab_type": "code",
                "collapsed": true,
                "id": "uhUd80y9ho2F"
            },
            "outputs": [],
            "source": [
                "class Queue:\n",
                "    def __init__(self):\n",
                "        self.__items = []\n",
                "    \n",
                "    def enqueue(self, item):\n",
                "        ###\n",
                "        ### YOUR CODE HERE\n",
                "        ###\n",
                "        pass\n",
                "    \n",
                "    def dequeue(self):\n",
                "        ###\n",
                "        ### YOUR CODE HERE\n",
                "        ###\n",
                "        pass\n",
                "    \n",
                "    def peek(self):\n",
                "        ###\n",
                "        ### YOUR CODE HERE\n",
                "        ###\n",
                "        pass\n",
                "    \n",
                "    @property\n",
                "    def is_empty(self):\n",
                "        ###\n",
                "        ### YOUR CODE HERE\n",
                "        ###\n",
                "        pass\n",
                "    \n",
                "    @property\n",
                "    def size(self):\n",
                "        ###\n",
                "        ### YOUR CODE HERE\n",
                "        ###\n",
                "        pass"
            ]
        },
        {
            "cell_type": "code",
            "execution_count": 3,
            "metadata": {
                "colab": [],
                "colab_type": "code",
                "collapsed": true,
                "id": "POny7R3BivVW",
                "nbgrader": {
                    "grade": true,
                    "grade_id": "hw11",
                    "locked": true,
                    "points": "1",
                    "solution": false
                },
                "editable": false,
                "deletable": false
            },
            "outputs": [],
            "source": [
                "q1 = Queue()\n",
                "q1.enqueue(2)\n",
                "assert not q1.is_empty\n",
                "assert q1.size == 1\n",
                "ans = q1.dequeue()\n",
                "assert ans == 2\n",
                "assert q1.is_empty\n",
                "q1.enqueue(1)\n",
                "q1.enqueue(2)\n",
                "q1.enqueue(3)\n",
                "assert q1.size == 3\n",
                "assert q1.peek() == 1\n",
                "assert q1.dequeue() == 1\n",
                "assert q1.dequeue() == 2\n",
                "assert q1.dequeue() == 3"
            ]
        },
        {
            "cell_type": "code",
            "execution_count": 4,
            "metadata": {
                "nbgrader": {
                    "grade": true,
                    "grade_id": "hw12",
                    "locked": true,
                    "points": "1",
                    "solution": false
                },
                "editable": false,
                "deletable": false
            },
            "outputs": [],
            "source": [
                "###\n",
                "### AUTOGRADER TEST - DO NOT REMOVE\n",
                "###\n"
            ]
        },
        {
            "cell_type": "code",
            "execution_count": 5,
            "metadata": {
                "colab": [],
                "colab_type": "code",
                "id": "SWA-08cdkF-r",
                "nbgrader": {
                    "grade": true,
                    "grade_id": "hw13",
                    "locked": true,
                    "points": "1",
                    "solution": false
                },
                "editable": false,
                "deletable": false
            },
            "outputs": [],
            "source": [
                "###\n",
                "### AUTOGRADER TEST - DO NOT REMOVE\n",
                "###\n"
            ]
        },
        {
            "cell_type": "markdown",
            "metadata": {
                "nbgrader": {
                    "grade": false,
                    "locked": true,
                    "solution": false
                },
                "editable": false,
                "deletable": false
            },
            "source": [
                "**HW2.** We are going to create a class that contains both `RobotTurtle` and `Coordinate` class. The name of the class is `TurtleWorld` which is used to simulate when `RobotTurtle` is moving around some two dimensional space. The class has the following methods:\n",
                "\n",
                "- `add_turtle(name)` which is to add a new `RobotTurtle` into the world with the specified name.\n",
                "- `remove_turtle(name)` which is to remove the object `RobotTurtle` with the specified name from the world. \n",
                "- `list_turtles()` which is to list all the turtles in the world using their names in an ascending order.\n",
                "\n",
                "We give you here the class definition for the `Coordinate` and the `RobotTurtle` from the Notes."
            ]
        },
        {
            "cell_type": "code",
            "execution_count": 6,
            "metadata": {
                "collapsed": true,
                "nbgrader": {
                    "grade": false,
                    "locked": true,
                    "solution": false
                },
                "editable": false,
                "deletable": false
            },
            "outputs": [],
            "source": [
                "import math\n",
                "\n",
                "class Coordinate:\n",
                "    \n",
                "    def __init__(self, x=0, y=0):\n",
                "        self.x = x\n",
                "        self.y = y\n",
                "        \n",
                "    @property\n",
                "    def distance(self):\n",
                "        return math.sqrt(self.x * self.x + self.y * self.y)\n",
                "    \n",
                "    def __str__(self):\n",
                "        return f\"({self.x}, {self.y})\""
            ]
        },
        {
            "cell_type": "code",
            "execution_count": 7,
            "metadata": {
                "collapsed": true,
                "nbgrader": {
                    "grade": false,
                    "locked": true,
                    "solution": false
                },
                "editable": false,
                "deletable": false
            },
            "outputs": [],
            "source": [
                "# Class definition\n",
                "class RobotTurtle:\n",
                "    # Attributes:\n",
                "    def __init__(self, name, speed=1):\n",
                "        self.name = name\n",
                "        self.speed = speed\n",
                "        self._pos = Coordinate(0, 0)\n",
                "        \n",
                "    # property getter\n",
                "    @property\n",
                "    def name(self):\n",
                "        return self._name\n",
                "    \n",
                "    # property setter\n",
                "    @name.setter\n",
                "    def name(self, value):\n",
                "        if isinstance(value, str) and value != \"\":\n",
                "            self._name = value\n",
                "            \n",
                "    # property getter\n",
                "    @property\n",
                "    def speed(self):\n",
                "        return self._speed\n",
                "    \n",
                "    # property setter\n",
                "    @speed.setter\n",
                "    def speed(self, value):\n",
                "        if isinstance(value, int) and value > 0:\n",
                "            self._speed = value\n",
                "\n",
                "    # property getter\n",
                "    @property\n",
                "    def pos(self):\n",
                "        return self._pos\n",
                "    \n",
                "    # Methods:\n",
                "    def move(self, direction):\n",
                "        update = {'up' : Coordinate(self.pos.x, self.pos.y + self.speed),\n",
                "                  'down' : Coordinate(self.pos.x, self.pos.y - self.speed),\n",
                "                  'left' : Coordinate(self.pos.x - self.speed, self.pos.y),\n",
                "                  'right' : Coordinate(self.pos.x + self.speed, self.pos.y)}\n",
                "        self._pos = update[direction]\n",
                "\n",
                "        \n",
                "    def tell_name(self):\n",
                "        print(f\"My name is {self.name}\")\n"
            ]
        },
        {
            "cell_type": "markdown",
            "metadata": {
                "nbgrader": {
                    "grade": false,
                    "locked": true,
                    "solution": false
                },
                "editable": false,
                "deletable": false
            },
            "source": [
                "Now fill in the class definition for `TurtleWorld`. You may want to look into the test cases in the following cell to make sure you define the class properly."
            ]
        },
        {
            "cell_type": "code",
            "execution_count": 8,
            "metadata": {
                "collapsed": true
            },
            "outputs": [],
            "source": [
                "class TurtleWorld:\n",
                "    \n",
                "    def __init__(self):\n",
                "        self.turtles = {}\n",
                "        \n",
                "    def add_turtle(self, name, speed):\n",
                "        ###\n",
                "        ### YOUR CODE HERE\n",
                "        ###\n",
                "        pass\n",
                "        \n",
                "    def remove_turtle(self, name):\n",
                "        ###\n",
                "        ### YOUR CODE HERE\n",
                "        ###\n",
                "        pass\n",
                "        \n",
                "    def list_turtles(self):\n",
                "        ###\n",
                "        ### YOUR CODE HERE\n",
                "        ###\n",
                "        pass"
            ]
        },
        {
            "cell_type": "code",
            "execution_count": 9,
            "metadata": {
                "collapsed": true,
                "nbgrader": {
                    "grade": true,
                    "grade_id": "hw21",
                    "locked": true,
                    "points": "1",
                    "solution": false
                },
                "editable": false,
                "deletable": false
            },
            "outputs": [],
            "source": [
                "world = TurtleWorld()\n",
                "world.add_turtle('t1', 1)\n",
                "assert world.list_turtles() == ['t1']\n",
                "\n",
                "world.add_turtle('t2', 2)\n",
                "assert world.list_turtles() == ['t1', 't2']\n",
                "\n",
                "world.add_turtle('abc', 3)\n",
                "assert world.list_turtles() == ['abc', 't1', 't2']\n",
                "\n",
                "world.remove_turtle('t2')\n",
                "assert world.list_turtles() == ['abc', 't1']\n",
                "\n",
                "world.remove_turtle('abc')\n",
                "assert world.list_turtles() == ['t1']"
            ]
        },
        {
            "cell_type": "code",
            "execution_count": 10,
            "metadata": {
                "nbgrader": {
                    "grade": true,
                    "grade_id": "hw22",
                    "locked": true,
                    "points": "1",
                    "solution": false
                },
                "editable": false,
                "deletable": false
            },
            "outputs": [],
            "source": [
                "###\n",
                "### AUTOGRADER TEST - DO NOT REMOVE\n",
                "###\n"
            ]
        },
        {
            "cell_type": "markdown",
            "metadata": {
                "nbgrader": {
                    "grade": false,
                    "locked": true,
                    "solution": false
                },
                "editable": false,
                "deletable": false
            },
            "source": [
                "**HW3.** Modify the class `TurtleWorld` to add the following method:\n",
                "- `move_turtle(name, movement)` which is to move the turtle with the specified name with a given input `movement`. The argument `movement` is a string containing letters: `l` for left, `r` for right, `u` for up, and `d` for down. The movement should be based on the speed. This means that if the turtle has speed of 2 and the `movement` argument is `uulrdd`, the turtle should move up four units, move left two units, move right two units and move down four units."
            ]
        },
        {
            "cell_type": "code",
            "execution_count": 11,
            "metadata": {
                "collapsed": true
            },
            "outputs": [],
            "source": [
                "class TurtleWorld:\n",
                "    valid_movements = set('udlr')\n",
                "    movement_map = {'u': 'up', 'd': 'down', 'l': 'left', 'r': 'right'}\n",
                "    \n",
                "    def __init__(self):\n",
                "        self.turtles = {}\n",
                "        \n",
                "    def move_turtle(self, name, movement):\n",
                "        ###\n",
                "        ### YOUR CODE HERE\n",
                "        ###\n",
                "        pass\n",
                "    \n",
                "    def add_turtle(self, name, speed):\n",
                "        ###\n",
                "        ### YOUR CODE HERE\n",
                "        ###\n",
                "        pass\n",
                "        \n",
                "    def remove_turtle(self, name):\n",
                "        ###\n",
                "        ### YOUR CODE HERE\n",
                "        ###\n",
                "        pass\n",
                "        \n",
                "    def list_turtles(self):\n",
                "        ###\n",
                "        ### YOUR CODE HERE\n",
                "        ###\n",
                "        pass"
            ]
        },
        {
            "cell_type": "code",
            "execution_count": 12,
            "metadata": {
                "collapsed": true,
                "nbgrader": {
                    "grade": true,
                    "grade_id": "hw31",
                    "locked": true,
                    "points": "1",
                    "solution": false
                },
                "editable": false,
                "deletable": false
            },
            "outputs": [],
            "source": [
                "world = TurtleWorld()\n",
                "world.add_turtle('abc', 1)\n",
                "world.move_turtle('abc', 'uu')\n",
                "assert str(world.turtles['abc'].pos) == '(0, 2)'\n",
                "\n",
                "world.move_turtle('abc', 'rrr')\n",
                "assert str(world.turtles['abc'].pos) == '(3, 2)'\n",
                "\n",
                "world.move_turtle('abc', 'd')\n",
                "assert str(world.turtles['abc'].pos) == '(3, 1)'\n",
                "\n",
                "world.move_turtle('abc', 'llll')\n",
                "assert str(world.turtles['abc'].pos) == '(-1, 1)'\n",
                "\n",
                "world.add_turtle('t1', 2)\n",
                "world.move_turtle('t1', 'uulrdd')\n",
                "assert str(world.turtles['t1'].pos) == '(0, 0)'\n",
                "\n",
                "world.move_turtle('t1', 'ururur')\n",
                "assert str(world.turtles['t1'].pos) == '(6, 6)'\n",
                "\n",
                "\n"
            ]
        },
        {
            "cell_type": "code",
            "execution_count": 13,
            "metadata": {
                "nbgrader": {
                    "grade": true,
                    "grade_id": "hw32",
                    "locked": true,
                    "points": "1",
                    "solution": false
                },
                "editable": false,
                "deletable": false
            },
            "outputs": [],
            "source": [
                "###\n",
                "### AUTOGRADER TEST - DO NOT REMOVE\n",
                "###\n"
            ]
        },
        {
            "cell_type": "markdown",
            "metadata": {
                "nbgrader": {
                    "grade": false,
                    "locked": true,
                    "solution": false
                },
                "editable": false,
                "deletable": false
            },
            "source": [
                "**HW4.** Modify the class `TurtleWorld` to include the following method:\n",
                "- `add_movement(turtle, movement)` which adds turtle movement to a queue to be run later. The argument `turtle` is a string containing the turtle's name. The argument `movement` is another string for the movement. For example, value for `turtle` can be something like `'t1'` while the value for the `movement` can be something like `'uullrrdd'`.\n",
                "- `run()` which executes all the movements in the queue."
            ]
        },
        {
            "cell_type": "code",
            "execution_count": 14,
            "metadata": {
                "collapsed": true
            },
            "outputs": [],
            "source": [
                "class TurtleWorld:\n",
                "    valid_movements = set('udlr')\n",
                "    movement_map = {'u': 'up', 'd': 'down', 'l': 'left', 'r': 'right'}\n",
                "    \n",
                "    def __init__(self):\n",
                "        self.turtles = {}\n",
                "        # add a code to create a Queue for the movement\n",
                "        ###\n",
                "        ### YOUR CODE HERE\n",
                "        ###\n",
                "        \n",
                "    def add_movement(self, turtle, movement):\n",
                "        ###\n",
                "        ### YOUR CODE HERE\n",
                "        ###\n",
                "        pass\n",
                "    \n",
                "    def run(self):\n",
                "        ###\n",
                "        ### YOUR CODE HERE\n",
                "        ###\n",
                "        pass\n",
                "        \n",
                "    def move_turtle(self, name, movement):\n",
                "        ###\n",
                "        ### YOUR CODE HERE\n",
                "        ###\n",
                "        pass\n",
                "    \n",
                "    def add_turtle(self, name, speed):\n",
                "        ###\n",
                "        ### YOUR CODE HERE\n",
                "        ###\n",
                "        pass\n",
                "        \n",
                "    def remove_turtle(self, name):\n",
                "        ###\n",
                "        ### YOUR CODE HERE\n",
                "        ###\n",
                "        pass\n",
                "        \n",
                "    def list_turtles(self):\n",
                "        ###\n",
                "        ### YOUR CODE HERE\n",
                "        ###\n",
                "        pass"
            ]
        },
        {
            "cell_type": "code",
            "execution_count": 15,
            "metadata": {
                "collapsed": true,
                "nbgrader": {
                    "grade": true,
                    "grade_id": "hw41",
                    "locked": true,
                    "points": "1",
                    "solution": false
                },
                "editable": false,
                "deletable": false
            },
            "outputs": [],
            "source": [
                "world = TurtleWorld()\n",
                "world.add_turtle('t1', 1)\n",
                "world.add_turtle('t2', 2)\n",
                "world.add_movement('t1', 'ur')\n",
                "world.add_movement('t2', 'ur')\n",
                "assert str(world.turtles['t1'].pos) == '(0, 0)'\n",
                "assert str(world.turtles['t2'].pos) == '(0, 0)'\n",
                "\n",
                "world.run()\n",
                "assert str(world.turtles['t1'].pos) == '(1, 1)'\n",
                "assert str(world.turtles['t2'].pos) == '(2, 2)'\n",
                "\n",
                "world.run()\n",
                "assert str(world.turtles['t1'].pos) == '(1, 1)'\n",
                "assert str(world.turtles['t2'].pos) == '(2, 2)'\n",
                "\n"
            ]
        },
        {
            "cell_type": "code",
            "execution_count": 16,
            "metadata": {
                "nbgrader": {
                    "grade": true,
                    "grade_id": "hw42",
                    "locked": true,
                    "points": "1",
                    "solution": false
                },
                "editable": false,
                "deletable": false
            },
            "outputs": [],
            "source": [
                "###\n",
                "### AUTOGRADER TEST - DO NOT REMOVE\n",
                "###\n"
            ]
        },
        {
            "cell_type": "markdown",
            "metadata": {
                "colab_type": "text",
                "id": "ALOwwLOYkUhb",
                "nbgrader": {
                    "grade": false,
                    "locked": true,
                    "solution": false
                },
                "editable": false,
                "deletable": false
            },
            "source": [
                "**HW5.** Implement a radix sorting machine. A radix sort for base 10 integers is a *mechanical* sorting technique that utilizes a collection of bins:\n",
                "- one main bin \n",
                "- 10 digit-bins\n",
                "\n",
                "Each bin acts like a *queue* and maintains its values in the order that they arrive. The algorithm works as follows:\n",
                "- it begins by placing each number in the main bin. \n",
                "- Then it considers each value digit by digit. The first value is removed from the main bin and placed in a digit-bin corresponding to the digit being considered. For example, if the ones digit is being considered, 534 will be placed into digit-bin 4 and 667 will placed into digit-bin 7. \n",
                "- Once all the values are placed into their corresponding digit-bins, the values are collected from bin 0 to bin 9 and placed back in the main bin (in that order). \n",
                "- The process continues with the tens digit, the hundreds, and so on. \n",
                "- After the last digit is processed, the main bin will contain the values in ascending order.\n",
                "\n",
                "Create a class `RadixSort` that takes in a List of Integers during object instantiation. The class should have the following properties:\n",
                "- `items`: is a List of Integers containing the numbers.\n",
                "\n",
                "It should also have the following methods:\n",
                "- `sort()`: which returns the sorted numbers from `items` as an `list` of Integers.\n",
                "- `max_digit()`: which returns the maximum number of digits of all the numbers in `items`. For example, if the numbers are 101, 3, 1041, this method returns 4 as the result since the maximum digit is four from 1041. \n",
                "- `convert_to_str(items)`: which returns items as a list of Strings (instead of Integers). This function should pad the higher digits with 0 when converting an Integer to a String. For example if the maximum digit is 4, the following items are converted as follows. From `[101, 3, 1041]` to `[\"0101\", \"0003\", \"1041\"]`.\n",
                "\n",
                "Hint: Your implementation should make use of the generic `Queue` class, which you created, for the bins."
            ]
        },
        {
            "cell_type": "code",
            "execution_count": 17,
            "metadata": {
                "colab": [],
                "colab_type": "code",
                "collapsed": true,
                "id": "B66m4t_2kWQ0"
            },
            "outputs": [],
            "source": [
                "class RadixSort:\n",
                "    \n",
                "    def __init__(self, MyList):\n",
                "        self.items = MyList\n",
                "    \n",
                "    def max_digit(self):\n",
                "        ###\n",
                "        ### YOUR CODE HERE\n",
                "        ###\n",
                "        pass\n",
                "    \n",
                "    def convert_to_str(self, items):\n",
                "        ###\n",
                "        ### YOUR CODE HERE\n",
                "        ###\n",
                "        pass\n",
                "    \n",
                "    def sort(self):\n",
                "        ###\n",
                "        ### YOUR CODE HERE\n",
                "        ###\n",
                "        pass"
            ]
        },
        {
            "cell_type": "code",
            "execution_count": 18,
            "metadata": {
                "colab": {
                    "base_uri": "https:\/\/localhost:8080\/",
                    "height": 34
                },
                "colab_type": "code",
                "id": "8C5A76lyLHPE",
                "nbgrader": {
                    "grade": true,
                    "grade_id": "hw51",
                    "locked": true,
                    "points": "1",
                    "solution": false
                },
                "outputId": "8fce9471-ccb5-4b5a-dd6b-037c548b3afd",
                "editable": false,
                "deletable": false
            },
            "outputs": [],
            "source": [
                "list1 = RadixSort([101, 3, 1041])\n",
                "assert list1.items == [101,3,1041]\n",
                "assert list1.max_digit() == 4\n",
                "assert list1.convert_to_str(list1.items) == [\"0101\", \"0003\", \"1041\"]\n",
                "ans = list1.sort()\n",
                "print(ans)\n",
                "assert ans == [3, 101, 1041]\n",
                "list2 = RadixSort([23, 1038, 8, 423, 10, 39, 3901])\n",
                "assert list2.sort() == [8, 10, 23, 39, 423, 1038, 3901]"
            ]
        },
        {
            "cell_type": "code",
            "execution_count": 19,
            "metadata": {
                "nbgrader": {
                    "grade": true,
                    "grade_id": "hw52",
                    "locked": true,
                    "points": "1",
                    "solution": false
                },
                "editable": false,
                "deletable": false
            },
            "outputs": [],
            "source": [
                "###\n",
                "### AUTOGRADER TEST - DO NOT REMOVE\n",
                "###\n"
            ]
        }
    ],
    "metadata": {
        "kernelspec": {
            "display_name": "Python 3 [3.7]",
            "language": "python",
            "name": "python3"
        },
        "language_info": {
            "codemirror_mode": {
                "name": "ipython",
                "version": 3
            },
            "file_extension": ".py",
            "mimetype": "text\/x-python",
            "name": "python",
            "nbconvert_exporter": "python",
            "pygments_lexer": "ipython3",
            "version": "3.7.5"
        },
        "vscode": {
            "interpreter": {
                "hash": "ac37b77c3c0f43e60bec193f0626743b91dd65d8d4aeca5713e457ab7e777e4c"
            }
        }
    },
    "nbformat": 4,
    "nbformat_minor": 4
}