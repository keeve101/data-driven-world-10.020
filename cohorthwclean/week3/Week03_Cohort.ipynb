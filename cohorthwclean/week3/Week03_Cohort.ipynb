{
    "cells": [
        {
            "cell_type": "code",
            "execution_count": 1,
            "metadata": {
                "collapsed": true,
                "nbgrader": {
                    "grade": false,
                    "locked": true,
                    "solution": false
                },
                "editable": false,
                "deletable": false
            },
            "outputs": [],
            "source": [
                "### Grading script code \n",
                "### You don't need to read this, proceed to the next cell\n",
                "import sys\n",
                "import functools\n",
                "ipython = get_ipython()\n",
                "\n",
                "def set_traceback(val):\n",
                "    method_name = \"showtraceback\"\n",
                "    setattr(\n",
                "        ipython,\n",
                "        method_name,\n",
                "        functools.partial(\n",
                "            getattr(ipython, method_name),\n",
                "            exception_only=(not val)\n",
                "        )\n",
                "    )\n",
                "\n",
                "class AnswerError(Exception):\n",
                "  def __init__(self, message):\n",
                "    pass\n",
                "\n",
                "def exec_test(f, question):\n",
                "    try:\n",
                "        f()\n",
                "        print(question + \" Pass\")\n",
                "    except:\n",
                "        set_traceback(False) # do not remove\n",
                "        raise AnswerError(question + \" Fail\")"
            ]
        },
        {
            "cell_type": "markdown",
            "metadata": {
                "colab_type": "text",
                "id": "5UB5OHFfqSOs",
                "nbgrader": {
                    "grade": false,
                    "locked": true,
                    "solution": false
                },
                "editable": false,
                "deletable": false
            },
            "source": [
                "# Week 3 Problem Set\n",
                "\n",
                "## Cohort Sessions\n",
                "\n",
                "**CS1.** You have implemented factorial using iteration in Problem Set 1. Now, implement the factorial problem using a recursion. The function should takes in an Integer input and returns and Integer output which is the factorial of the input. Recall that:\n",
                "\n",
                "$n! = n \\times (n-1) \\times (n-2) \\times \\ldots \\times 2 \\times 1$\n",
                "\n",
                "You should consider the case when $n$ is zero and one as well. "
            ]
        },
        {
            "cell_type": "code",
            "execution_count": 2,
            "metadata": {
                "colab": [],
                "colab_type": "code",
                "collapsed": true,
                "id": "sHaonVRkq7AF"
            },
            "outputs": [],
            "source": [
                "# recursion\n",
                "def factorial_recursion(n):\n",
                "    ###\n",
                "    ### YOUR CODE HERE\n",
                "    ###\n",
                "    pass"
            ]
        },
        {
            "cell_type": "code",
            "execution_count": 3,
            "metadata": {
                "collapsed": true,
                "nbgrader": {
                    "grade": true,
                    "grade_id": "cs11",
                    "locked": true,
                    "points": "1",
                    "solution": false
                },
                "editable": false,
                "deletable": false
            },
            "outputs": [],
            "source": [
                "assert factorial_recursion(0) == 1\n",
                "assert factorial_recursion(1) == 1\n",
                "assert factorial_recursion(5) == 120\n",
                "assert factorial_recursion(7) == 5040\n",
                "assert factorial_recursion(11) == 39916800"
            ]
        },
        {
            "cell_type": "code",
            "execution_count": 4,
            "metadata": {
                "nbgrader": {
                    "grade": true,
                    "grade_id": "cs12",
                    "locked": true,
                    "points": "1",
                    "solution": false
                },
                "editable": false,
                "deletable": false
            },
            "outputs": [],
            "source": [
                "###\n",
                "### AUTOGRADER TEST - DO NOT REMOVE\n",
                "###\n"
            ]
        },
        {
            "cell_type": "markdown",
            "metadata": {
                "colab_type": "text",
                "id": "BC_u9lsArNJN",
                "nbgrader": {
                    "grade": false,
                    "locked": true,
                    "solution": false
                },
                "editable": false,
                "deletable": false
            },
            "source": [
                "**CS2.** *Helper Function:* Write a function `palindrome(s)`to check if the string `s` is a [Palindrome](https:\/\/en.wikipedia.org\/wiki\/Palindrome). To do this, write another function `is_palindrome(s, left, right)` where `left` and `right` are indices from the left and from the right to check the character in `str`. Use recursion instead of iteration in this problem.\n"
            ]
        },
        {
            "cell_type": "code",
            "execution_count": 5,
            "metadata": {
                "colab": [],
                "colab_type": "code",
                "collapsed": true,
                "id": "rm_5U8O8rhEh"
            },
            "outputs": [],
            "source": [
                "def palindrome(s):\n",
                "    ###\n",
                "    ### YOUR CODE HERE\n",
                "    ###\n",
                "    pass\n",
                "\n",
                "def is_palindrome(s, left, right):\n",
                "    ###\n",
                "    ### YOUR CODE HERE\n",
                "    ###\n",
                "    pass"
            ]
        },
        {
            "cell_type": "code",
            "execution_count": 6,
            "metadata": {
                "collapsed": true,
                "nbgrader": {
                    "grade": true,
                    "grade_id": "cs21",
                    "locked": true,
                    "points": "1",
                    "solution": false
                },
                "editable": false,
                "deletable": false
            },
            "outputs": [],
            "source": [
                "assert not palindrome(\"moon\") \n",
                "assert palindrome(\"noon\") \n",
                "assert palindrome(\"a a\") \n",
                "assert palindrome(\"ada\") \n",
                "assert not palindrome(\"ad a\") "
            ]
        },
        {
            "cell_type": "code",
            "execution_count": 7,
            "metadata": {
                "nbgrader": {
                    "grade": true,
                    "grade_id": "cs22",
                    "locked": true,
                    "points": "1",
                    "solution": false
                },
                "editable": false,
                "deletable": false
            },
            "outputs": [],
            "source": [
                "###\n",
                "### AUTOGRADER TEST - DO NOT REMOVE\n",
                "###\n"
            ]
        },
        {
            "cell_type": "markdown",
            "metadata": {
                "colab_type": "text",
                "id": "aodn2sO1sNkc",
                "nbgrader": {
                    "grade": false,
                    "locked": true,
                    "solution": false
                },
                "editable": false,
                "deletable": false
            },
            "source": [
                "**CS3.** *Towers of Hanoi:* Write a function `move_disks(n, from_tower, to_tower, aux_tower)` which returns an array of String for the movement of disks that solves the [Towers of Hanoi problem](https:\/\/en.wikipedia.org\/wiki\/Tower_of_Hanoi). \n",
                "* The first argument `n` is an Integer input that gives information on the number of disk. \n",
                "* The second argument `from_tower` is a String which is the label of the origin tower.\n",
                "* The third argument `to_tower` is a String which is the label of the destination tower.\n",
                "* The last argument `aux_tower` is a String which is the label of the auxilary tower.\n"
            ]
        },
        {
            "cell_type": "code",
            "execution_count": 8,
            "metadata": {
                "colab": {
                    "base_uri": "https:\/\/localhost:8080\/",
                    "height": 71
                },
                "colab_type": "code",
                "collapsed": true,
                "executionInfo": {
                    "elapsed": 793,
                    "status": "ok",
                    "timestamp": 1573110840424,
                    "user": {
                        "displayName": "Oka Kurniawan",
                        "photoUrl": "https:\/\/lh3.googleusercontent.com\/a-\/AAuE7mAnRP7A15yGfrraUO-0BiNVbNmYjI2f9jaZikjr=s64",
                        "userId": "05233922875329103764"
                    },
                    "user_tz": -480
                },
                "id": "3ZAskdmWsbBz",
                "outputId": "03172fec-5225-46c2-92be-39a9016212ee"
            },
            "outputs": [],
            "source": [
                "def move_disks(n, from_tower, to_tower, aux_tower):\n",
                "    result = []\n",
                "    ###\n",
                "    ### YOUR CODE HERE\n",
                "    ###\n",
                "    return result"
            ]
        },
        {
            "cell_type": "code",
            "execution_count": 9,
            "metadata": {
                "nbgrader": {
                    "grade": true,
                    "grade_id": "cs31",
                    "locked": true,
                    "points": "1",
                    "solution": false
                },
                "editable": false,
                "deletable": false
            },
            "outputs": [],
            "source": [
                "result = move_disks(3, \"A\", \"B\", \"C\")\n",
                "print(result)\n",
                "assert result == [\"Move disk 1 from A to B.\", \"Move disk 2 from A to C.\", \"Move disk 1 from B to C.\", \"Move disk 3 from A to B.\", \"Move disk 1 from C to A.\", \"Move disk 2 from C to B.\", \"Move disk 1 from A to B.\"]\n",
                "\n",
                "result = move_disks(4, \"A\", \"B\", \"C\")\n",
                "print(result)\n",
                "assert result == [\"Move disk 1 from A to C.\", \"Move disk 2 from A to B.\", \"Move disk 1 from C to B.\", \"Move disk 3 from A to C.\", \"Move disk 1 from B to A.\", \"Move disk 2 from B to C.\", \"Move disk 1 from A to C.\", \"Move disk 4 from A to B.\", \"Move disk 1 from C to B.\", \"Move disk 2 from C to A.\", \"Move disk 1 from B to A.\", \"Move disk 3 from C to B.\", \"Move disk 1 from A to C.\", \"Move disk 2 from A to B.\", \"Move disk 1 from C to B.\"]\n"
            ]
        },
        {
            "cell_type": "code",
            "execution_count": 10,
            "metadata": {
                "nbgrader": {
                    "grade": true,
                    "grade_id": "cs32",
                    "locked": true,
                    "points": "1",
                    "solution": false
                },
                "editable": false,
                "deletable": false
            },
            "outputs": [],
            "source": [
                "###\n",
                "### AUTOGRADER TEST - DO NOT REMOVE\n",
                "###\n"
            ]
        },
        {
            "cell_type": "markdown",
            "metadata": {
                "colab_type": "text",
                "id": "8YmeNBxwtpXy",
                "nbgrader": {
                    "grade": false,
                    "locked": true,
                    "solution": false
                },
                "editable": false,
                "deletable": false
            },
            "source": [
                "**CS4.** *Merge Sort:* Write functions to implement the Merge Sort algorithm. The first function `mergesort(array)` should takes in an array of Integers in `array`. The function should sort the array in place. The second function `merge(array, p, q, r)` should implements the merge procedure. This function takes in an array of Integers in. `array`, the starting index for the left array `p`, the ending index for the left array `q`, and the ending index for the right array `r`. You can use a helper function for your recursion if needed."
            ]
        },
        {
            "cell_type": "code",
            "execution_count": 11,
            "metadata": {
                "colab": [],
                "colab_type": "code",
                "collapsed": true,
                "id": "ErKPh0vsuJrZ"
            },
            "outputs": [],
            "source": [
                "def merge(array, p, q, r):\n",
                "    ###\n",
                "    ### YOUR CODE HERE\n",
                "    ###\n",
                "    pass\n",
                "\n",
                "def mergesort_recursive(array, p, r):\n",
                "    ###\n",
                "    ### YOUR CODE HERE\n",
                "    ###\n",
                "    pass\n",
                "\n",
                "def mergesort(array):\n",
                "    ###\n",
                "    ### YOUR CODE HERE\n",
                "    ###\n",
                "    pass"
            ]
        },
        {
            "cell_type": "code",
            "execution_count": 12,
            "metadata": {
                "collapsed": true,
                "nbgrader": {
                    "grade": true,
                    "grade_id": "cs41",
                    "locked": true,
                    "points": "1",
                    "solution": false
                },
                "editable": false,
                "deletable": false
            },
            "outputs": [],
            "source": [
                "input_array = [5, 2, 4, 7, 1, 3, 2, 6]\n",
                "mergesort(input_array)\n",
                "assert input_array == [1, 2, 2, 3, 4, 5, 6, 7]"
            ]
        },
        {
            "cell_type": "code",
            "execution_count": 13,
            "metadata": {
                "nbgrader": {
                    "grade": true,
                    "grade_id": "cs42",
                    "locked": true,
                    "points": "1",
                    "solution": false
                },
                "editable": false,
                "deletable": false
            },
            "outputs": [],
            "source": [
                "###\n",
                "### AUTOGRADER TEST - DO NOT REMOVE\n",
                "###\n"
            ]
        }
    ],
    "metadata": {
        "colab": {
            "collapsed_sections": [],
            "name": "Week03_ProblemSet.ipynb",
            "provenance": []
        },
        "kernelspec": {
            "display_name": "Python 3 [3.7]",
            "language": "python",
            "name": "python3"
        },
        "language_info": {
            "codemirror_mode": {
                "name": "ipython",
                "version": 3
            },
            "file_extension": ".py",
            "mimetype": "text\/x-python",
            "name": "python",
            "nbconvert_exporter": "python",
            "pygments_lexer": "ipython3",
            "version": "3.7.5"
        },
        "vscode": {
            "interpreter": {
                "hash": "ac37b77c3c0f43e60bec193f0626743b91dd65d8d4aeca5713e457ab7e777e4c"
            }
        }
    },
    "nbformat": 4,
    "nbformat_minor": 4
}