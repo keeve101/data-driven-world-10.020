{
    "cells": [
        {
            "cell_type": "code",
            "execution_count": 1,
            "metadata": {
                "collapsed": true,
                "nbgrader": {
                    "grade": false,
                    "locked": true,
                    "solution": false
                },
                "editable": false,
                "deletable": false
            },
            "outputs": [],
            "source": [
                "### Grading script code \n",
                "### You don't need to read this, proceed to the next cell\n",
                "import sys\n",
                "import functools\n",
                "ipython = get_ipython()\n",
                "\n",
                "def set_traceback(val):\n",
                "    method_name = \"showtraceback\"\n",
                "    setattr(\n",
                "        ipython,\n",
                "        method_name,\n",
                "        functools.partial(\n",
                "            getattr(ipython, method_name),\n",
                "            exception_only=(not val)\n",
                "        )\n",
                "    )\n",
                "\n",
                "class AnswerError(Exception):\n",
                "  def __init__(self, message):\n",
                "    pass\n",
                "\n",
                "def exec_test(f, question):\n",
                "    try:\n",
                "        f()\n",
                "        print(question + \" Pass\")\n",
                "    except:\n",
                "        set_traceback(False) # do not remove\n",
                "        raise AnswerError(question + \" Fail\")"
            ]
        },
        {
            "cell_type": "markdown",
            "metadata": {
                "colab_type": "text",
                "id": "oCdtJC3PKakd",
                "nbgrader": {
                    "grade": false,
                    "locked": true,
                    "solution": false
                },
                "editable": false,
                "deletable": false
            },
            "source": [
                "# Week 2 Problem Set\n",
                "\n",
                "## Cohort Sessions\n",
                "\n",
                "**CS1.** *Binary Heap:* Write the following functions:\n",
                "\n",
                "\n",
                "\n",
                "- `parent_of(index)`: returns the index of node's parent\n",
                "- `left_of(index)`: returns the index of node's left child\n",
                "- `right_of(index)`: returns the index of node's right child\n",
                "- `max_child(array, index, heap_size)`: returns the index of node's largest child. You can assume that the node has at least one child.\n",
                "\n",
                "Hint: \n",
                "- `index` starts from 0. \n",
                "- You can refer to the pseudocode in [Binary Heap and Heapsort](https:\/\/github.com\/Data-Driven-World\/d2w_notes\/blob\/master\/BinaryHeap_Heapsort.ipynb).\n",
                "- When finding the index of the largest child, consider the following cases:\n",
                "    1. when the node only has one child\n",
                "    2. when the node has two children\n"
            ]
        },
        {
            "cell_type": "code",
            "execution_count": 2,
            "metadata": {
                "colab": [],
                "colab_type": "code",
                "collapsed": true,
                "id": "45Oxk-5GKdT5"
            },
            "outputs": [],
            "source": [
                "def parent_of(index):\n",
                "    ###\n",
                "    ### YOUR CODE HERE\n",
                "    ###\n",
                "    pass"
            ]
        },
        {
            "cell_type": "code",
            "execution_count": 3,
            "metadata": {
                "collapsed": true,
                "nbgrader": {
                    "grade": true,
                    "grade_id": "cs11",
                    "locked": true,
                    "points": "1",
                    "solution": false
                },
                "editable": false,
                "deletable": false
            },
            "outputs": [],
            "source": [
                "assert parent_of(1) == 0 \n",
                "assert parent_of(2) == 0\n",
                "assert parent_of(5) == 2\n",
                "assert parent_of(6) == 2"
            ]
        },
        {
            "cell_type": "code",
            "execution_count": 4,
            "metadata": {
                "nbgrader": {
                    "grade": true,
                    "grade_id": "cs12",
                    "locked": true,
                    "points": "1",
                    "solution": false
                },
                "editable": false,
                "deletable": false
            },
            "outputs": [],
            "source": [
                "###\n",
                "### AUTOGRADER TEST - DO NOT REMOVE\n",
                "###\n"
            ]
        },
        {
            "cell_type": "code",
            "execution_count": 5,
            "metadata": {
                "colab": [],
                "colab_type": "code",
                "collapsed": true,
                "id": "5n2IO8IiKZzk"
            },
            "outputs": [],
            "source": [
                "def left_of(index):\n",
                "    ###\n",
                "    ### YOUR CODE HERE\n",
                "    ###\n",
                "    pass"
            ]
        },
        {
            "cell_type": "code",
            "execution_count": 6,
            "metadata": {
                "collapsed": true,
                "nbgrader": {
                    "grade": true,
                    "grade_id": "cs13",
                    "locked": true,
                    "points": "1",
                    "solution": false
                },
                "editable": false,
                "deletable": false
            },
            "outputs": [],
            "source": [
                "assert left_of(0) == 1\n",
                "assert left_of(1) == 3\n",
                "assert left_of(3) == 7\n",
                "assert left_of(6) == 13"
            ]
        },
        {
            "cell_type": "code",
            "execution_count": 7,
            "metadata": {
                "nbgrader": {
                    "grade": true,
                    "grade_id": "cs14",
                    "locked": true,
                    "points": "1",
                    "solution": false
                },
                "editable": false,
                "deletable": false
            },
            "outputs": [],
            "source": [
                "###\n",
                "### AUTOGRADER TEST - DO NOT REMOVE\n",
                "###\n"
            ]
        },
        {
            "cell_type": "code",
            "execution_count": 8,
            "metadata": {
                "colab": [],
                "colab_type": "code",
                "collapsed": true,
                "id": "_y6Batr7LEo-"
            },
            "outputs": [],
            "source": [
                "def right_of(index):\n",
                "    ###\n",
                "    ### YOUR CODE HERE\n",
                "    ###\n",
                "    pass"
            ]
        },
        {
            "cell_type": "code",
            "execution_count": 9,
            "metadata": {
                "collapsed": true,
                "nbgrader": {
                    "grade": true,
                    "grade_id": "cs15",
                    "locked": true,
                    "points": "1",
                    "solution": false
                },
                "editable": false,
                "deletable": false
            },
            "outputs": [],
            "source": [
                "assert right_of(0) == 2\n",
                "assert right_of(1) == 4\n",
                "assert right_of(3) == 8\n",
                "assert right_of(5) == 12"
            ]
        },
        {
            "cell_type": "code",
            "execution_count": 10,
            "metadata": {
                "nbgrader": {
                    "grade": true,
                    "grade_id": "cs16",
                    "locked": true,
                    "points": "1",
                    "solution": false
                },
                "editable": false,
                "deletable": false
            },
            "outputs": [],
            "source": [
                "###\n",
                "### AUTOGRADER TEST - DO NOT REMOVE\n",
                "###\n"
            ]
        },
        {
            "cell_type": "code",
            "execution_count": 11,
            "metadata": {
                "colab": [],
                "colab_type": "code",
                "collapsed": true,
                "id": "P4wWhKEwLriA"
            },
            "outputs": [],
            "source": [
                "def max_child(array, index, heap_size):\n",
                "    ###\n",
                "    ### YOUR CODE HERE\n",
                "    ###\n",
                "    pass"
            ]
        },
        {
            "cell_type": "code",
            "execution_count": 12,
            "metadata": {
                "collapsed": true,
                "nbgrader": {
                    "grade": true,
                    "grade_id": "cs17",
                    "locked": true,
                    "points": "1",
                    "solution": false
                },
                "editable": false,
                "deletable": false
            },
            "outputs": [],
            "source": [
                "maxheap = [16, 14, 10, 8, 7, 9, 3, 2, 4, 1] \n",
                "assert max_child(maxheap, 0, len(maxheap)) == 1\n",
                "assert max_child(maxheap, 2, len(maxheap)) == 5\n",
                "assert max_child(maxheap, 3, len(maxheap)) == 8\n",
                "assert max_child(maxheap, 1, len(maxheap)) == 3"
            ]
        },
        {
            "cell_type": "code",
            "execution_count": 13,
            "metadata": {
                "nbgrader": {
                    "grade": true,
                    "grade_id": "cs18",
                    "locked": true,
                    "points": "1",
                    "solution": false
                },
                "editable": false,
                "deletable": false
            },
            "outputs": [],
            "source": [
                "###\n",
                "### AUTOGRADER TEST - DO NOT REMOVE\n",
                "###\n"
            ]
        },
        {
            "cell_type": "markdown",
            "metadata": {
                "colab_type": "text",
                "id": "eCUuXY7jMwgp",
                "nbgrader": {
                    "grade": false,
                    "locked": true,
                    "solution": false
                },
                "editable": false,
                "deletable": false
            },
            "source": [
                "**CS2.** *Binary Heap:* Write two functions \n",
                "\n",
                "- `max_heapify(array, index, size)`: that moves the node down so as to satisfy the heap property.  The first argument is the array that contains the heap. The second argument is an integer index where to start the process of heapifying. The third argument is the size of the heap in the array. This argument will be useful in heapsort algorithm where we take out the elements in the array from the heap. \n",
                "\n",
                "Hint: You should make use of `size` argument to determine the last element of the heap in the array rather than `len(array)`.\n",
                "\n",
                "- `build_max_heap(heap)`: that builds the max heap from any array. This function should make use of `max_heapify()` in its definition.\n",
                "\n",
                "Hint: You can refer to the pseudocode in [Binary Heap and Heapsort](https:\/\/github.com\/Data-Driven-World\/d2w_notes\/blob\/master\/BinaryHeap_Heapsort.ipynb) for the above functions."
            ]
        },
        {
            "cell_type": "code",
            "execution_count": 14,
            "metadata": {
                "colab": {
                    "base_uri": "https:\/\/localhost:8080\/",
                    "height": 51
                },
                "colab_type": "code",
                "collapsed": true,
                "executionInfo": {
                    "elapsed": 1663,
                    "status": "ok",
                    "timestamp": 1572852515240,
                    "user": {
                        "displayName": "Oka Kurniawan",
                        "photoUrl": "https:\/\/lh3.googleusercontent.com\/a-\/AAuE7mAnRP7A15yGfrraUO-0BiNVbNmYjI2f9jaZikjr=s64",
                        "userId": "05233922875329103764"
                    },
                    "user_tz": -480
                },
                "id": "pmDYFBKFNEk4",
                "outputId": "141d7f4e-316c-4e89-9829-44f92805ef00"
            },
            "outputs": [],
            "source": [
                "def max_heapify(array, index, size):\n",
                "    ###\n",
                "    ### YOUR CODE HERE\n",
                "    ###\n",
                "    pass"
            ]
        },
        {
            "cell_type": "code",
            "execution_count": 15,
            "metadata": {
                "nbgrader": {
                    "grade": true,
                    "grade_id": "cs21",
                    "locked": true,
                    "points": "1",
                    "solution": false
                },
                "editable": false,
                "deletable": false
            },
            "outputs": [],
            "source": [
                "result = [16, 4, 10, 14, 7, 9, 3, 2, 8, 1]\n",
                "max_heapify(result, 1, len(result))\n",
                "print(result)\n",
                "assert result == [16, 14, 10, 8, 7, 9, 3, 2, 4, 1]"
            ]
        },
        {
            "cell_type": "code",
            "execution_count": 16,
            "metadata": {
                "nbgrader": {
                    "grade": true,
                    "grade_id": "cs22",
                    "locked": true,
                    "points": "1",
                    "solution": false
                },
                "editable": false,
                "deletable": false
            },
            "outputs": [],
            "source": [
                "###\n",
                "### AUTOGRADER TEST - DO NOT REMOVE\n",
                "###\n"
            ]
        },
        {
            "cell_type": "code",
            "execution_count": 17,
            "metadata": {
                "colab": {
                    "base_uri": "https:\/\/localhost:8080\/",
                    "height": 51
                },
                "colab_type": "code",
                "collapsed": true,
                "executionInfo": {
                    "elapsed": 1655,
                    "status": "ok",
                    "timestamp": 1572852515243,
                    "user": {
                        "displayName": "Oka Kurniawan",
                        "photoUrl": "https:\/\/lh3.googleusercontent.com\/a-\/AAuE7mAnRP7A15yGfrraUO-0BiNVbNmYjI2f9jaZikjr=s64",
                        "userId": "05233922875329103764"
                    },
                    "user_tz": -480
                },
                "id": "SXD6E9tQG_3h",
                "outputId": "a8d66d4a-7de6-4c38-bb65-2e9b4f78c8b3"
            },
            "outputs": [],
            "source": [
                "def build_max_heap(array):\n",
                "    ###\n",
                "    ### YOUR CODE HERE\n",
                "    ###\n"
            ]
        },
        {
            "cell_type": "code",
            "execution_count": 18,
            "metadata": {
                "nbgrader": {
                    "grade": true,
                    "grade_id": "cs23",
                    "locked": true,
                    "points": "1",
                    "solution": false
                },
                "editable": false,
                "deletable": false
            },
            "outputs": [],
            "source": [
                "array = [4, 1, 3, 2, 16, 9, 10, 14, 8, 7]\n",
                "\n",
                "build_max_heap(array)\n",
                "print(array)\n",
                "assert array == [16, 14, 10, 8, 7, 9, 3, 2, 4, 1]"
            ]
        },
        {
            "cell_type": "code",
            "execution_count": 19,
            "metadata": {
                "nbgrader": {
                    "grade": true,
                    "grade_id": "cs24",
                    "locked": true,
                    "points": "1",
                    "solution": false
                },
                "editable": false,
                "deletable": false
            },
            "outputs": [],
            "source": [
                "###\n",
                "### AUTOGRADER TEST - DO NOT REMOVE\n",
                "###\n"
            ]
        },
        {
            "cell_type": "markdown",
            "metadata": {
                "colab_type": "text",
                "id": "Q6WtKSrzIIDv",
                "nbgrader": {
                    "grade": false,
                    "locked": true,
                    "solution": false
                },
                "editable": false,
                "deletable": false
            },
            "source": [
                "**CS3.** *Heapsort:* Implement heapsort algorithm following the pseudocode in [Binary Heap and Heapsort](https:\/\/github.com\/Data-Driven-World\/d2w_notes\/blob\/master\/BinaryHeap_Heapsort.ipynb).\n",
                "\n"
            ]
        },
        {
            "cell_type": "code",
            "execution_count": 20,
            "metadata": {
                "colab": {
                    "base_uri": "https:\/\/localhost:8080\/",
                    "height": 34
                },
                "colab_type": "code",
                "collapsed": true,
                "executionInfo": {
                    "elapsed": 1647,
                    "status": "ok",
                    "timestamp": 1572852515243,
                    "user": {
                        "displayName": "Oka Kurniawan",
                        "photoUrl": "https:\/\/lh3.googleusercontent.com\/a-\/AAuE7mAnRP7A15yGfrraUO-0BiNVbNmYjI2f9jaZikjr=s64",
                        "userId": "05233922875329103764"
                    },
                    "user_tz": -480
                },
                "id": "Z1PloAtPIK6h",
                "nbgrader": {
                    "grade": false,
                    "grade_id": "cs31",
                    "locked": false,
                    "points": "1",
                    "solution": false
                },
                "outputId": "6dc4c947-2e94-4d26-ff93-bac9b19c4e0c"
            },
            "outputs": [],
            "source": [
                "def heapsort(array):\n",
                "    ###\n",
                "    ### YOUR CODE HERE\n",
                "    ###\n",
                "    pass"
            ]
        },
        {
            "cell_type": "code",
            "execution_count": 21,
            "metadata": {
                "nbgrader": {
                    "grade": true,
                    "grade_id": "cs31",
                    "locked": true,
                    "points": "1",
                    "solution": false
                },
                "editable": false,
                "deletable": false
            },
            "outputs": [],
            "source": [
                "array = [16, 14, 10, 8, 7, 9, 3, 2, 4, 1]\n",
                "heapsort(array)\n",
                "print(array)\n",
                "assert array == [1, 2, 3, 4, 7, 8, 9, 10, 14, 16]"
            ]
        },
        {
            "cell_type": "code",
            "execution_count": 24,
            "metadata": {
                "nbgrader": {
                    "grade": true,
                    "grade_id": "cs32",
                    "locked": true,
                    "points": "1",
                    "solution": false
                },
                "editable": false,
                "deletable": false
            },
            "outputs": [],
            "source": [
                "###\n",
                "### AUTOGRADER TEST - DO NOT REMOVE\n",
                "###\n"
            ]
        },
        {
            "cell_type": "markdown",
            "metadata": {
                "colab_type": "text",
                "id": "krDN1SASKDsV",
                "nbgrader": {
                    "grade": false,
                    "locked": true,
                    "solution": false
                },
                "editable": false,
                "deletable": false
            },
            "source": [
                "**CS4.** Measure computational time of Python's built-in sort function by filling the template below. Hint: \n",
                "- You will need the function `gen_random_int()` from Week 01 Problem Set.\n",
                "- Use `sorted(list)` function of Python's list See [Python's Sorting HOW TO Documentation](https:\/\/docs.python.org\/3.3\/howto\/sorting.html). "
            ]
        },
        {
            "cell_type": "code",
            "execution_count": 25,
            "metadata": {
                "colab": {
                    "base_uri": "https:\/\/localhost:8080\/",
                    "height": 54
                },
                "colab_type": "code",
                "executionInfo": {
                    "elapsed": 35745,
                    "status": "ok",
                    "timestamp": 1572852549353,
                    "user": {
                        "displayName": "Oka Kurniawan",
                        "photoUrl": "https:\/\/lh3.googleusercontent.com\/a-\/AAuE7mAnRP7A15yGfrraUO-0BiNVbNmYjI2f9jaZikjr=s64",
                        "userId": "05233922875329103764"
                    },
                    "user_tz": -480
                },
                "id": "Vajm-BidKHMh",
                "outputId": "e5a25b8a-ab58-451b-bfa1-06bfe221c752"
            },
            "outputs": [],
            "source": [
                "import time\n",
                "import random\n",
                "\n",
                "def run_function(f, x):\n",
                "    start = time.time()\n",
                "    f(x)\n",
                "    end = time.time()\n",
                "    return end-start\n",
                "\n",
                "def gen_random_int(number, seed):\n",
                "    ###\n",
                "    ### YOUR CODE HERE\n",
                "    ###\n",
                "\n",
                " \n",
                "time_builtin = []\n",
                "# set the maximum power for 10^power number of inputs\n",
                "maxpower = 7\n",
                "\n",
                "for n in range(1, maxpower + 1):\n",
                "    # create array for 10^1, 10^2, etc \n",
                "    # use seed 100\n",
                "    array = None\n",
                "    \n",
                "    # call run_function with sorted() and array as arguments\n",
                "    # result = run_function(None, None) \n",
                "    \n",
                "    ###\n",
                "    ### YOUR CODE HERE\n",
                "    ###\n",
                "    \n",
                "    time_builtin.append(result)\n",
                "\n",
                "\n",
                "print(time_builtin)"
            ]
        }
    ],
    "metadata": {
        "colab": {
            "collapsed_sections": [],
            "name": "Week02_ProblemSet.ipynb",
            "provenance": []
        },
        "kernelspec": {
            "display_name": "Python 3 [3.7]",
            "language": "python",
            "name": "python3"
        },
        "language_info": {
            "codemirror_mode": {
                "name": "ipython",
                "version": 3
            },
            "file_extension": ".py",
            "mimetype": "text\/x-python",
            "name": "python",
            "nbconvert_exporter": "python",
            "pygments_lexer": "ipython3",
            "version": "3.7.5"
        },
        "vscode": {
            "interpreter": {
                "hash": "ac37b77c3c0f43e60bec193f0626743b91dd65d8d4aeca5713e457ab7e777e4c"
            }
        }
    },
    "nbformat": 4,
    "nbformat_minor": 4
}