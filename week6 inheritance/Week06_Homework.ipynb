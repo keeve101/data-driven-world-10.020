{
    "cells": [
        {
            "cell_type": "code",
            "execution_count": 213,
            "metadata": {
                "collapsed": true,
                "deletable": false,
                "editable": false,
                "nbgrader": {
                    "grade": false,
                    "locked": true,
                    "solution": false
                }
            },
            "outputs": [],
            "source": [
                "### Grading script code \n",
                "### You don't need to read this, proceed to the next cell\n",
                "import sys\n",
                "import functools\n",
                "ipython = get_ipython()\n",
                "\n",
                "def set_traceback(val):\n",
                "    method_name = \"showtraceback\"\n",
                "    setattr(\n",
                "        ipython,\n",
                "        method_name,\n",
                "        functools.partial(\n",
                "            getattr(ipython, method_name),\n",
                "            exception_only=(not val)\n",
                "        )\n",
                "    )\n",
                "\n",
                "class AnswerError(Exception):\n",
                "  def __init__(self, message):\n",
                "    pass\n",
                "\n",
                "def exec_test(f, question):\n",
                "    try:\n",
                "        f()\n",
                "        print(question + \" Pass\")\n",
                "    except:\n",
                "        set_traceback(False) # do not remove\n",
                "        raise AnswerError(question + \" Fail\")"
            ]
        },
        {
            "cell_type": "markdown",
            "metadata": {
                "colab_type": "text",
                "deletable": false,
                "editable": false,
                "id": "g0LMv3Q31kfv",
                "nbgrader": {
                    "grade": false,
                    "locked": true,
                    "solution": false
                }
            },
            "source": [
                "# Week 6 Problem Set\n",
                "\n",
                "## Homeworks"
            ]
        },
        {
            "cell_type": "markdown",
            "metadata": {
                "colab_type": "text",
                "deletable": false,
                "editable": false,
                "id": "WKJna8701laN",
                "nbgrader": {
                    "grade": false,
                    "locked": true,
                    "solution": false
                }
            },
            "source": [
                "**HW1.** Extend the class `Fraction` to implement the other operators: `- * < <= > >=`."
            ]
        },
        {
            "cell_type": "code",
            "execution_count": 214,
            "metadata": {
                "colab": [],
                "colab_type": "code",
                "collapsed": true,
                "id": "v9-ULbHV1o7c"
            },
            "outputs": [],
            "source": [
                "def gcd(a, b):\n",
                "    if b == 0:\n",
                "        return a\n",
                "    else:\n",
                "        return gcd(b, a % b)\n",
                "\n",
                "class Fraction:\n",
                "    def __init__(self, num, den):\n",
                "        self.num = num\n",
                "        self.den = den\n",
                "    \n",
                "    @property\n",
                "    def num(self):\n",
                "        return self._num\n",
                "    \n",
                "    @num.setter\n",
                "    def num(self, val):\n",
                "        # if the val is not an integer, do nothing \n",
                "        if type(val) != int:\n",
                "            return\n",
                "        self._num = val\n",
                "    \n",
                "    @property\n",
                "    def den(self):\n",
                "        return self._den\n",
                "    \n",
                "    @den.setter\n",
                "    def den(self, val):\n",
                "        if type(val) != int or val == 0:\n",
                "            self._den = 1\n",
                "            return\n",
                "        self._den = val\n",
                "    \n",
                "    def __str__(self):\n",
                "        return f'{self.num}/{self.den}'\n",
                "    \n",
                "    def simplify(self):\n",
                "        # according to requirements\n",
                "        divisor = gcd(self.num, self.den)\n",
                "        return Fraction(self.num//divisor, self.den//divisor)\n",
                "    \n",
                "    def __add__(self, other):\n",
                "        # it's math\n",
                "        return Fraction( (self.num * other.den + other.num * self.den) , (self.den * other.den) ).simplify()\n",
                "        \n",
                "    def __eq__(self, other):\n",
                "        f1 = self.simplify()\n",
                "        f2 = other.simplify()\n",
                "        return f1.num == f2.num and f1.den == f2.den\n",
                "    \n",
                "    def __sub__(self, other):\n",
                "        return Fraction( (self.num * other.den - other.num * self.den) , (self.den * other.den) ).simplify()\n",
                "    \n",
                "    def __mul__(self, other):\n",
                "        return Fraction( (self.num * other.num) , (self.den * other.den) ).simplify()\n",
                "    \n",
                "    def __lt__(self, other):\n",
                "        return self.num * other.den < other.num * self.den\n",
                "    \n",
                "    def __le__(self, other):\n",
                "        return self.num * other.den <= other.num * self.den\n",
                "    \n",
                "    def __gt__(self, other):\n",
                "        return self.num * other.den > other.num * self.den\n",
                "    \n",
                "    def __ge__(self, other):\n",
                "        return self.num * other.den >= other.num * self.den\n",
                "    \n"
            ]
        },
        {
            "cell_type": "code",
            "execution_count": 215,
            "metadata": {
                "colab": [],
                "colab_type": "code",
                "collapsed": true,
                "deletable": false,
                "editable": false,
                "id": "jXDkET9n4Wfu",
                "nbgrader": {
                    "grade": true,
                    "grade_id": "hw11",
                    "locked": true,
                    "points": "1",
                    "solution": false
                }
            },
            "outputs": [],
            "source": [
                "f1 = Fraction(3, 4)\n",
                "f2 = Fraction(1, 2)\n",
                "f3 = f1 - f2\n",
                "assert f3 == Fraction(1, 4)\n",
                "f4 = f1 * f2\n",
                "assert f4 == Fraction(3, 8)\n",
                "assert f2 < f1\n",
                "assert f2 <= f2\n",
                "assert f1 > f3\n",
                "assert f3 >= f3"
            ]
        },
        {
            "cell_type": "code",
            "execution_count": 216,
            "metadata": {
                "deletable": false,
                "editable": false,
                "nbgrader": {
                    "grade": true,
                    "grade_id": "hw12",
                    "locked": true,
                    "points": "1",
                    "solution": false
                }
            },
            "outputs": [],
            "source": [
                "###\n",
                "### AUTOGRADER TEST - DO NOT REMOVE\n",
                "###\n"
            ]
        },
        {
            "cell_type": "code",
            "execution_count": 217,
            "metadata": {
                "colab": [],
                "colab_type": "code",
                "collapsed": true,
                "id": "pcZ4SJM944CU"
            },
            "outputs": [],
            "source": [
                "class MixedFraction(Fraction):\n",
                "    def __init__(self, top, bot, whole=0):\n",
                "        num = top + whole * bot if whole else top\n",
                "        super().__init__(num, bot)\n",
                "\n",
                "    def get_three_numbers(self):\n",
                "        # math\n",
                "        whole = self.num // self.den\n",
                "        top = self.num % self.den\n",
                "        bot = self.den\n",
                "\n",
                "        return (top, bot, whole)\n",
                "\n",
                "    def __str__(self):\n",
                "        if self.num > self.den:\n",
                "            tup = self.get_three_numbers()\n",
                "            return f\"{tup[-1]} {tup[0]}/{tup[1]}\"\n",
                "            \n",
                "        return f\"{self.num}/{self.den}\""
            ]
        },
        {
            "cell_type": "code",
            "execution_count": 218,
            "metadata": {
                "colab": [],
                "colab_type": "code",
                "collapsed": true,
                "deletable": false,
                "editable": false,
                "id": "-wXfzqpN4rTF",
                "nbgrader": {
                    "grade": true,
                    "grade_id": "hw13",
                    "locked": true,
                    "points": "1",
                    "solution": false
                }
            },
            "outputs": [],
            "source": [
                "mf1 = MixedFraction(5, 3)\n",
                "assert mf1.num == 5 and mf1.den == 3\n",
                "assert mf1.get_three_numbers() == (2, 3, 1)\n",
                "mf2 = MixedFraction(2, 3, 1)\n",
                "assert mf2.num == 5 and mf2.den == 3\n",
                "\n",
                "result = mf1 + mf2\n",
                "assert result.num == 10 and result.den == 3\n",
                "\n",
                "result = mf1 * mf2\n",
                "assert result.num == 25 and result.den == 9\n",
                "\n",
                "mf3 = MixedFraction(1, 2, 1)\n",
                "result = mf1 - mf3\n",
                "assert result.num == 1 and result.den == 6\n",
                "\n",
                "assert str(mf1) == \"1 2/3\""
            ]
        },
        {
            "cell_type": "code",
            "execution_count": 219,
            "metadata": {
                "deletable": false,
                "editable": false,
                "nbgrader": {
                    "grade": true,
                    "grade_id": "hw14",
                    "locked": true,
                    "points": "1",
                    "solution": false
                }
            },
            "outputs": [],
            "source": [
                "###\n",
                "### AUTOGRADER TEST - DO NOT REMOVE\n",
                "###\n"
            ]
        },
        {
            "cell_type": "markdown",
            "metadata": {
                "colab_type": "text",
                "deletable": false,
                "editable": false,
                "id": "OReYTNxv5mY0",
                "nbgrader": {
                    "grade": false,
                    "locked": true,
                    "solution": false
                }
            },
            "source": [
                "**HW2.** Write a class called `EvaluateFraction` that evaluates postfix notation implemented using Dequeue data structures only. Postfix notation is a way of writing expressions without using parenthesis. For example, the expression `(1+2)*3` would be written as `1 2 + 3 *`. The class `EvaluateFraction` has the following method:\n",
                "- `input(inp)`: which pushes the input input one at a time. For example, to create a postfix notation `1 2 + 3 *`, we can call this method repetitively, e.g. `e.input('1'); e.input('2'); e.input('+'); e.input('3'); e.input('*')`. Notice that the input is of String data type. \n",
                "- `evaluate()`: which returns the output of the expression.\n",
                "- `get_fraction(inp)`: which takes in an input string and returns a `Fraction` object. \n",
                "\n",
                "Postfix notation is evaluated using a Stack. Since `Dequeue` can be used for both Stack and Queue, we will implement using `Dequeue`. The input streams from `input()` are stored in a Queue, which we will again implement using Dequeue. If the output of the Queue is a number, the item is pushed into the stack. If it is an operator, we will apply the operator to the two top most item n the stacks and push the result back into the stack. "
            ]
        },
        {
            "cell_type": "code",
            "execution_count": 220,
            "metadata": {
                "collapsed": true
            },
            "outputs": [],
            "source": [
                "class Stack:\n",
                "    def __init__(self):\n",
                "        self.ls = []\n",
                "    def push(self, item):\n",
                "        self.ls.append(item)\n",
                "    def pop(self):\n",
                "        return self.ls.pop()\n",
                "    def peek(self):\n",
                "        return self.ls[-1]\n",
                "\n",
                "    @property\n",
                "    def is_empty(self):\n",
                "        return self.ls == []\n"
            ]
        },
        {
            "cell_type": "code",
            "execution_count": 221,
            "metadata": {
                "collapsed": true
            },
            "outputs": [],
            "source": [
                "class Queue:\n",
                "    def __init__(self):\n",
                "        self.left_stack = Stack()\n",
                "        self.right_stack = Stack()\n",
                "\n",
                "    @property\n",
                "    def is_empty(self):\n",
                "        return self.left_stack.is_empty and self.right_stack.is_empty\n",
                "\n",
                "    @property\n",
                "    def size(self):\n",
                "        return len(self.left_stack.ls) + len(self.right_stack.ls)\n",
                "\n",
                "    def enqueue(self, item):\n",
                "        self.left_stack.push(item)\n",
                "\n",
                "    def dequeue(self):\n",
                "        if self.right_stack.is_empty:\n",
                "            while not self.left_stack.is_empty:\n",
                "                self.right_stack.push(self.left_stack.pop())\n",
                "        return self.right_stack.pop()\n",
                "    \n",
                "    def peek(self):\n",
                "        if self.right_stack.is_empty:\n",
                "            while not self.left_stack.is_empty:\n",
                "                self.right_stack.push(self.left_stack.pop())\n",
                "        return self.right_stack[-1]"
            ]
        },
        {
            "cell_type": "code",
            "execution_count": 222,
            "metadata": {
                "collapsed": true
            },
            "outputs": [],
            "source": [
                "class Deque(Queue):\n",
                "  \n",
                "    def add_front(self, item):\n",
                "        self.right_stack.push(item)\n",
                "      \n",
                "    def remove_front(self):\n",
                "        return self.dequeue()\n",
                "    \n",
                "    def add_rear(self, item):\n",
                "        self.enqueue(item)\n",
                "\n",
                "    def left_to_right(self):\n",
                "        if self.left_stack.is_empty:\n",
                "            return\n",
                "        temp = Stack()\n",
                "\n",
                "        while not self.right_stack.is_empty:\n",
                "            temp.push(self.right_stack.pop())\n",
                "        while not self.left_stack.is_empty:\n",
                "            self.right_stack.push(self.left_stack.pop())\n",
                "        while not temp.is_empty:\n",
                "            self.right_stack.push(temp.pop())\n",
                "        \n",
                "    def remove_rear(self):  \n",
                "        self.left_to_right()\n",
                "        return self.right_stack.ls.pop(0)\n",
                "\n",
                "    def peek_front(self):\n",
                "        self.left_to_right()\n",
                "        return self.right_stack.ls[-1]\n",
                "    \n",
                "    def peek_rear(self):\n",
                "        self.left_to_right()\n",
                "        return self.right_stack.ls[0]"
            ]
        },
        {
            "cell_type": "code",
            "execution_count": 223,
            "metadata": {
                "colab": [],
                "colab_type": "code",
                "collapsed": true,
                "id": "tWgNLbu95zU3"
            },
            "outputs": [],
            "source": [
                "\n",
                "class EvaluateFraction:\n",
                "\n",
                "    operands = \"0123456789\"\n",
                "    operators = \"+-*/\"\n",
                "    operations = {\"+\": lambda x,y: y + x,\n",
                "                  \"-\": lambda x,y: y - x,\n",
                "                  \"*\": lambda x,y: y * x,\n",
                "                  \"/\": lambda x,y: y / x}\n",
                "    \n",
                "    def __init__(self):\n",
                "        self.expression = Deque()\n",
                "        self.stack = Deque()\n",
                "    \n",
                "    def input(self, item):\n",
                "        # if item is not an operator, convert it to fraction\n",
                "        if item not in self.operations:\n",
                "            item = self.get_fraction(item)\n",
                "        # add everything into queue\n",
                "        self.expression.add_rear(item)\n",
                "\n",
                "    def evaluate(self):\n",
                "        while not self.expression.is_empty:\n",
                "            # dequeue from self.expression\n",
                "            item = self.expression.remove_front()\n",
                "            # if item is a string, meaning an operator, \n",
                "            if type(item) == str:\n",
                "                # process the operator, meaning, remove 2 from the top of stack and do process_operator, result is saved into item\n",
                "                item = self.process_operator(self.stack.remove_rear(), self.stack.remove_rear(), item)\n",
                "            # item is added to the stack, it will always be a Fraction added\n",
                "            self.stack.add_rear(item)\n",
                "        # at the end, there should only be one Fraction left in stack, so just remove it \n",
                "        return self.stack.remove_front()\n",
                "\n",
                "    def get_fraction(self, inp):\n",
                "        # this splits the two numbers in e.g \"1/2\" to [1, 2]\n",
                "        num, den = inp.split(\"/\")\n",
                "        return Fraction(int(num), int(den))\n",
                "\n",
                "    def process_operator(self, op1, op2, op):\n",
                "        return self.operations[op](op1, op2)\n"
            ]
        },
        {
            "cell_type": "code",
            "execution_count": 224,
            "metadata": {
                "colab": [],
                "colab_type": "code",
                "collapsed": true,
                "deletable": false,
                "editable": false,
                "id": "yOLzhfsO7maP",
                "nbgrader": {
                    "grade": true,
                    "grade_id": "hw21",
                    "locked": true,
                    "points": "1",
                    "solution": false
                }
            },
            "outputs": [],
            "source": [
                "pe = EvaluateFraction()\n",
                "pe.input(\"1/2\")\n",
                "pe.input(\"2/3\")\n",
                "pe.input(\"+\")\n",
                "assert pe.evaluate()==Fraction(7, 6)\n",
                "\n",
                "pe.input(\"1/2\")\n",
                "pe.input(\"2/3\")\n",
                "pe.input(\"+\")\n",
                "pe.input(\"1/6\")\n",
                "pe.input(\"-\")\n",
                "assert pe.evaluate()==Fraction(1, 1)\n",
                "\n",
                "pe.input(\"1/2\")\n",
                "pe.input(\"2/3\")\n",
                "pe.input(\"+\")\n",
                "pe.input(\"1/6\")\n",
                "pe.input(\"-\")\n",
                "pe.input(\"3/4\")\n",
                "pe.input(\"*\")\n",
                "assert pe.evaluate()==Fraction(3, 4)"
            ]
        },
        {
            "cell_type": "code",
            "execution_count": 225,
            "metadata": {
                "deletable": false,
                "editable": false,
                "nbgrader": {
                    "grade": true,
                    "grade_id": "hw22",
                    "locked": true,
                    "points": "1",
                    "solution": false
                }
            },
            "outputs": [],
            "source": [
                "###\n",
                "### AUTOGRADER TEST - DO NOT REMOVE\n",
                "###\n"
            ]
        },
        {
            "cell_type": "markdown",
            "metadata": {
                "colab_type": "text",
                "deletable": false,
                "editable": false,
                "id": "ZyzyKowpGA6b",
                "nbgrader": {
                    "grade": false,
                    "locked": true,
                    "solution": false
                }
            },
            "source": [
                "**HW3.** Modify HW2 so that it can work with MixedFraction. Write a class called `EvaluateMixedFraction` as a subclass of `EvaluateFraction`. You need to override the following methods:\n",
                "- `get_fraction(inp)`: This function should be able to handle string input for MixedFraction such as `1 1/2` or `3/2`. It should return a `MixedFraction` object.\n",
                "- `evaluate()`: This function should return `MixedFraction` object rather than `Fraction` object. "
            ]
        },
        {
            "cell_type": "code",
            "execution_count": 226,
            "metadata": {
                "colab": [],
                "colab_type": "code",
                "collapsed": true,
                "id": "wkIPjRLoGGph"
            },
            "outputs": [],
            "source": [
                "class EvaluateMixedFraction(EvaluateFraction):\n",
                "    def get_fraction(self, inp):\n",
                "        numbers = inp.replace('/', \" \").split()\n",
                "        if len(numbers) == 3:\n",
                "            return MixedFraction(int(numbers[1]), int(numbers[2]), int(numbers[0]))\n",
                "        return MixedFraction(int(numbers[0]), int(numbers[1]))\n",
                "    \n",
                "    def evaluate(self):\n",
                "        while not self.expression.is_empty:\n",
                "            # dequeue from self.expression\n",
                "            item = self.expression.remove_front()\n",
                "            # if item is a string, meaning an operator, \n",
                "            if type(item) == str:\n",
                "                # process the operator, meaning, remove 2 from the top of stack and do process_operator, result is saved into item\n",
                "                item = self.process_operator(self.stack.remove_rear(), self.stack.remove_rear(), item)\n",
                "            # item is added to the stack, it will always be a Fraction added\n",
                "            self.stack.add_rear(item)\n",
                "        # at the end, there should only be one Fraction left in stack, so just remove it \n",
                "        return self.stack.remove_front()"
            ]
        },
        {
            "cell_type": "code",
            "execution_count": 227,
            "metadata": {
                "colab": [],
                "colab_type": "code",
                "collapsed": true,
                "deletable": false,
                "editable": false,
                "id": "hXuogyRHHgwb",
                "nbgrader": {
                    "grade": true,
                    "grade_id": "hw31",
                    "locked": true,
                    "points": "1",
                    "solution": false
                }
            },
            "outputs": [],
            "source": [
                "pe = EvaluateMixedFraction()\n",
                "pe.input(\"3/2\")\n",
                "pe.input(\"1 2/3\")\n",
                "pe.input(\"+\")\n",
                "assert pe.evaluate() == MixedFraction(1, 6, 3)\n",
                "\n",
                "pe.input(\"1/2\")\n",
                "pe.input(\"2/3\")\n",
                "pe.input(\"+\")\n",
                "pe.input(\"1 1/8\")\n",
                "pe.input(\"-\")\n",
                "assert pe.evaluate() == MixedFraction(1, 24)\n",
                "\n",
                "pe.input(\"1 1/2\")\n",
                "pe.input(\"2 2/3\")\n",
                "pe.input(\"+\")\n",
                "pe.input(\"1 1/6\")\n",
                "pe.input(\"-\")\n",
                "pe.input(\"5/4\")\n",
                "pe.input(\"*\")\n",
                "assert pe.evaluate() == MixedFraction( 3, 4, 3)"
            ]
        },
        {
            "cell_type": "code",
            "execution_count": 228,
            "metadata": {
                "deletable": false,
                "editable": false,
                "nbgrader": {
                    "grade": true,
                    "grade_id": "hw32",
                    "locked": true,
                    "points": "1",
                    "solution": false
                }
            },
            "outputs": [],
            "source": [
                "###\n",
                "### YOUR CODE HERE\n",
                "###\n"
            ]
        },
        {
            "cell_type": "markdown",
            "metadata": {
                "deletable": false,
                "editable": false,
                "nbgrader": {
                    "grade": false,
                    "locked": true,
                    "solution": false
                }
            },
            "source": [
                "**HW4.** *Linked List:* We are going to implement Linked List Abstract Data Type. To do so, we will implement two classes: `Node` and `MyLinkedList`. In this part, we will implement the class Node.\n",
                "\n",
                "The class `Node` has the following attribute and computed property:\n",
                "- `element`: which stores the value of the item in that node.\n",
                "- `next`: which stores the reference to the next `Node` in the list. The setter method should check if the value assigned is of type `Node`.\n",
                "\n",
                "\n",
                "\n"
            ]
        },
        {
            "cell_type": "code",
            "execution_count": 229,
            "metadata": {
                "collapsed": true
            },
            "outputs": [],
            "source": [
                "class Node:\n",
                "    def __init__(self, e):\n",
                "        self.element = e\n",
                "        self.__next = None\n",
                "               \n",
                "    @property\n",
                "    def next(self):\n",
                "        return self.__next\n",
                "    \n",
                "    @next.setter\n",
                "    def next(self, value):\n",
                "        # check if value is an instance of Node object\n",
                "        # you can use isinstance() function\n",
                "        if isinstance(value, Node):\n",
                "            self.__next = value\n"
            ]
        },
        {
            "cell_type": "markdown",
            "metadata": {
                "deletable": false,
                "editable": false,
                "nbgrader": {
                    "grade": false,
                    "locked": true,
                    "solution": false
                }
            },
            "source": [
                "**HW5.** This is a continuation to implement a Linked List. The class `MyLinkedList` has two different properties:\n",
                "- `head`: which points to the `Node` of the first element.\n",
                "- `tail`: which points to the `Node` of the last element.\n",
                "\n",
                "It should also have the following methods:\n",
                "- `__init__(items)`: which create the link list object based using the arguments.\n",
                "- `_get(index)`: which returns the item at the given `index`.\n",
                "- `_add_first(item)`: which adds the `item` as the first element.\n",
                "- `_add_last(item)`: which adds the `item` as the last element.\n",
                "- `_add_at(index, item)`: which adds the `item` at the position `index`.\n",
                "- `_remove_first(item)`: which removes the `item` as the first element.\n",
                "- `_remove_last(item)`: which removes the `item` as the last element.\n",
                "- `_remove_at(index, item)`: which removes the `item` at the position `index`.\n"
            ]
        },
        {
            "cell_type": "code",
            "execution_count": 230,
            "metadata": {
                "collapsed": true
            },
            "outputs": [],
            "source": [
                "import collections.abc as c\n",
                "\n",
                "class MyAbstractList(c.Iterator):\n",
                "    \n",
                "    def __init__(self, list_items):\n",
                "        # iterate over every element and call self.append(item)\n",
                "        self.size = 0\n",
                "        self._idx = 0\n",
                "        for i in list_items:\n",
                "            self.append(i)\n",
                "    \n",
                "    \n",
                "    @property\n",
                "    def is_empty(self):\n",
                "        return self.size == 0\n",
                "    \n",
                "    def append(self, item):\n",
                "        self._add_at(self.size, item)\n",
                "        \n",
                "    def remove(self, item):\n",
                "        idx = self._index_of(item)\n",
                "        # _index_of returns -1 if the item is not in the data, so we need to account for -1 which we are not supposed to remove\n",
                "        if idx >= 0:\n",
                "            self._remove_at(idx)\n",
                "        \n",
                "    def __getitem__(self, index):\n",
                "        return self._get(index)\n",
                "    \n",
                "    def __setitem__(self, index, value):\n",
                "        self._set_at(index, value)\n",
                "        \n",
                "    def __delitem__(self, index):\n",
                "        self._remove_at(index)\n",
                "    \n",
                "    def __len__(self):\n",
                "        return self.size\n",
                "        \n",
                "    def __iter__(self):\n",
                "        self._idx = 0\n",
                "        return self\n",
                "        \n",
                "    def __next__(self):\n",
                "        if self._idx < self.size:\n",
                "            n_item = self._get(self._idx)\n",
                "            self._idx += 1\n",
                "            return n_item\n",
                "        else:\n",
                "            raise StopIteration\n",
                "    \n",
                "    # the following methods should be implemented in the child class\n",
                "    def _get(self, index):\n",
                "        pass\n",
                "\n",
                "    def _set_at(self, index, item):\n",
                "        pass\n",
                "\n",
                "    def _add_at(self, index, item):\n",
                "        pass\n",
                "\n",
                "    def _remove_at(self, index):\n",
                "        pass\n",
                "\n",
                "    def _index_of(self, item):\n",
                "        pass"
            ]
        },
        {
            "cell_type": "code",
            "execution_count": 234,
            "metadata": {
                "collapsed": true
            },
            "outputs": [],
            "source": [
                "class MyLinkedList(MyAbstractList):\n",
                "    def __init__(self, items):\n",
                "        self.head = None\n",
                "        self.tail = None\n",
                "        super().__init__(items)\n",
                "        \n",
                "    def _get(self, index):\n",
                "        # do the following:\n",
                "        # 1. traverse to the node at index\n",
                "        # 2. return the element of that node\n",
                "        curr = self._goto(index)\n",
                "        return curr.element\n",
                "    \n",
                "    def _goto(self, index):\n",
                "        # FROM INDEX 0\n",
                "        curr = self.head\n",
                "        # TRAVERSE TO INDEX\n",
                "        for i in range(index):\n",
                "            curr = curr.next\n",
                "        return curr\n",
                "    \n",
                "    def _add_first(self, element):\n",
                "        # do the following:\n",
                "        # 1. create a new Node object using element\n",
                "        # 2. set the current head reference as the next reference of the new node\n",
                "        # 3. increase size by 1\n",
                "        # 4. if this is the last element (no tail) -> set the current node as the tail\n",
                "        new = Node(element)\n",
                "        new.next = self.head\n",
                "        if not self.head:\n",
                "            self.tail = new\n",
                "        self.head = new\n",
                "        self.size += 1\n",
                "        \n",
                "    def _add_last(self, element):\n",
                "        # do the following:\n",
                "        # 1. create a new Node object using element\n",
                "        # 2. if there is no element as tail -> set the new node as both\n",
                "        #    the tail and the head\n",
                "        # 3. otherwise, -> \n",
                "        #    - set the new node as the next reference of the tail\n",
                "        #    - set new node as tail\n",
                "        '''\n",
                "        TAKE NOTE!!! \n",
                "        this is in the ogiginal instructions,\n",
                "        set the next reference of the current node as the tail's next reference (what the are they smoking???? this is wrong)\n",
                "        '''\n",
                "        # 4. increase size by 1\n",
                "        new = Node(element)\n",
                "        if not self.tail:\n",
                "            self.head = new\n",
                "        else:\n",
                "            self.tail.next = new\n",
                "        self.tail = new\n",
                "        self.size += 1\n",
                "        \n",
                "    def _add_at(self, index, element):\n",
                "        if index == 0:\n",
                "            self._add_first(element)\n",
                "\n",
                "        elif index >= self.size:\n",
                "            # if insert at last position or more, call add_last() method\n",
                "            self._add_last(element)\n",
                "            \n",
                "        else:\n",
                "            # if insert in between, do the following:\n",
                "            # 1. start from the head, traverse the linked list to get\n",
                "            #    the reference at position index-1 using its next reference\n",
                "            # 2. create a new Node\n",
                "            # 3. set the next of the current node as the next of the new Node\n",
                "            # 4. set the new node as the next of the current node\n",
                "            # 5. increase the size by 1\n",
                "            curr = self._goto(index-1)\n",
                "            new = Node(element)\n",
                "            new.next = curr.next\n",
                "            curr.next = new\n",
                "            self.size += 1\n",
                "\n",
                "    def _set_at(self, index, element):\n",
                "        if 0 <= index < self.size:\n",
                "            current = self._goto(index)\n",
                "            current.element = element\n",
                "            \n",
                "    def _remove_first(self):\n",
                "        if self.size == 0:\n",
                "            # if list is empty, return None\n",
                "            return None\n",
                "        else:\n",
                "            # otherwise, do the following:\n",
                "            # 1. store the head at a temporary variable\n",
                "            # 2. set the next reference of the current head to be the head\n",
                "            # 3. reduce size by 1\n",
                "            # 4. if the new head is now None, it means empty list\n",
                "            #    -> set the tail to be None also\n",
                "            # 5. return element of the removed node\n",
                "            temp = self.head\n",
                "            self.head = self.head.next\n",
                "            self.size -= 1\n",
                "            if not self.head:\n",
                "                self.tail = None\n",
                "            return temp.element\n",
                "        \n",
                "        \n",
                "    def _remove_last(self):\n",
                "        if self.size == 0:\n",
                "            # if the list is empty, return None\n",
                "            return None\n",
                "        elif self.size == 1:\n",
                "            # if there is only one element, just remove that one node \n",
                "            # using some other method\n",
                "            return self._remove_first()\n",
                "\n",
                "        else:\n",
                "            # otherwise, do the following:\n",
                "            # 1. traverse to the second last node\n",
                "            # 2. store the tail of the list to a temporary variable\n",
                "            # 3. set the current node as the tail\n",
                "            # 4. set the next ref of the tail to be None\n",
                "            # 5. reduce the size by 1\n",
                "            # 6. return the element of the removed node in the temp var\n",
                "            curr = self._goto(self.size-2)\n",
                "            temp = self.tail\n",
                "            self.tail = curr\n",
                "            self.tail.next = None\n",
                "            self.size -= 1\n",
                "            return temp.element\n",
                "\n",
                "    def _remove_at(self, index):\n",
                "        if index < 0 or index >= self.size:\n",
                "            return None\n",
                "        elif index == 0:\n",
                "            return self._remove_first()\n",
                "        elif index == self.size - 1:\n",
                "            return self._remove_last()\n",
                "        else:\n",
                "            # do the following:\n",
                "            # 1. traverse to the node at index - 1\n",
                "            # 2. get the node at index using next reference\n",
                "            # 3. set the next node of the node at index - 1\n",
                "            # 4. decrease the size by 1\n",
                "            # 5. return the element that is removed\n",
                "            curr = self._goto(index-1)\n",
                "            temp = curr.next\n",
                "            curr.next = temp.next\n",
                "            self.size -= 1\n",
                "            return temp.element"
            ]
        },
        {
            "cell_type": "code",
            "execution_count": 235,
            "metadata": {
                "collapsed": true,
                "deletable": false,
                "editable": false,
                "nbgrader": {
                    "grade": true,
                    "grade_id": "hw51",
                    "locked": true,
                    "points": "1",
                    "solution": false
                }
            },
            "outputs": [],
            "source": [
                "asean = MyLinkedList(['Singapore', 'Malaysia'])\n",
                "assert asean.head.element == 'Singapore'\n",
                "assert asean.tail.element == 'Malaysia'\n",
                "asean.append('Indonesia')\n",
                "assert asean.tail.element == 'Indonesia'\n",
                "asean._add_at(0, 'Brunei')\n",
                "assert asean.head.element == 'Brunei'\n",
                "assert asean.size == 4\n",
                "assert len(asean) == 4\n",
                "asean[0] = 'Cambodia'\n",
                "assert asean[0] == 'Cambodia' and asean[1] == 'Singapore'\n",
                "asean[2] = 'Myanmar'\n",
                "assert(len(asean)) == 4 \n",
                "assert [x for x in asean] == ['Cambodia', 'Singapore', 'Myanmar', 'Indonesia']\n",
                "\n",
                "del asean[0]\n",
                "assert [x for x in asean] == ['Singapore', 'Myanmar', 'Indonesia']\n",
                "\n",
                "asean._add_at(2, 'Brunei')\n",
                "assert [x for x in asean] == ['Singapore', 'Myanmar', 'Brunei', 'Indonesia']\n",
                "del asean[3]\n",
                "assert [x for x in asean] == ['Singapore', 'Myanmar', 'Brunei']\n",
                "del asean[1]\n",
                "assert [x for x in asean] == ['Singapore', 'Brunei']\n",
                "del asean[1]\n",
                "assert [x for x in asean] == ['Singapore']\n",
                "del asean[0]\n",
                "assert [x for x in asean] == []"
            ]
        },
        {
            "cell_type": "code",
            "execution_count": 233,
            "metadata": {
                "deletable": false,
                "editable": false,
                "nbgrader": {
                    "grade": true,
                    "grade_id": "hw52",
                    "locked": true,
                    "points": "1",
                    "solution": false
                }
            },
            "outputs": [],
            "source": [
                "###\n",
                "### AUTOGRADER TEST - DO NOT REMOVE\n",
                "###\n"
            ]
        },
        {
            "cell_type": "code",
            "execution_count": null,
            "metadata": {},
            "outputs": [],
            "source": []
        }
    ],
    "metadata": {
        "kernelspec": {
            "display_name": "Python 3.10.4 64-bit",
            "language": "python",
            "name": "python3"
        },
        "language_info": {
            "codemirror_mode": {
                "name": "ipython",
                "version": 3
            },
            "file_extension": ".py",
            "mimetype": "text/x-python",
            "name": "python",
            "nbconvert_exporter": "python",
            "pygments_lexer": "ipython3",
            "version": "3.10.4"
        },
        "vscode": {
            "interpreter": {
                "hash": "369f2c481f4da34e4445cda3fffd2e751bd1c4d706f27375911949ba6bb62e1c"
            }
        }
    },
    "nbformat": 4,
    "nbformat_minor": 4
}
