{
    "cells": [
        {
            "cell_type": "code",
            "execution_count": 1,
            "metadata": {
                "collapsed": true,
                "nbgrader": {
                    "grade": false,
                    "locked": true,
                    "solution": false
                },
                "editable": false,
                "deletable": false
            },
            "outputs": [],
            "source": [
                "### Grading script code \n",
                "### You don't need to read this, proceed to the next cell\n",
                "import sys\n",
                "import functools\n",
                "ipython = get_ipython()\n",
                "\n",
                "def set_traceback(val):\n",
                "    method_name = \"showtraceback\"\n",
                "    setattr(\n",
                "        ipython,\n",
                "        method_name,\n",
                "        functools.partial(\n",
                "            getattr(ipython, method_name),\n",
                "            exception_only=(not val)\n",
                "        )\n",
                "    )\n",
                "\n",
                "class AnswerError(Exception):\n",
                "  def __init__(self, message):\n",
                "    pass\n",
                "\n",
                "def exec_test(f, question):\n",
                "    try:\n",
                "        f()\n",
                "        print(question + \" Pass\")\n",
                "    except:\n",
                "        set_traceback(False) # do not remove\n",
                "        raise AnswerError(question + \" Fail\")"
            ]
        },
        {
            "cell_type": "markdown",
            "metadata": {
                "nbgrader": {
                    "grade": false,
                    "locked": true,
                    "solution": false
                },
                "editable": false,
                "deletable": false
            },
            "source": [
                "# Week 9 Problem Set\n",
                "\n",
                "## Cohort Session"
            ]
        },
        {
            "cell_type": "code",
            "execution_count": 2,
            "metadata": {
                "collapsed": true,
                "nbgrader": {
                    "grade": false,
                    "locked": true,
                    "solution": false
                },
                "editable": false,
                "deletable": false
            },
            "outputs": [],
            "source": [
                "import numpy as np\n",
                "import pandas as pd\n",
                "import matplotlib.pyplot as plt\n",
                "import seaborn as sns"
            ]
        },
        {
            "cell_type": "markdown",
            "metadata": {
                "nbgrader": {
                    "grade": false,
                    "locked": true,
                    "solution": false
                },
                "editable": false,
                "deletable": false
            },
            "source": [
                "**CS0.** *Plot:* Read data for Boston Housing Prices and write a function `get_features_targets()` to get the columns for the features and the targets from the input argument data frame. The function should take in Pandas' dataframe and two lists. The first list is for the feature names and the other list is for the target names. \n",
                "\n",
                "We will use the following columns for our test cases:\n",
                "- x data: RM column - use z normalization (standardization)\n",
                "- y data: MEDV column\n",
                "\n",
                "**Make sure you return a new data frame for both the features and the targets.**\n",
                "\n",
                "We will normalize the feature using z normalization. Plot the data using scatter plot. \n",
                "\n"
            ]
        },
        {
            "cell_type": "code",
            "execution_count": 3,
            "metadata": {
                "collapsed": true
            },
            "outputs": [],
            "source": [
                "def normalize_z(df):\n",
                "    ###\n",
                "    ### YOUR CODE HERE\n",
                "    ###\n",
                "    pass"
            ]
        },
        {
            "cell_type": "code",
            "execution_count": 4,
            "metadata": {
                "collapsed": true
            },
            "outputs": [],
            "source": [
                "def get_features_targets(df, feature_names, target_names):\n",
                "    ###\n",
                "    ### YOUR CODE HERE\n",
                "    ###\n",
                "    pass\n",
                "    return df_feature, df_target"
            ]
        },
        {
            "cell_type": "code",
            "execution_count": 5,
            "metadata": {
                "collapsed": true,
                "nbgrader": {
                    "grade": true,
                    "grade_id": "cs01",
                    "locked": true,
                    "points": "1",
                    "solution": false
                },
                "editable": false,
                "deletable": false
            },
            "outputs": [],
            "source": [
                "df = pd.read_csv(\"housing_processed.csv\")\n",
                "df_feature, df_target = get_features_targets(df,[\"RM\"],[\"MEDV\"])\n",
                "df_feature = normalize_z(df_feature)\n",
                "\n",
                "assert isinstance(df_feature, pd.DataFrame)\n",
                "assert isinstance(df_target, pd.DataFrame)\n",
                "assert np.isclose(df_feature.mean(), 0.0)\n",
                "assert np.isclose(df_feature.std(), 1.0)\n",
                "assert np.isclose(df_target.mean(), 22.532806)\n",
                "assert np.isclose(df_target.std(), 9.1971)\n"
            ]
        },
        {
            "cell_type": "code",
            "execution_count": 6,
            "metadata": {
                "nbgrader": {
                    "grade": true,
                    "grade_id": "cs02",
                    "locked": true,
                    "points": "1",
                    "solution": false
                },
                "editable": false,
                "deletable": false
            },
            "outputs": [],
            "source": [
                "###\n",
                "### AUTOGRADER TEST - DO NOT REMOVE\n",
                "###\n"
            ]
        },
        {
            "cell_type": "code",
            "execution_count": 7,
            "metadata": {
                "nbgrader": {
                    "grade": false,
                    "locked": true,
                    "solution": false
                },
                "editable": false,
                "deletable": false
            },
            "outputs": [],
            "source": [
                "sns.set()\n",
                "plt.scatter(df_feature, df_target)"
            ]
        },
        {
            "cell_type": "markdown",
            "metadata": {
                "nbgrader": {
                    "grade": false,
                    "locked": true,
                    "solution": false
                },
                "editable": false,
                "deletable": false
            },
            "source": [
                "**CS1.** *Cost Function:* Write a function `compute_cost()` to compute the cost function of a linear regression model. The function should take in two 2-D numpy arrays. The first one is the matrix of the linear equation and the second one is the actual target value.\n",
                "\n",
                "Recall that:\n",
                "\n",
                "$$J(\\hat{\\beta}_0, \\hat{\\beta}_1) = \\frac{1}{2m}\\Sigma^m_{i=1}\\left(\\hat{y}(x^i)-y^i\\right)^2$$\n",
                "\n",
                "where\n",
                "\n",
                "$$\\hat{y}(x^i) = \\hat{\\beta}_0 + \\hat{\\beta}_1 x^i$$\n",
                "\n",
                "The function should receive a numpy array, so we will need to convert to numpy array and change the shape. To do this, we will create three other functions:\n",
                "- `calc_linear(X, b)`: which is used to calculate the $\\hat{y} = Xb$ vector.\n",
                "- `prepare_feature(df)`: which takes in a data frame for the feature. The function should convert the data frame to a numpy array and change it into a column vector. The function should also add a column of constant 1s in the first column.\n",
                "- `prepare_target(df)`: which takes in a data frame for the target. The function should simply convert the data frame to a numpy array and change it into column vectors. **The function should be able to handle if the data frame has more than one column.**\n",
                "\n",
                "You can use the following methods in your code:\n",
                "- `df.to_numpy()`: which is to convert a Pandas data frame to Numpy array.\n",
                "- `np.reshape(row, col)`: which is to reshape the numpy array to a particular shape.\n",
                "- `np.concatenate((array1, array2), axis)`: which is to join a sequence of arrays along an existing axis.\n",
                "- `np.matmul(array1, array2)`: which is to do matrix multiplication on two Numpy arrays.\n"
            ]
        },
        {
            "cell_type": "code",
            "execution_count": 8,
            "metadata": {
                "collapsed": true
            },
            "outputs": [],
            "source": [
                "def calc_linear(X, beta):\n",
                "    ###\n",
                "    ### YOUR CODE HERE\n",
                "    ###\n",
                "    pass"
            ]
        },
        {
            "cell_type": "code",
            "execution_count": 9,
            "metadata": {
                "collapsed": true
            },
            "outputs": [],
            "source": [
                "def compute_cost(X, y, beta):\n",
                "    J = 0\n",
                "    ###\n",
                "    ### YOUR CODE HERE\n",
                "    ###\n",
                "    return J\n"
            ]
        },
        {
            "cell_type": "code",
            "execution_count": 10,
            "metadata": {
                "collapsed": true
            },
            "outputs": [],
            "source": [
                "def prepare_feature(df_feature):\n",
                "    ###\n",
                "    ### YOUR CODE HERE\n",
                "    ###\n",
                "    pass"
            ]
        },
        {
            "cell_type": "code",
            "execution_count": 11,
            "metadata": {
                "collapsed": true
            },
            "outputs": [],
            "source": [
                "def prepare_target(df_target):\n",
                "    ###\n",
                "    ### YOUR CODE HERE\n",
                "    ###\n",
                "    pass"
            ]
        },
        {
            "cell_type": "code",
            "execution_count": 12,
            "metadata": {
                "collapsed": true,
                "nbgrader": {
                    "grade": true,
                    "grade_id": "cs11",
                    "locked": true,
                    "points": "1",
                    "solution": false
                },
                "editable": false,
                "deletable": false
            },
            "outputs": [],
            "source": [
                "X = prepare_feature(df_feature)\n",
                "target = prepare_target(df_target)\n",
                "\n",
                "assert isinstance(X, np.ndarray)\n",
                "assert isinstance(target, np.ndarray)\n",
                "assert X.shape == (506, 2)\n",
                "assert target.shape == (506, 1)"
            ]
        },
        {
            "cell_type": "code",
            "execution_count": 13,
            "metadata": {
                "nbgrader": {
                    "grade": true,
                    "grade_id": "cs12",
                    "locked": true,
                    "points": "1",
                    "solution": false
                },
                "editable": false,
                "deletable": false
            },
            "outputs": [],
            "source": [
                "###\n",
                "### AUTOGRADER TEST - DO NOT REMOVE\n",
                "###\n"
            ]
        },
        {
            "cell_type": "code",
            "execution_count": 14,
            "metadata": {
                "nbgrader": {
                    "grade": true,
                    "grade_id": "cs13",
                    "locked": true,
                    "points": "1",
                    "solution": false
                },
                "editable": false,
                "deletable": false
            },
            "outputs": [],
            "source": [
                "# print(X)\n",
                "beta = np.zeros((2,1))\n",
                "J = compute_cost(X, target, beta)\n",
                "print(J)\n",
                "assert np.isclose(J, 296.0735)\n",
                "\n",
                "beta = np.ones((2,1))\n",
                "J = compute_cost(X, target, beta)\n",
                "print(J)\n",
                "assert np.isclose(J, 268.157)\n",
                "\n",
                "beta = np.array([-1, 2]).reshape((2,1))\n",
                "J = compute_cost(X, target, beta)\n",
                "print(J)\n",
                "assert np.isclose(J, 308.337)\n"
            ]
        },
        {
            "cell_type": "code",
            "execution_count": 15,
            "metadata": {
                "nbgrader": {
                    "grade": true,
                    "grade_id": "cs14",
                    "locked": true,
                    "points": "1",
                    "solution": false
                },
                "editable": false,
                "deletable": false
            },
            "outputs": [],
            "source": [
                "###\n",
                "### AUTOGRADER TEST - DO NOT REMOVE\n",
                "###\n"
            ]
        },
        {
            "cell_type": "markdown",
            "metadata": {
                "nbgrader": {
                    "grade": false,
                    "locked": true,
                    "solution": false
                },
                "editable": false,
                "deletable": false
            },
            "source": [
                "**CS2.** *Gradient Descent:* Write a function called `gradient_descent()` that takes in these parameters:\n",
                "- `X`: is a 2-D numpy array for the features\n",
                "- `y`: is a vector array for the target\n",
                "- `beta`: is a column vector for the initial guess of the parameters\n",
                "- `alpha`: is the learning rate\n",
                "- `num_iters`: is the number of iteration to perform\n",
                "\n",
                "The function should return two numpy arrays:\n",
                "- `beta`: is coefficient at the end of the iteration\n",
                "- `J_storage`: is the array that stores the cost value at each iteration\n",
                "\n",
                "You can use some of the following functions:\n",
                "- `calc_linear(X, b)`: which is used to calculate $y = Xb$ vector.\n",
                "- `np.matmul(array1, array2)`: which is to do matrix multiplication on two Numpy arrays.\n",
                "- `compute_cost()`: which the function you created in the previous problem set to compute the cost."
            ]
        },
        {
            "cell_type": "code",
            "execution_count": 16,
            "metadata": {
                "collapsed": true
            },
            "outputs": [],
            "source": [
                "def gradient_descent(X, y, beta, alpha, num_iters):\n",
                "    ###\n",
                "    ### YOUR CODE HERE\n",
                "    ###\n",
                "    return beta, J_storage"
            ]
        },
        {
            "cell_type": "code",
            "execution_count": 17,
            "metadata": {
                "nbgrader": {
                    "grade": true,
                    "grade_id": "cs21",
                    "locked": true,
                    "points": "1",
                    "solution": false
                },
                "editable": false,
                "deletable": false
            },
            "outputs": [],
            "source": [
                "iterations = 1500\n",
                "alpha = 0.01\n",
                "beta = np.zeros((2,1))\n",
                "\n",
                "beta, J_storage = gradient_descent(X, target, beta, alpha, iterations)\n",
                "print(beta)\n",
                "assert np.isclose(beta[0], 22.5328)\n",
                "assert np.isclose(beta[1], 6.3953)"
            ]
        },
        {
            "cell_type": "code",
            "execution_count": 18,
            "metadata": {
                "nbgrader": {
                    "grade": true,
                    "grade_id": "cs22",
                    "locked": true,
                    "points": "1",
                    "solution": false
                },
                "editable": false,
                "deletable": false
            },
            "outputs": [],
            "source": [
                "###\n",
                "### AUTOGRADER TEST - DO NOT REMOVE\n",
                "###\n"
            ]
        },
        {
            "cell_type": "code",
            "execution_count": 19,
            "metadata": {
                "nbgrader": {
                    "grade": false,
                    "locked": true,
                    "solution": false
                },
                "editable": false,
                "deletable": false
            },
            "outputs": [],
            "source": [
                "plt.plot(J_storage)"
            ]
        },
        {
            "cell_type": "markdown",
            "metadata": {
                "nbgrader": {
                    "grade": false,
                    "locked": true,
                    "solution": false
                },
                "editable": false,
                "deletable": false
            },
            "source": [
                "**CS3.** *Predict:* Write the function `predict()` that calculates the straight line equation given the features and its coefficient.\n",
                "- `predict()`: this function should standardize the feature using z normalization, change it to a Numpy array, and add a column of constant 1s. You should use `prepare_feature()` for this purpose. Lastly, this function should also call `predict_norm()` to get the predicted y values.\n",
                "\n",
                "You can use some of the following functions:\n",
                "- `calc_linear(X, beta)`: which is used to calculate the predicted y after X has been normalized and added by a constant.\n",
                "- `np.matmul(array1, array2)`: which is to do matrix multiplication on two Numpy arrays.\n",
                "- `normalize_z(df)`: which is to do z normalization on the data frame."
            ]
        },
        {
            "cell_type": "code",
            "execution_count": 20,
            "metadata": {
                "collapsed": true
            },
            "outputs": [],
            "source": [
                "def predict(df_feature, beta):\n",
                "    ###\n",
                "    ### YOUR CODE HERE\n",
                "    ###\n",
                "    pass"
            ]
        },
        {
            "cell_type": "code",
            "execution_count": 21,
            "metadata": {
                "collapsed": true,
                "nbgrader": {
                    "grade": true,
                    "grade_id": "cs31",
                    "locked": true,
                    "points": "1",
                    "solution": false
                },
                "editable": false,
                "deletable": false
            },
            "outputs": [],
            "source": [
                "df_feature, buf = get_features_targets(df, [\"RM\"], [])\n",
                "beta = [[22.53279993],[ 6.39529594]] # from previous result\n",
                "pred = predict(df_feature, beta)\n",
                "\n",
                "assert isinstance(pred, np.ndarray)\n",
                "assert pred.shape == (506, 1)\n",
                "assert np.isclose(pred.mean(), 22.5328)\n",
                "assert np.isclose(pred.std(), 6.38897)"
            ]
        },
        {
            "cell_type": "code",
            "execution_count": 22,
            "metadata": {
                "nbgrader": {
                    "grade": true,
                    "grade_id": "cs32",
                    "locked": true,
                    "points": "1",
                    "solution": false
                },
                "editable": false,
                "deletable": false
            },
            "outputs": [],
            "source": [
                "###\n",
                "### AUTOGRADER TEST - DO NOT REMOVE\n",
                "###\n"
            ]
        },
        {
            "cell_type": "code",
            "execution_count": 23,
            "metadata": {
                "nbgrader": {
                    "grade": false,
                    "locked": true,
                    "solution": false
                },
                "editable": false,
                "deletable": false
            },
            "outputs": [],
            "source": [
                "plt.plot(df_feature[\"RM\"],target,'o')\n",
                "plt.plot(df_feature[\"RM\"],pred,'-')"
            ]
        },
        {
            "cell_type": "markdown",
            "metadata": {
                "nbgrader": {
                    "grade": false,
                    "locked": true,
                    "solution": false
                },
                "editable": false,
                "deletable": false
            },
            "source": [
                "**CS4.** *Splitting data:* Do the following tasks:\n",
                "- Read RM as the feature and MEDV as the target from the data frame.\n",
                "- Use Week 9's function `split_data()` to split the data into train and test using `random_state=100` and `test_size=0.3`. \n",
                "- Normalize and prepare the features and the target.\n",
                "- Use the training data set and call `gradient_descent()` to obtain the `theta`.\n",
                "- Use the test data set to get the predicted values.\n",
                "\n",
                "You need to replace the `None` in the code below with other a function call or any other Python expressions. "
            ]
        },
        {
            "cell_type": "code",
            "execution_count": 24,
            "metadata": {
                "collapsed": true
            },
            "outputs": [],
            "source": [
                "def split_data(df_feature, df_target, random_state=None, test_size=0.5):\n",
                "    ###\n",
                "    ### YOUR CODE HERE\n",
                "    ###\n",
                "    return df_feature_train, df_feature_test, df_target_train, df_target_test\n",
                "  "
            ]
        },
        {
            "cell_type": "code",
            "execution_count": 25,
            "metadata": {
                "collapsed": true
            },
            "outputs": [],
            "source": [
                "# get features and targets from data frame\n",
                "df_feature, df_target = (None, None)\n",
                "\n",
                "# split the data into training and test data sets\n",
                "df_feature_train, df_feature_test, df_target_train, df_target_test = (None, None, None, None)\n",
                "\n",
                "# normalize the feature using z normalization\n",
                "df_feature_train_z = None\n",
                "\n",
                "X = None\n",
                "target = None\n",
                "\n",
                "iterations = 1500\n",
                "alpha = 0.01\n",
                "beta = np.zeros((2,1))\n",
                "\n",
                "# call the gradient_descent function\n",
                "beta, J_storage = None, None\n",
                "\n",
                "# call the predict method to get the predicted values\n",
                "pred = None\n",
                "\n",
                "###\n",
                "### YOUR CODE HERE\n",
                "###\n"
            ]
        },
        {
            "cell_type": "code",
            "execution_count": 26,
            "metadata": {
                "collapsed": true,
                "nbgrader": {
                    "grade": true,
                    "grade_id": "cs41",
                    "locked": true,
                    "points": "1",
                    "solution": false
                },
                "editable": false,
                "deletable": false
            },
            "outputs": [],
            "source": [
                "\n",
                "assert isinstance(pred, np.ndarray)\n",
                "assert pred.shape == (151, 1)\n",
                "assert np.isclose(pred.mean(), 22.66816)\n",
                "assert np.isclose(pred.std(), 6.257265)\n"
            ]
        },
        {
            "cell_type": "code",
            "execution_count": 27,
            "metadata": {
                "nbgrader": {
                    "grade": true,
                    "grade_id": "cs42",
                    "locked": true,
                    "points": "1",
                    "solution": false
                },
                "editable": false,
                "deletable": false
            },
            "outputs": [],
            "source": [
                "###\n",
                "### AUTOGRADER TEST - DO NOT REMOVE\n",
                "###\n"
            ]
        },
        {
            "cell_type": "code",
            "execution_count": 28,
            "metadata": {
                "nbgrader": {
                    "grade": false,
                    "locked": true,
                    "solution": false
                },
                "editable": false,
                "deletable": false
            },
            "outputs": [],
            "source": [
                "plt.scatter(df_feature_test, df_target_test)\n",
                "plt.plot(df_feature_test, pred, color=\"orange\")"
            ]
        },
        {
            "cell_type": "markdown",
            "metadata": {
                "nbgrader": {
                    "grade": false,
                    "locked": true,
                    "solution": false
                },
                "editable": false,
                "deletable": false
            },
            "source": [
                "**CS5.** *R2 Coefficient of Determination:* Write a function to calculate the coefficient of determination as given by the following equations.\n",
                "\n",
                "$$r^2 = 1 - \\frac{SS_{res}}{SS_{tot}}$$\n",
                "\n",
                "where\n",
                "\n",
                "$$SS_{res} = \\Sigma_{i=1}^n (y_i - \\hat{y}_i)^2$$ \n",
                "\n",
                "where $y_i$ is the actual target value and $\\hat{y}_i$ is the predicted target value.\n",
                "\n",
                "$$SS_{tot} = \\Sigma_{i=1}^n (y_i - \\overline{y})^2$$\n",
                "\n",
                "where \n",
                "$$ \\overline{y} = \\frac{1}{n} \\Sigma_{i=1}^n y_i$$\n",
                "and $n$ is the number of target values.\n",
                "\n",
                "You can use the following functions in your code:\n",
                "- `np.mean(array)`: which is to get the mean of the array. You can also call it using `array.mean()`.\n",
                "- `np.sum(array)`: which is to sum the array along a default axis. You can specify which axis to perform the summation."
            ]
        },
        {
            "cell_type": "code",
            "execution_count": 29,
            "metadata": {
                "collapsed": true
            },
            "outputs": [],
            "source": [
                "def r2_score(y, ypred):\n",
                "    ###\n",
                "    ### YOUR CODE HERE\n",
                "    ###\n",
                "    pass"
            ]
        },
        {
            "cell_type": "code",
            "execution_count": 30,
            "metadata": {
                "nbgrader": {
                    "grade": true,
                    "grade_id": "cs51",
                    "locked": true,
                    "points": "1",
                    "solution": false
                },
                "editable": false,
                "deletable": false
            },
            "outputs": [],
            "source": [
                "target = prepare_target(df_target_test)\n",
                "r2 = r2_score(target, pred)\n",
                "print(r2)\n",
                "assert np.isclose(r2, 0.45398)"
            ]
        },
        {
            "cell_type": "markdown",
            "metadata": {
                "nbgrader": {
                    "grade": false,
                    "locked": true,
                    "solution": false
                },
                "editable": false,
                "deletable": false
            },
            "source": [
                "**CS6.** *Mean Squared Error:* Create a function to calculate the MSE as given below.\n",
                "\n",
                "$$MSE = \\frac{1}{n}\\Sigma_{i=1}^n(y^i - \\hat{y}^i)^2$$\n"
            ]
        },
        {
            "cell_type": "code",
            "execution_count": 31,
            "metadata": {
                "collapsed": true
            },
            "outputs": [],
            "source": [
                "def mean_squared_error(target, pred):\n",
                "    ###\n",
                "    ### YOUR CODE HERE\n",
                "    ###\n",
                "    pass"
            ]
        },
        {
            "cell_type": "code",
            "execution_count": 32,
            "metadata": {
                "nbgrader": {
                    "grade": true,
                    "grade_id": "cs61",
                    "locked": true,
                    "points": "1",
                    "solution": false
                },
                "editable": false,
                "deletable": false
            },
            "outputs": [],
            "source": [
                "mse = mean_squared_error(target, pred)\n",
                "print(mse)\n",
                "assert np.isclose(mse, 53.6375)"
            ]
        },
        {
            "cell_type": "markdown",
            "metadata": {
                "nbgrader": {
                    "grade": false,
                    "locked": true,
                    "solution": false
                },
                "editable": false,
                "deletable": false
            },
            "source": [
                "**CS8.** *Optional:* Redo the above tasks using Sci-kit learn libraries. You will need to use the following:\n",
                "- [LinearRegression](https:\/\/scikit-learn.org\/stable\/modules\/generated\/sklearn.linear_model.LinearRegression.html)\n",
                "- [train_test_split](https:\/\/scikit-learn.org\/stable\/modules\/generated\/sklearn.model_selection.train_test_split.html)\n",
                "- [r2_score](https:\/\/scikit-learn.org\/stable\/modules\/generated\/sklearn.metrics.r2_score.html)\n",
                "- [mean_squared_error](https:\/\/scikit-learn.org\/stable\/modules\/generated\/sklearn.metrics.mean_squared_error.html)"
            ]
        },
        {
            "cell_type": "code",
            "execution_count": 33,
            "metadata": {
                "collapsed": true,
                "nbgrader": {
                    "grade": false,
                    "locked": true,
                    "solution": false
                },
                "editable": false,
                "deletable": false
            },
            "outputs": [],
            "source": [
                "from sklearn.linear_model import LinearRegression\n",
                "from sklearn.model_selection import train_test_split\n",
                "from sklearn.metrics import r2_score, mean_squared_error"
            ]
        },
        {
            "cell_type": "code",
            "execution_count": 34,
            "metadata": {
                "collapsed": true
            },
            "outputs": [],
            "source": [
                "# Read the CSV and extract the features\n",
                "df = None\n",
                "df_feature, df_target = None, None\n",
                "# normalize\n",
                "df_feature = None\n",
                "\n",
                "###\n",
                "### YOUR CODE HERE\n",
                "###\n"
            ]
        },
        {
            "cell_type": "code",
            "execution_count": 35,
            "metadata": {},
            "outputs": [],
            "source": [
                "# Split the data into training and test data set using scikit-learn function\n",
                "df_feature_train, df_feature_test, df_target_train, df_target_test = None, None, None, None\n",
                "\n",
                "# Instantiate LinearRegression() object\n",
                "model = None\n",
                "\n",
                "# Call the fit() method\n",
                "pass\n",
                "\n",
                "###\n",
                "### YOUR CODE HERE\n",
                "###\n",
                "\n",
                "print(model.coef_, model.intercept_)\n",
                "assert np.isclose(model.coef_,[6.05090511])\n",
                "assert np.isclose(model.intercept_, 22.52999668)"
            ]
        },
        {
            "cell_type": "code",
            "execution_count": 36,
            "metadata": {},
            "outputs": [],
            "source": [
                "# Call the predict() method\n",
                "pred = None\n",
                "\n",
                "###\n",
                "### YOUR CODE HERE\n",
                "###\n",
                "\n",
                "print(type(pred), pred.mean(), pred.std())\n",
                "assert isinstance(pred, np.ndarray)\n",
                "assert np.isclose(pred.mean(), 22.361699)\n",
                "assert np.isclose(pred.std(), 5.7011267)"
            ]
        },
        {
            "cell_type": "code",
            "execution_count": 37,
            "metadata": {
                "nbgrader": {
                    "grade": false,
                    "locked": true,
                    "solution": false
                },
                "editable": false,
                "deletable": false
            },
            "outputs": [],
            "source": [
                "plt.scatter(df_feature_test, df_target_test)\n",
                "plt.plot(df_feature_test, pred, color=\"orange\")"
            ]
        },
        {
            "cell_type": "code",
            "execution_count": 38,
            "metadata": {
                "nbgrader": {
                    "grade": false,
                    "locked": true,
                    "solution": false
                },
                "editable": false,
                "deletable": false
            },
            "outputs": [],
            "source": [
                "r2 = r2_score(df_target_test, pred)\n",
                "print(r2)\n",
                "assert np.isclose(r2, 0.457647)"
            ]
        },
        {
            "cell_type": "code",
            "execution_count": 39,
            "metadata": {
                "nbgrader": {
                    "grade": false,
                    "locked": true,
                    "solution": false
                },
                "editable": false,
                "deletable": false
            },
            "outputs": [],
            "source": [
                "mse = mean_squared_error(df_target_test, pred)\n",
                "print(mse)\n",
                "assert np.isclose(mse, 54.93216)"
            ]
        }
    ],
    "metadata": {
        "kernelspec": {
            "display_name": "Python 3 [3.7]",
            "language": "python",
            "name": "python3"
        },
        "language_info": {
            "codemirror_mode": {
                "name": "ipython",
                "version": 3
            },
            "file_extension": ".py",
            "mimetype": "text\/x-python",
            "name": "python",
            "nbconvert_exporter": "python",
            "pygments_lexer": "ipython3",
            "version": "3.7.5"
        },
        "vscode": {
            "interpreter": {
                "hash": "ac37b77c3c0f43e60bec193f0626743b91dd65d8d4aeca5713e457ab7e777e4c"
            }
        }
    },
    "nbformat": 4,
    "nbformat_minor": 4
}